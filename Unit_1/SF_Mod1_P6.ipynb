{
 "metadata": {
  "language_info": {
   "codemirror_mode": {
    "name": "ipython",
    "version": 3
   },
   "file_extension": ".py",
   "mimetype": "text/x-python",
   "name": "python",
   "nbconvert_exporter": "python",
   "pygments_lexer": "ipython3",
   "version": "3.8.8"
  },
  "orig_nbformat": 2,
  "kernelspec": {
   "name": "python388jvsc74a57bd08c38920423de6e40901a66561e1fbd8997b112dd17df359a7fc5123db8187f96",
   "display_name": "Python 3.8.8 64-bit"
  },
  "metadata": {
   "interpreter": {
    "hash": "8c38920423de6e40901a66561e1fbd8997b112dd17df359a7fc5123db8187f96"
   }
  }
 },
 "nbformat": 4,
 "nbformat_minor": 2,
 "cells": [
  {
   "cell_type": "code",
   "execution_count": 10,
   "metadata": {},
   "outputs": [
    {
     "output_type": "execute_result",
     "data": {
      "text/plain": [
       "                 Name  Age Nationality                 Club      Value  \\\n",
       "0            L. Messi   31   Argentina         FC Barcelona  110500000   \n",
       "1   Cristiano Ronaldo   33    Portugal             Juventus   77000000   \n",
       "2           Neymar Jr   26      Brazil  Paris Saint-Germain  118500000   \n",
       "3              De Gea   27       Spain    Manchester United   72000000   \n",
       "4        K. De Bruyne   27     Belgium      Manchester City  102000000   \n",
       "5           E. Hazard   27     Belgium              Chelsea   93000000   \n",
       "6           L. Modrić   32     Croatia          Real Madrid   67000000   \n",
       "7           L. Suárez   31     Uruguay         FC Barcelona   80000000   \n",
       "8        Sergio Ramos   32       Spain          Real Madrid   51000000   \n",
       "9            J. Oblak   25    Slovenia      Atlético Madrid   68000000   \n",
       "10     R. Lewandowski   29      Poland    FC Bayern München   77000000   \n",
       "11           T. Kroos   28     Germany          Real Madrid   76500000   \n",
       "12           D. Godín   32     Uruguay      Atlético Madrid   44000000   \n",
       "13        David Silva   32       Spain      Manchester City   60000000   \n",
       "14           N. Kanté   27      France              Chelsea   63000000   \n",
       "15          P. Dybala   24   Argentina             Juventus   89000000   \n",
       "16            H. Kane   24     England    Tottenham Hotspur   83500000   \n",
       "17       A. Griezmann   27      France      Atlético Madrid   78000000   \n",
       "18      M. ter Stegen   26     Germany         FC Barcelona   58000000   \n",
       "19        T. Courtois   26     Belgium          Real Madrid   53500000   \n",
       "20    Sergio Busquets   29       Spain         FC Barcelona   51500000   \n",
       "21          E. Cavani   31     Uruguay  Paris Saint-Germain   60000000   \n",
       "22           M. Neuer   32     Germany    FC Bayern München   38000000   \n",
       "23          S. Agüero   30   Argentina      Manchester City   64500000   \n",
       "24       G. Chiellini   33       Italy             Juventus   27000000   \n",
       "\n",
       "      Wage Position  \n",
       "0   565000       RF  \n",
       "1   405000       ST  \n",
       "2   290000       LW  \n",
       "3   260000       GK  \n",
       "4   355000      RCM  \n",
       "5   340000       LF  \n",
       "6   420000      RCM  \n",
       "7   455000       RS  \n",
       "8   380000      RCB  \n",
       "9    94000       GK  \n",
       "10  205000       ST  \n",
       "11  355000      LCM  \n",
       "12  125000       CB  \n",
       "13  285000      LCM  \n",
       "14  225000      LDM  \n",
       "15  205000       LF  \n",
       "16  205000       ST  \n",
       "17  145000      CAM  \n",
       "18  240000       GK  \n",
       "19  240000       GK  \n",
       "20  315000      CDM  \n",
       "21  200000       LS  \n",
       "22  130000       GK  \n",
       "23  300000       ST  \n",
       "24  215000      LCB  "
      ],
      "text/html": "<div>\n<style scoped>\n    .dataframe tbody tr th:only-of-type {\n        vertical-align: middle;\n    }\n\n    .dataframe tbody tr th {\n        vertical-align: top;\n    }\n\n    .dataframe thead th {\n        text-align: right;\n    }\n</style>\n<table border=\"1\" class=\"dataframe\">\n  <thead>\n    <tr style=\"text-align: right;\">\n      <th></th>\n      <th>Name</th>\n      <th>Age</th>\n      <th>Nationality</th>\n      <th>Club</th>\n      <th>Value</th>\n      <th>Wage</th>\n      <th>Position</th>\n    </tr>\n  </thead>\n  <tbody>\n    <tr>\n      <th>0</th>\n      <td>L. Messi</td>\n      <td>31</td>\n      <td>Argentina</td>\n      <td>FC Barcelona</td>\n      <td>110500000</td>\n      <td>565000</td>\n      <td>RF</td>\n    </tr>\n    <tr>\n      <th>1</th>\n      <td>Cristiano Ronaldo</td>\n      <td>33</td>\n      <td>Portugal</td>\n      <td>Juventus</td>\n      <td>77000000</td>\n      <td>405000</td>\n      <td>ST</td>\n    </tr>\n    <tr>\n      <th>2</th>\n      <td>Neymar Jr</td>\n      <td>26</td>\n      <td>Brazil</td>\n      <td>Paris Saint-Germain</td>\n      <td>118500000</td>\n      <td>290000</td>\n      <td>LW</td>\n    </tr>\n    <tr>\n      <th>3</th>\n      <td>De Gea</td>\n      <td>27</td>\n      <td>Spain</td>\n      <td>Manchester United</td>\n      <td>72000000</td>\n      <td>260000</td>\n      <td>GK</td>\n    </tr>\n    <tr>\n      <th>4</th>\n      <td>K. De Bruyne</td>\n      <td>27</td>\n      <td>Belgium</td>\n      <td>Manchester City</td>\n      <td>102000000</td>\n      <td>355000</td>\n      <td>RCM</td>\n    </tr>\n    <tr>\n      <th>5</th>\n      <td>E. Hazard</td>\n      <td>27</td>\n      <td>Belgium</td>\n      <td>Chelsea</td>\n      <td>93000000</td>\n      <td>340000</td>\n      <td>LF</td>\n    </tr>\n    <tr>\n      <th>6</th>\n      <td>L. Modrić</td>\n      <td>32</td>\n      <td>Croatia</td>\n      <td>Real Madrid</td>\n      <td>67000000</td>\n      <td>420000</td>\n      <td>RCM</td>\n    </tr>\n    <tr>\n      <th>7</th>\n      <td>L. Suárez</td>\n      <td>31</td>\n      <td>Uruguay</td>\n      <td>FC Barcelona</td>\n      <td>80000000</td>\n      <td>455000</td>\n      <td>RS</td>\n    </tr>\n    <tr>\n      <th>8</th>\n      <td>Sergio Ramos</td>\n      <td>32</td>\n      <td>Spain</td>\n      <td>Real Madrid</td>\n      <td>51000000</td>\n      <td>380000</td>\n      <td>RCB</td>\n    </tr>\n    <tr>\n      <th>9</th>\n      <td>J. Oblak</td>\n      <td>25</td>\n      <td>Slovenia</td>\n      <td>Atlético Madrid</td>\n      <td>68000000</td>\n      <td>94000</td>\n      <td>GK</td>\n    </tr>\n    <tr>\n      <th>10</th>\n      <td>R. Lewandowski</td>\n      <td>29</td>\n      <td>Poland</td>\n      <td>FC Bayern München</td>\n      <td>77000000</td>\n      <td>205000</td>\n      <td>ST</td>\n    </tr>\n    <tr>\n      <th>11</th>\n      <td>T. Kroos</td>\n      <td>28</td>\n      <td>Germany</td>\n      <td>Real Madrid</td>\n      <td>76500000</td>\n      <td>355000</td>\n      <td>LCM</td>\n    </tr>\n    <tr>\n      <th>12</th>\n      <td>D. Godín</td>\n      <td>32</td>\n      <td>Uruguay</td>\n      <td>Atlético Madrid</td>\n      <td>44000000</td>\n      <td>125000</td>\n      <td>CB</td>\n    </tr>\n    <tr>\n      <th>13</th>\n      <td>David Silva</td>\n      <td>32</td>\n      <td>Spain</td>\n      <td>Manchester City</td>\n      <td>60000000</td>\n      <td>285000</td>\n      <td>LCM</td>\n    </tr>\n    <tr>\n      <th>14</th>\n      <td>N. Kanté</td>\n      <td>27</td>\n      <td>France</td>\n      <td>Chelsea</td>\n      <td>63000000</td>\n      <td>225000</td>\n      <td>LDM</td>\n    </tr>\n    <tr>\n      <th>15</th>\n      <td>P. Dybala</td>\n      <td>24</td>\n      <td>Argentina</td>\n      <td>Juventus</td>\n      <td>89000000</td>\n      <td>205000</td>\n      <td>LF</td>\n    </tr>\n    <tr>\n      <th>16</th>\n      <td>H. Kane</td>\n      <td>24</td>\n      <td>England</td>\n      <td>Tottenham Hotspur</td>\n      <td>83500000</td>\n      <td>205000</td>\n      <td>ST</td>\n    </tr>\n    <tr>\n      <th>17</th>\n      <td>A. Griezmann</td>\n      <td>27</td>\n      <td>France</td>\n      <td>Atlético Madrid</td>\n      <td>78000000</td>\n      <td>145000</td>\n      <td>CAM</td>\n    </tr>\n    <tr>\n      <th>18</th>\n      <td>M. ter Stegen</td>\n      <td>26</td>\n      <td>Germany</td>\n      <td>FC Barcelona</td>\n      <td>58000000</td>\n      <td>240000</td>\n      <td>GK</td>\n    </tr>\n    <tr>\n      <th>19</th>\n      <td>T. Courtois</td>\n      <td>26</td>\n      <td>Belgium</td>\n      <td>Real Madrid</td>\n      <td>53500000</td>\n      <td>240000</td>\n      <td>GK</td>\n    </tr>\n    <tr>\n      <th>20</th>\n      <td>Sergio Busquets</td>\n      <td>29</td>\n      <td>Spain</td>\n      <td>FC Barcelona</td>\n      <td>51500000</td>\n      <td>315000</td>\n      <td>CDM</td>\n    </tr>\n    <tr>\n      <th>21</th>\n      <td>E. Cavani</td>\n      <td>31</td>\n      <td>Uruguay</td>\n      <td>Paris Saint-Germain</td>\n      <td>60000000</td>\n      <td>200000</td>\n      <td>LS</td>\n    </tr>\n    <tr>\n      <th>22</th>\n      <td>M. Neuer</td>\n      <td>32</td>\n      <td>Germany</td>\n      <td>FC Bayern München</td>\n      <td>38000000</td>\n      <td>130000</td>\n      <td>GK</td>\n    </tr>\n    <tr>\n      <th>23</th>\n      <td>S. Agüero</td>\n      <td>30</td>\n      <td>Argentina</td>\n      <td>Manchester City</td>\n      <td>64500000</td>\n      <td>300000</td>\n      <td>ST</td>\n    </tr>\n    <tr>\n      <th>24</th>\n      <td>G. Chiellini</td>\n      <td>33</td>\n      <td>Italy</td>\n      <td>Juventus</td>\n      <td>27000000</td>\n      <td>215000</td>\n      <td>LCB</td>\n    </tr>\n  </tbody>\n</table>\n</div>"
     },
     "metadata": {},
     "execution_count": 10
    }
   ],
   "source": [
    "import IPython.display as display\n",
    "import pandas as pd\n",
    "\n",
    "df = pd.read_csv('D:\\Личное\\data_sf.csv')\n",
    "\n",
    "small_df = df[df.columns[1:8]].head(25)\n",
    "small_df\n"
   ]
  },
  {
   "cell_type": "code",
   "execution_count": 18,
   "metadata": {},
   "outputs": [
    {
     "output_type": "execute_result",
     "data": {
      "text/plain": [
       "Spain        4\n",
       "Uruguay      3\n",
       "Belgium      3\n",
       "Argentina    3\n",
       "Germany      3\n",
       "Name: Nationality, dtype: int64"
      ]
     },
     "metadata": {},
     "execution_count": 18
    }
   ],
   "source": [
    "n = small_df['Nationality'].value_counts()\n",
    "n\n",
    "n.index[0]\n",
    "len(n.index)\n",
    "n['Poland']\n",
    "n.loc[n > 2]"
   ]
  },
  {
   "cell_type": "code",
   "execution_count": 21,
   "metadata": {},
   "outputs": [
    {
     "output_type": "execute_result",
     "data": {
      "text/plain": [
       "650"
      ]
     },
     "metadata": {},
     "execution_count": 21
    }
   ],
   "source": [
    "n = df['Club'].value_counts()\n",
    "len(n)"
   ]
  },
  {
   "cell_type": "code",
   "execution_count": 28,
   "metadata": {
    "tags": []
   },
   "outputs": [
    {
     "output_type": "stream",
     "name": "stdout",
     "text": [
      "30 28 28 30 29 29\n"
     ]
    }
   ],
   "source": [
    "sb = len(df[df.Club == 'Shonan Bellmare'].value_counts())\n",
    "cu = len(df[df.Club == 'Colchester United'].value_counts())\n",
    "bu = len(df[df.Club == 'Bury'].value_counts())\n",
    "v = len(df[df.Club == 'V-Varen Nagasaki'].value_counts())\n",
    "dg = len(df[df.Club == 'De Graafschap'].value_counts())\n",
    "vk = len(df[df.Club == 'Vissel Kobe'].value_counts())\n",
    "print(sb, cu, bu, v, dg, vk)"
   ]
  },
  {
   "cell_type": "code",
   "execution_count": 32,
   "metadata": {},
   "outputs": [
    {
     "output_type": "execute_result",
     "data": {
      "text/plain": [
       "V-Varen Nagasaki     30\n",
       "Shonan Bellmare      30\n",
       "Vissel Kobe          29\n",
       "FC Emmen             29\n",
       "De Graafschap        29\n",
       "                     ..\n",
       "Olympiacos CFP        8\n",
       "Vitória Guimarães     7\n",
       "GD Chaves             7\n",
       "Dinamo Zagreb         7\n",
       "Atlético Mineiro      6\n",
       "Name: Club, Length: 650, dtype: int64"
      ]
     },
     "metadata": {},
     "execution_count": 32
    }
   ],
   "source": [
    "min_p = df['Club'].value_counts()\n",
    "min_p"
   ]
  },
  {
   "cell_type": "code",
   "execution_count": 6,
   "metadata": {},
   "outputs": [
    {
     "output_type": "display_data",
     "data": {
      "text/plain": "(620.999, 95750.0]      0.970194\n(95750.0, 190500.0]     0.016393\n(190500.0, 285250.0]    0.008942\n(285250.0, 380000.0]    0.004471\nName: Wage, dtype: float64"
     },
     "metadata": {}
    }
   ],
   "source": [
    "import pandas as pd\n",
    "df = pd.read_csv('D:\\Личное\\data_sf.csv')\n",
    "min_w = df[df.Nationality == 'Spain'].Wage.value_counts(normalize=True, bins=4)\n",
    "display(min_w)"
   ]
  },
  {
   "cell_type": "code",
   "execution_count": 8,
   "metadata": {},
   "outputs": [
    {
     "output_type": "execute_result",
     "data": {
      "text/plain": [
       "13"
      ]
     },
     "metadata": {},
     "execution_count": 8
    }
   ],
   "source": [
    "n = df[df.Club == 'Manchester United'].Nationality.nunique()\n",
    "n"
   ]
  },
  {
   "cell_type": "code",
   "execution_count": 10,
   "metadata": {},
   "outputs": [
    {
     "output_type": "execute_result",
     "data": {
      "text/plain": [
       "array(['Alex Sandro', 'Douglas Costa'], dtype=object)"
      ]
     },
     "metadata": {},
     "execution_count": 10
    }
   ],
   "source": [
    "nm = df[(df.Club == 'Juventus') & (df.Nationality == 'Brazil')].Name.unique()\n",
    "nm"
   ]
  },
  {
   "cell_type": "code",
   "execution_count": 13,
   "metadata": {},
   "outputs": [
    {
     "output_type": "execute_result",
     "data": {
      "text/plain": [
       "Hokkaido Consadole Sapporo    4\n",
       "Club Atlético Huracán         4\n",
       "Club Atlético Talleres        3\n",
       "Club Atlético Colón           3\n",
       "Club Atlético Tigre           3\n",
       "                             ..\n",
       "RCD Mallorca                  1\n",
       "Burton Albion                 1\n",
       "Cádiz CF                      1\n",
       "Deportivo Cali                1\n",
       "SC Paderborn 07               1\n",
       "Name: Club, Length: 212, dtype: int64"
      ]
     },
     "metadata": {},
     "execution_count": 13
    }
   ],
   "source": [
    "ag = df[df.Age > 35].Club.value_counts()\n",
    "ag"
   ]
  },
  {
   "cell_type": "code",
   "execution_count": 14,
   "metadata": {},
   "outputs": [
    {
     "output_type": "execute_result",
     "data": {
      "text/plain": [
       "(22.25, 28.5]      200\n",
       "(15.974, 22.25]    197\n",
       "(28.5, 34.75]      128\n",
       "(34.75, 41.0]       49\n",
       "Name: Age, dtype: int64"
      ]
     },
     "metadata": {},
     "execution_count": 14
    }
   ],
   "source": [
    "arg = df[df.Nationality == 'Argentina'].Age.value_counts(bins=4)\n",
    "arg"
   ]
  },
  {
   "cell_type": "code",
   "execution_count": 17,
   "metadata": {},
   "outputs": [
    {
     "output_type": "execute_result",
     "data": {
      "text/plain": [
       "21    0.117735\n",
       "22    0.095380\n",
       "20    0.077496\n",
       "23    0.071535\n",
       "25    0.064083\n",
       "27    0.062593\n",
       "24    0.059613\n",
       "28    0.053651\n",
       "26    0.053651\n",
       "19    0.047690\n",
       "29    0.047690\n",
       "18    0.038748\n",
       "30    0.038748\n",
       "31    0.032787\n",
       "32    0.032787\n",
       "33    0.031297\n",
       "34    0.022355\n",
       "17    0.013413\n",
       "35    0.011923\n",
       "36    0.010432\n",
       "37    0.008942\n",
       "16    0.002981\n",
       "39    0.002981\n",
       "38    0.001490\n",
       "Name: Age, dtype: float64"
      ]
     },
     "metadata": {},
     "execution_count": 17
    }
   ],
   "source": [
    "arg = df[df.Nationality == 'Spain'].Age.value_counts(normalize=True)\n",
    "arg"
   ]
  },
  {
   "cell_type": "code",
   "execution_count": 21,
   "metadata": {},
   "outputs": [
    {
     "output_type": "display_data",
     "data": {
      "text/plain": "                       Unnamed: 0  Age     Value    Wage  Crossing  Finishing  \\\nClub                                                                            \n SSV Jahn Regensburg       129124  609  15195000   90000      1104        944   \n1. FC Heidenheim 1846      117834  473  18290000   76000       961        860   \n1. FC Kaiserslautern       167351  544  11195000   33000      1106        918   \n1. FC Köln                  54865  225  46810000   92000       444        357   \n1. FC Magdeburg            116731  515  57525000   84000       948        903   \n...                           ...  ...       ...     ...       ...        ...   \nZagłębie Sosnowiec         220803  656   6815000   27000      1161       1007   \nÇaykur Rizespor            119137  557  27515000  118000      1110        921   \nÖrebro SK                  224465  622   8465000   36000      1114        974   \nÖstersunds FK              136103  478  11030000   39000       944        805   \nŚląsk Wrocław              172358  628   9170000   50000      1058       1054   \n\n                       HeadingAccuracy  ShortPassing  Volleys  Dribbling  ...  \\\nClub                                                                      ...   \n SSV Jahn Regensburg              1283          1362      944       1196  ...   \n1. FC Heidenheim 1846              955          1136      846       1040  ...   \n1. FC Kaiserslautern              1133          1272      899       1131  ...   \n1. FC Köln                         434           567      320        486  ...   \n1. FC Magdeburg                   1044          1157      769       1024  ...   \n...                                ...           ...      ...        ...  ...   \nZagłębie Sosnowiec                1152          1357      979       1252  ...   \nÇaykur Rizespor                   1137          1290      888       1233  ...   \nÖrebro SK                         1149          1311      965       1270  ...   \nÖstersunds FK                      856          1109      801       1066  ...   \nŚląsk Wrocław                     1289          1313      988       1238  ...   \n\n                       Penalties  Composure  Marking  StandingTackle  \\\nClub                                                                   \n SSV Jahn Regensburg        1042       1332     1205            1146   \n1. FC Heidenheim 1846        923       1093      888             952   \n1. FC Kaiserslautern        1030       1174      938             989   \n1. FC Köln                   431        515      453             458   \n1. FC Magdeburg              938       1057      933             930   \n...                          ...        ...      ...             ...   \nZagłębie Sosnowiec          1113       1371     1219            1187   \nÇaykur Rizespor             1063       1200     1050            1155   \nÖrebro SK                   1066       1393     1112            1045   \nÖstersunds FK                847       1132      920             842   \nŚląsk Wrocław               1150       1314     1047            1161   \n\n                       SlidingTackle  GKDiving  GKHandling  GKKicking  \\\nClub                                                                    \n SSV Jahn Regensburg            1088       405         406        368   \n1. FC Heidenheim 1846            890       335         317        287   \n1. FC Kaiserslautern             996       392         373        348   \n1. FC Köln                       452       272         251        276   \n1. FC Magdeburg                  892       367         373        354   \n...                              ...       ...         ...        ...   \nZagłębie Sosnowiec              1156       427         391        417   \nÇaykur Rizespor                 1143       375         394        387   \nÖrebro SK                       1008       412         406        386   \nÖstersunds FK                    816       342         357        369   \nŚląsk Wrocław                   1129       408         403        367   \n\n                       GKPositioning  GKReflexes  \nClub                                              \n SSV Jahn Regensburg             409         424  \n1. FC Heidenheim 1846            335         306  \n1. FC Kaiserslautern             368         356  \n1. FC Köln                       252         268  \n1. FC Magdeburg                  361         394  \n...                              ...         ...  \nZagłębie Sosnowiec               391         413  \nÇaykur Rizespor                  388         389  \nÖrebro SK                        428         407  \nÖstersunds FK                    337         363  \nŚląsk Wrocław                    394         403  \n\n[650 rows x 38 columns]",
      "text/html": "<div>\n<style scoped>\n    .dataframe tbody tr th:only-of-type {\n        vertical-align: middle;\n    }\n\n    .dataframe tbody tr th {\n        vertical-align: top;\n    }\n\n    .dataframe thead th {\n        text-align: right;\n    }\n</style>\n<table border=\"1\" class=\"dataframe\">\n  <thead>\n    <tr style=\"text-align: right;\">\n      <th></th>\n      <th>Unnamed: 0</th>\n      <th>Age</th>\n      <th>Value</th>\n      <th>Wage</th>\n      <th>Crossing</th>\n      <th>Finishing</th>\n      <th>HeadingAccuracy</th>\n      <th>ShortPassing</th>\n      <th>Volleys</th>\n      <th>Dribbling</th>\n      <th>...</th>\n      <th>Penalties</th>\n      <th>Composure</th>\n      <th>Marking</th>\n      <th>StandingTackle</th>\n      <th>SlidingTackle</th>\n      <th>GKDiving</th>\n      <th>GKHandling</th>\n      <th>GKKicking</th>\n      <th>GKPositioning</th>\n      <th>GKReflexes</th>\n    </tr>\n    <tr>\n      <th>Club</th>\n      <th></th>\n      <th></th>\n      <th></th>\n      <th></th>\n      <th></th>\n      <th></th>\n      <th></th>\n      <th></th>\n      <th></th>\n      <th></th>\n      <th></th>\n      <th></th>\n      <th></th>\n      <th></th>\n      <th></th>\n      <th></th>\n      <th></th>\n      <th></th>\n      <th></th>\n      <th></th>\n      <th></th>\n    </tr>\n  </thead>\n  <tbody>\n    <tr>\n      <th>SSV Jahn Regensburg</th>\n      <td>129124</td>\n      <td>609</td>\n      <td>15195000</td>\n      <td>90000</td>\n      <td>1104</td>\n      <td>944</td>\n      <td>1283</td>\n      <td>1362</td>\n      <td>944</td>\n      <td>1196</td>\n      <td>...</td>\n      <td>1042</td>\n      <td>1332</td>\n      <td>1205</td>\n      <td>1146</td>\n      <td>1088</td>\n      <td>405</td>\n      <td>406</td>\n      <td>368</td>\n      <td>409</td>\n      <td>424</td>\n    </tr>\n    <tr>\n      <th>1. FC Heidenheim 1846</th>\n      <td>117834</td>\n      <td>473</td>\n      <td>18290000</td>\n      <td>76000</td>\n      <td>961</td>\n      <td>860</td>\n      <td>955</td>\n      <td>1136</td>\n      <td>846</td>\n      <td>1040</td>\n      <td>...</td>\n      <td>923</td>\n      <td>1093</td>\n      <td>888</td>\n      <td>952</td>\n      <td>890</td>\n      <td>335</td>\n      <td>317</td>\n      <td>287</td>\n      <td>335</td>\n      <td>306</td>\n    </tr>\n    <tr>\n      <th>1. FC Kaiserslautern</th>\n      <td>167351</td>\n      <td>544</td>\n      <td>11195000</td>\n      <td>33000</td>\n      <td>1106</td>\n      <td>918</td>\n      <td>1133</td>\n      <td>1272</td>\n      <td>899</td>\n      <td>1131</td>\n      <td>...</td>\n      <td>1030</td>\n      <td>1174</td>\n      <td>938</td>\n      <td>989</td>\n      <td>996</td>\n      <td>392</td>\n      <td>373</td>\n      <td>348</td>\n      <td>368</td>\n      <td>356</td>\n    </tr>\n    <tr>\n      <th>1. FC Köln</th>\n      <td>54865</td>\n      <td>225</td>\n      <td>46810000</td>\n      <td>92000</td>\n      <td>444</td>\n      <td>357</td>\n      <td>434</td>\n      <td>567</td>\n      <td>320</td>\n      <td>486</td>\n      <td>...</td>\n      <td>431</td>\n      <td>515</td>\n      <td>453</td>\n      <td>458</td>\n      <td>452</td>\n      <td>272</td>\n      <td>251</td>\n      <td>276</td>\n      <td>252</td>\n      <td>268</td>\n    </tr>\n    <tr>\n      <th>1. FC Magdeburg</th>\n      <td>116731</td>\n      <td>515</td>\n      <td>57525000</td>\n      <td>84000</td>\n      <td>948</td>\n      <td>903</td>\n      <td>1044</td>\n      <td>1157</td>\n      <td>769</td>\n      <td>1024</td>\n      <td>...</td>\n      <td>938</td>\n      <td>1057</td>\n      <td>933</td>\n      <td>930</td>\n      <td>892</td>\n      <td>367</td>\n      <td>373</td>\n      <td>354</td>\n      <td>361</td>\n      <td>394</td>\n    </tr>\n    <tr>\n      <th>...</th>\n      <td>...</td>\n      <td>...</td>\n      <td>...</td>\n      <td>...</td>\n      <td>...</td>\n      <td>...</td>\n      <td>...</td>\n      <td>...</td>\n      <td>...</td>\n      <td>...</td>\n      <td>...</td>\n      <td>...</td>\n      <td>...</td>\n      <td>...</td>\n      <td>...</td>\n      <td>...</td>\n      <td>...</td>\n      <td>...</td>\n      <td>...</td>\n      <td>...</td>\n      <td>...</td>\n    </tr>\n    <tr>\n      <th>Zagłębie Sosnowiec</th>\n      <td>220803</td>\n      <td>656</td>\n      <td>6815000</td>\n      <td>27000</td>\n      <td>1161</td>\n      <td>1007</td>\n      <td>1152</td>\n      <td>1357</td>\n      <td>979</td>\n      <td>1252</td>\n      <td>...</td>\n      <td>1113</td>\n      <td>1371</td>\n      <td>1219</td>\n      <td>1187</td>\n      <td>1156</td>\n      <td>427</td>\n      <td>391</td>\n      <td>417</td>\n      <td>391</td>\n      <td>413</td>\n    </tr>\n    <tr>\n      <th>Çaykur Rizespor</th>\n      <td>119137</td>\n      <td>557</td>\n      <td>27515000</td>\n      <td>118000</td>\n      <td>1110</td>\n      <td>921</td>\n      <td>1137</td>\n      <td>1290</td>\n      <td>888</td>\n      <td>1233</td>\n      <td>...</td>\n      <td>1063</td>\n      <td>1200</td>\n      <td>1050</td>\n      <td>1155</td>\n      <td>1143</td>\n      <td>375</td>\n      <td>394</td>\n      <td>387</td>\n      <td>388</td>\n      <td>389</td>\n    </tr>\n    <tr>\n      <th>Örebro SK</th>\n      <td>224465</td>\n      <td>622</td>\n      <td>8465000</td>\n      <td>36000</td>\n      <td>1114</td>\n      <td>974</td>\n      <td>1149</td>\n      <td>1311</td>\n      <td>965</td>\n      <td>1270</td>\n      <td>...</td>\n      <td>1066</td>\n      <td>1393</td>\n      <td>1112</td>\n      <td>1045</td>\n      <td>1008</td>\n      <td>412</td>\n      <td>406</td>\n      <td>386</td>\n      <td>428</td>\n      <td>407</td>\n    </tr>\n    <tr>\n      <th>Östersunds FK</th>\n      <td>136103</td>\n      <td>478</td>\n      <td>11030000</td>\n      <td>39000</td>\n      <td>944</td>\n      <td>805</td>\n      <td>856</td>\n      <td>1109</td>\n      <td>801</td>\n      <td>1066</td>\n      <td>...</td>\n      <td>847</td>\n      <td>1132</td>\n      <td>920</td>\n      <td>842</td>\n      <td>816</td>\n      <td>342</td>\n      <td>357</td>\n      <td>369</td>\n      <td>337</td>\n      <td>363</td>\n    </tr>\n    <tr>\n      <th>Śląsk Wrocław</th>\n      <td>172358</td>\n      <td>628</td>\n      <td>9170000</td>\n      <td>50000</td>\n      <td>1058</td>\n      <td>1054</td>\n      <td>1289</td>\n      <td>1313</td>\n      <td>988</td>\n      <td>1238</td>\n      <td>...</td>\n      <td>1150</td>\n      <td>1314</td>\n      <td>1047</td>\n      <td>1161</td>\n      <td>1129</td>\n      <td>408</td>\n      <td>403</td>\n      <td>367</td>\n      <td>394</td>\n      <td>403</td>\n    </tr>\n  </tbody>\n</table>\n<p>650 rows × 38 columns</p>\n</div>"
     },
     "metadata": {}
    }
   ],
   "source": [
    "clb = df.groupby(['Club']).sum()\n",
    "display(clb)"
   ]
  },
  {
   "cell_type": "code",
   "execution_count": 24,
   "metadata": {},
   "outputs": [
    {
     "output_type": "execute_result",
     "data": {
      "text/plain": [
       "158000"
      ]
     },
     "metadata": {},
     "execution_count": 24
    }
   ],
   "source": [
    "clb.loc['Ajax']['Wage']"
   ]
  },
  {
   "cell_type": "code",
   "execution_count": 32,
   "metadata": {},
   "outputs": [
    {
     "output_type": "display_data",
     "data": {
      "text/plain": "Position\nST     11873000\nGK      8784000\nCB      7476000\nCM      6194000\nLB      6096000\nCAM     5500000\nLM      5440000\nRM      5098000\nRB      5034000\nCDM     4921000\nRCB     4711000\nLCB     3989000\nRW      3276000\nRCM     3241000\nLCM     3145000\nLW      2945000\nLS      1866000\nRDM     1557000\nRS      1537000\nLDM     1516000\nRF       714000\nLF       601000\nRWB      420000\nLAM      366000\nLWB      347000\nCF       248000\nRAM       59000\nName: Wage, dtype: int64"
     },
     "metadata": {}
    }
   ],
   "source": [
    "wge = df.groupby(['Position'])['Wage'].sum().sort_values(ascending=False)\n",
    "display(wge)"
   ]
  },
  {
   "cell_type": "code",
   "execution_count": 39,
   "metadata": {},
   "outputs": [
    {
     "output_type": "display_data",
     "data": {
      "text/plain": "                            Wage        Age  ShotPower\nNationality                                           \nDominican Republic  71000.000000  23.000000  75.500000\nEgypt               35545.454545  25.818182  59.363636\nGabon               28900.000000  26.400000  56.900000\nCroatia             26722.222222  24.819444  54.305556\nEquatorial Guinea   25666.666667  28.000000  55.333333\n...                          ...        ...        ...\nIndonesia            1000.000000  17.000000  47.000000\nJordan               1000.000000  23.000000  60.000000\nNicaragua            1000.000000  29.000000  65.000000\nQatar                1000.000000  24.000000  36.000000\nSt Lucia             1000.000000  24.000000  50.000000\n\n[156 rows x 3 columns]",
      "text/html": "<div>\n<style scoped>\n    .dataframe tbody tr th:only-of-type {\n        vertical-align: middle;\n    }\n\n    .dataframe tbody tr th {\n        vertical-align: top;\n    }\n\n    .dataframe thead th {\n        text-align: right;\n    }\n</style>\n<table border=\"1\" class=\"dataframe\">\n  <thead>\n    <tr style=\"text-align: right;\">\n      <th></th>\n      <th>Wage</th>\n      <th>Age</th>\n      <th>ShotPower</th>\n    </tr>\n    <tr>\n      <th>Nationality</th>\n      <th></th>\n      <th></th>\n      <th></th>\n    </tr>\n  </thead>\n  <tbody>\n    <tr>\n      <th>Dominican Republic</th>\n      <td>71000.000000</td>\n      <td>23.000000</td>\n      <td>75.500000</td>\n    </tr>\n    <tr>\n      <th>Egypt</th>\n      <td>35545.454545</td>\n      <td>25.818182</td>\n      <td>59.363636</td>\n    </tr>\n    <tr>\n      <th>Gabon</th>\n      <td>28900.000000</td>\n      <td>26.400000</td>\n      <td>56.900000</td>\n    </tr>\n    <tr>\n      <th>Croatia</th>\n      <td>26722.222222</td>\n      <td>24.819444</td>\n      <td>54.305556</td>\n    </tr>\n    <tr>\n      <th>Equatorial Guinea</th>\n      <td>25666.666667</td>\n      <td>28.000000</td>\n      <td>55.333333</td>\n    </tr>\n    <tr>\n      <th>...</th>\n      <td>...</td>\n      <td>...</td>\n      <td>...</td>\n    </tr>\n    <tr>\n      <th>Indonesia</th>\n      <td>1000.000000</td>\n      <td>17.000000</td>\n      <td>47.000000</td>\n    </tr>\n    <tr>\n      <th>Jordan</th>\n      <td>1000.000000</td>\n      <td>23.000000</td>\n      <td>60.000000</td>\n    </tr>\n    <tr>\n      <th>Nicaragua</th>\n      <td>1000.000000</td>\n      <td>29.000000</td>\n      <td>65.000000</td>\n    </tr>\n    <tr>\n      <th>Qatar</th>\n      <td>1000.000000</td>\n      <td>24.000000</td>\n      <td>36.000000</td>\n    </tr>\n    <tr>\n      <th>St Lucia</th>\n      <td>1000.000000</td>\n      <td>24.000000</td>\n      <td>50.000000</td>\n    </tr>\n  </tbody>\n</table>\n<p>156 rows × 3 columns</p>\n</div>"
     },
     "metadata": {}
    }
   ],
   "source": [
    "xds = df.groupby(['Nationality'])[['Wage', 'Age', 'ShotPower']].mean().sort_values(['Wage'], ascending=False)\n",
    "display(xds)"
   ]
  },
  {
   "cell_type": "code",
   "execution_count": 43,
   "metadata": {},
   "outputs": [
    {
     "output_type": "execute_result",
     "data": {
      "text/plain": [
       "            Name         Club    Wage  Age  ShotPower\n",
       "291      Mariano  Real Madrid  140000   24         85\n",
       "6279  L. Quezada   Córdoba CF    2000   22         66"
      ],
      "text/html": "<div>\n<style scoped>\n    .dataframe tbody tr th:only-of-type {\n        vertical-align: middle;\n    }\n\n    .dataframe tbody tr th {\n        vertical-align: top;\n    }\n\n    .dataframe thead th {\n        text-align: right;\n    }\n</style>\n<table border=\"1\" class=\"dataframe\">\n  <thead>\n    <tr style=\"text-align: right;\">\n      <th></th>\n      <th>Name</th>\n      <th>Club</th>\n      <th>Wage</th>\n      <th>Age</th>\n      <th>ShotPower</th>\n    </tr>\n  </thead>\n  <tbody>\n    <tr>\n      <th>291</th>\n      <td>Mariano</td>\n      <td>Real Madrid</td>\n      <td>140000</td>\n      <td>24</td>\n      <td>85</td>\n    </tr>\n    <tr>\n      <th>6279</th>\n      <td>L. Quezada</td>\n      <td>Córdoba CF</td>\n      <td>2000</td>\n      <td>22</td>\n      <td>66</td>\n    </tr>\n  </tbody>\n</table>\n</div>"
     },
     "metadata": {},
     "execution_count": 43
    }
   ],
   "source": [
    "dfs = df.loc[df['Nationality'] == 'Dominican Republic'][['Name', 'Club', 'Wage', 'Age', 'ShotPower']]\n",
    "dfs"
   ]
  },
  {
   "cell_type": "code",
   "execution_count": 44,
   "metadata": {},
   "outputs": [
    {
     "output_type": "display_data",
     "data": {
      "text/plain": "                   Wage         Value\nPosition                             \nLF         75125.000000  2.736250e+07\nRF        119000.000000  2.636583e+07\nLAM        61000.000000  1.324583e+07\nRAM        11800.000000  8.345000e+06\nLS         15421.487603  5.848430e+06\nLCM        13497.854077  4.318090e+06\nRCM        13504.166667  4.217604e+06\nRS         13482.456140  3.645833e+06\nLW         12169.421488  3.603099e+06\nRW         13822.784810  3.495738e+06\nLDM        10243.243243  3.369459e+06\nRCB        11270.334928  3.009055e+06\nCAM         8688.783570  2.963199e+06\nRDM        11282.608696  2.692717e+06\nLCB         9753.056235  2.636516e+06\nLM          7472.527473  2.466174e+06\nST          7852.513228  2.157252e+06\nRM          6655.352480  2.138734e+06\nLWB         5783.333333  1.931333e+06\nCF          4862.745098  1.848627e+06\nCDM         7121.562952  1.658900e+06\nCM          5805.060918  1.617465e+06\nRWB         6000.000000  1.555571e+06\nGK          5352.833638  1.502502e+06\nLB          6083.832335  1.429032e+06\nCB          5328.581611  1.321251e+06\nRB          5310.126582  1.248940e+06",
      "text/html": "<div>\n<style scoped>\n    .dataframe tbody tr th:only-of-type {\n        vertical-align: middle;\n    }\n\n    .dataframe tbody tr th {\n        vertical-align: top;\n    }\n\n    .dataframe thead th {\n        text-align: right;\n    }\n</style>\n<table border=\"1\" class=\"dataframe\">\n  <thead>\n    <tr style=\"text-align: right;\">\n      <th></th>\n      <th>Wage</th>\n      <th>Value</th>\n    </tr>\n    <tr>\n      <th>Position</th>\n      <th></th>\n      <th></th>\n    </tr>\n  </thead>\n  <tbody>\n    <tr>\n      <th>LF</th>\n      <td>75125.000000</td>\n      <td>2.736250e+07</td>\n    </tr>\n    <tr>\n      <th>RF</th>\n      <td>119000.000000</td>\n      <td>2.636583e+07</td>\n    </tr>\n    <tr>\n      <th>LAM</th>\n      <td>61000.000000</td>\n      <td>1.324583e+07</td>\n    </tr>\n    <tr>\n      <th>RAM</th>\n      <td>11800.000000</td>\n      <td>8.345000e+06</td>\n    </tr>\n    <tr>\n      <th>LS</th>\n      <td>15421.487603</td>\n      <td>5.848430e+06</td>\n    </tr>\n    <tr>\n      <th>LCM</th>\n      <td>13497.854077</td>\n      <td>4.318090e+06</td>\n    </tr>\n    <tr>\n      <th>RCM</th>\n      <td>13504.166667</td>\n      <td>4.217604e+06</td>\n    </tr>\n    <tr>\n      <th>RS</th>\n      <td>13482.456140</td>\n      <td>3.645833e+06</td>\n    </tr>\n    <tr>\n      <th>LW</th>\n      <td>12169.421488</td>\n      <td>3.603099e+06</td>\n    </tr>\n    <tr>\n      <th>RW</th>\n      <td>13822.784810</td>\n      <td>3.495738e+06</td>\n    </tr>\n    <tr>\n      <th>LDM</th>\n      <td>10243.243243</td>\n      <td>3.369459e+06</td>\n    </tr>\n    <tr>\n      <th>RCB</th>\n      <td>11270.334928</td>\n      <td>3.009055e+06</td>\n    </tr>\n    <tr>\n      <th>CAM</th>\n      <td>8688.783570</td>\n      <td>2.963199e+06</td>\n    </tr>\n    <tr>\n      <th>RDM</th>\n      <td>11282.608696</td>\n      <td>2.692717e+06</td>\n    </tr>\n    <tr>\n      <th>LCB</th>\n      <td>9753.056235</td>\n      <td>2.636516e+06</td>\n    </tr>\n    <tr>\n      <th>LM</th>\n      <td>7472.527473</td>\n      <td>2.466174e+06</td>\n    </tr>\n    <tr>\n      <th>ST</th>\n      <td>7852.513228</td>\n      <td>2.157252e+06</td>\n    </tr>\n    <tr>\n      <th>RM</th>\n      <td>6655.352480</td>\n      <td>2.138734e+06</td>\n    </tr>\n    <tr>\n      <th>LWB</th>\n      <td>5783.333333</td>\n      <td>1.931333e+06</td>\n    </tr>\n    <tr>\n      <th>CF</th>\n      <td>4862.745098</td>\n      <td>1.848627e+06</td>\n    </tr>\n    <tr>\n      <th>CDM</th>\n      <td>7121.562952</td>\n      <td>1.658900e+06</td>\n    </tr>\n    <tr>\n      <th>CM</th>\n      <td>5805.060918</td>\n      <td>1.617465e+06</td>\n    </tr>\n    <tr>\n      <th>RWB</th>\n      <td>6000.000000</td>\n      <td>1.555571e+06</td>\n    </tr>\n    <tr>\n      <th>GK</th>\n      <td>5352.833638</td>\n      <td>1.502502e+06</td>\n    </tr>\n    <tr>\n      <th>LB</th>\n      <td>6083.832335</td>\n      <td>1.429032e+06</td>\n    </tr>\n    <tr>\n      <th>CB</th>\n      <td>5328.581611</td>\n      <td>1.321251e+06</td>\n    </tr>\n    <tr>\n      <th>RB</th>\n      <td>5310.126582</td>\n      <td>1.248940e+06</td>\n    </tr>\n  </tbody>\n</table>\n</div>"
     },
     "metadata": {}
    }
   ],
   "source": [
    "xds = df.groupby(['Position'])[['Wage', 'Value']].mean().sort_values(['Value'], ascending=False)\n",
    "display(xds)"
   ]
  },
  {
   "cell_type": "code",
   "execution_count": 62,
   "metadata": {},
   "outputs": [
    {
     "output_type": "execute_result",
     "data": {
      "text/plain": [
       "                        median     mean\n",
       "Club                                   \n",
       "Cruzeiro                 13000  13000.0\n",
       "Göztepe SK                7000   7000.0\n",
       "Brøndby IF                6000   6000.0\n",
       "Sunderland                4000   4000.0\n",
       "CD Feirense               4000   4000.0\n",
       "1. FC Magdeburg           4000   4000.0\n",
       "Northampton Town          2500   2500.0\n",
       "Stade Brestois 29         2000   2000.0\n",
       "Jeonnam Dragons           2000   2000.0\n",
       "Pohang Steelers           2000   2000.0\n",
       "AJ Auxerre                2000   2000.0\n",
       "Grimsby Town              2000   2000.0\n",
       "Heracles Almelo           2000   2000.0\n",
       "Philadelphia Union        2000   2000.0\n",
       "Kashiwa Reysol            2000   2000.0\n",
       "CD Tondela                2000   2000.0\n",
       "Benevento                 2000   2000.0\n",
       "FC Metz                   1500   1500.0\n",
       "PAOK                      1000   1000.0\n",
       "Orlando Pirates           1000   1000.0\n",
       "Panathinaikos FC          1000   1000.0\n",
       "Patriotas Boyacá FC       1000   1000.0\n",
       "PFC CSKA Moscow           1000   1000.0\n",
       "Shakhtar Donetsk          1000   1000.0\n",
       "SK Slavia Praha           1000   1000.0\n",
       "Shamrock Rovers           1000   1000.0\n",
       "Sligo Rovers              1000   1000.0\n",
       "Sparta Praha              1000   1000.0\n",
       "Spartak Moscow            1000   1000.0\n",
       "St. Patrick's Athletic    1000   1000.0\n",
       "Trelleborgs FF            1000   1000.0\n",
       "Olympiacos CFP            1000   1000.0\n",
       "Jaguares de Córdoba       1000   1000.0\n",
       "Lokomotiv Moscow          1000   1000.0\n",
       "Dynamo Kyiv               1000   1000.0\n",
       "Bohemian FC               1000   1000.0\n",
       "Boyacá Chicó FC           1000   1000.0\n",
       "Bray Wanderers            1000   1000.0\n",
       "Cork City                 1000   1000.0\n",
       "Deportivo Pasto           1000   1000.0\n",
       "Dinamo Zagreb             1000   1000.0\n",
       "Dundalk                   1000   1000.0\n",
       "Envigado FC               1000   1000.0\n",
       "Limerick FC               1000   1000.0\n",
       "FC Energie Cottbus        1000   1000.0\n",
       "HJK Helsinki              1000   1000.0\n",
       "IF Brommapojkarna         1000   1000.0\n",
       "IK Sirius                 1000   1000.0\n",
       "Itagüí Leones FC          1000   1000.0\n",
       "AEK Athens                1000   1000.0\n",
       "Kaizer Chiefs             1000   1000.0\n",
       "Viktoria Plzeň            1000   1000.0"
      ],
      "text/html": "<div>\n<style scoped>\n    .dataframe tbody tr th:only-of-type {\n        vertical-align: middle;\n    }\n\n    .dataframe tbody tr th {\n        vertical-align: top;\n    }\n\n    .dataframe thead th {\n        text-align: right;\n    }\n</style>\n<table border=\"1\" class=\"dataframe\">\n  <thead>\n    <tr style=\"text-align: right;\">\n      <th></th>\n      <th>median</th>\n      <th>mean</th>\n    </tr>\n    <tr>\n      <th>Club</th>\n      <th></th>\n      <th></th>\n    </tr>\n  </thead>\n  <tbody>\n    <tr>\n      <th>Cruzeiro</th>\n      <td>13000</td>\n      <td>13000.0</td>\n    </tr>\n    <tr>\n      <th>Göztepe SK</th>\n      <td>7000</td>\n      <td>7000.0</td>\n    </tr>\n    <tr>\n      <th>Brøndby IF</th>\n      <td>6000</td>\n      <td>6000.0</td>\n    </tr>\n    <tr>\n      <th>Sunderland</th>\n      <td>4000</td>\n      <td>4000.0</td>\n    </tr>\n    <tr>\n      <th>CD Feirense</th>\n      <td>4000</td>\n      <td>4000.0</td>\n    </tr>\n    <tr>\n      <th>1. FC Magdeburg</th>\n      <td>4000</td>\n      <td>4000.0</td>\n    </tr>\n    <tr>\n      <th>Northampton Town</th>\n      <td>2500</td>\n      <td>2500.0</td>\n    </tr>\n    <tr>\n      <th>Stade Brestois 29</th>\n      <td>2000</td>\n      <td>2000.0</td>\n    </tr>\n    <tr>\n      <th>Jeonnam Dragons</th>\n      <td>2000</td>\n      <td>2000.0</td>\n    </tr>\n    <tr>\n      <th>Pohang Steelers</th>\n      <td>2000</td>\n      <td>2000.0</td>\n    </tr>\n    <tr>\n      <th>AJ Auxerre</th>\n      <td>2000</td>\n      <td>2000.0</td>\n    </tr>\n    <tr>\n      <th>Grimsby Town</th>\n      <td>2000</td>\n      <td>2000.0</td>\n    </tr>\n    <tr>\n      <th>Heracles Almelo</th>\n      <td>2000</td>\n      <td>2000.0</td>\n    </tr>\n    <tr>\n      <th>Philadelphia Union</th>\n      <td>2000</td>\n      <td>2000.0</td>\n    </tr>\n    <tr>\n      <th>Kashiwa Reysol</th>\n      <td>2000</td>\n      <td>2000.0</td>\n    </tr>\n    <tr>\n      <th>CD Tondela</th>\n      <td>2000</td>\n      <td>2000.0</td>\n    </tr>\n    <tr>\n      <th>Benevento</th>\n      <td>2000</td>\n      <td>2000.0</td>\n    </tr>\n    <tr>\n      <th>FC Metz</th>\n      <td>1500</td>\n      <td>1500.0</td>\n    </tr>\n    <tr>\n      <th>PAOK</th>\n      <td>1000</td>\n      <td>1000.0</td>\n    </tr>\n    <tr>\n      <th>Orlando Pirates</th>\n      <td>1000</td>\n      <td>1000.0</td>\n    </tr>\n    <tr>\n      <th>Panathinaikos FC</th>\n      <td>1000</td>\n      <td>1000.0</td>\n    </tr>\n    <tr>\n      <th>Patriotas Boyacá FC</th>\n      <td>1000</td>\n      <td>1000.0</td>\n    </tr>\n    <tr>\n      <th>PFC CSKA Moscow</th>\n      <td>1000</td>\n      <td>1000.0</td>\n    </tr>\n    <tr>\n      <th>Shakhtar Donetsk</th>\n      <td>1000</td>\n      <td>1000.0</td>\n    </tr>\n    <tr>\n      <th>SK Slavia Praha</th>\n      <td>1000</td>\n      <td>1000.0</td>\n    </tr>\n    <tr>\n      <th>Shamrock Rovers</th>\n      <td>1000</td>\n      <td>1000.0</td>\n    </tr>\n    <tr>\n      <th>Sligo Rovers</th>\n      <td>1000</td>\n      <td>1000.0</td>\n    </tr>\n    <tr>\n      <th>Sparta Praha</th>\n      <td>1000</td>\n      <td>1000.0</td>\n    </tr>\n    <tr>\n      <th>Spartak Moscow</th>\n      <td>1000</td>\n      <td>1000.0</td>\n    </tr>\n    <tr>\n      <th>St. Patrick's Athletic</th>\n      <td>1000</td>\n      <td>1000.0</td>\n    </tr>\n    <tr>\n      <th>Trelleborgs FF</th>\n      <td>1000</td>\n      <td>1000.0</td>\n    </tr>\n    <tr>\n      <th>Olympiacos CFP</th>\n      <td>1000</td>\n      <td>1000.0</td>\n    </tr>\n    <tr>\n      <th>Jaguares de Córdoba</th>\n      <td>1000</td>\n      <td>1000.0</td>\n    </tr>\n    <tr>\n      <th>Lokomotiv Moscow</th>\n      <td>1000</td>\n      <td>1000.0</td>\n    </tr>\n    <tr>\n      <th>Dynamo Kyiv</th>\n      <td>1000</td>\n      <td>1000.0</td>\n    </tr>\n    <tr>\n      <th>Bohemian FC</th>\n      <td>1000</td>\n      <td>1000.0</td>\n    </tr>\n    <tr>\n      <th>Boyacá Chicó FC</th>\n      <td>1000</td>\n      <td>1000.0</td>\n    </tr>\n    <tr>\n      <th>Bray Wanderers</th>\n      <td>1000</td>\n      <td>1000.0</td>\n    </tr>\n    <tr>\n      <th>Cork City</th>\n      <td>1000</td>\n      <td>1000.0</td>\n    </tr>\n    <tr>\n      <th>Deportivo Pasto</th>\n      <td>1000</td>\n      <td>1000.0</td>\n    </tr>\n    <tr>\n      <th>Dinamo Zagreb</th>\n      <td>1000</td>\n      <td>1000.0</td>\n    </tr>\n    <tr>\n      <th>Dundalk</th>\n      <td>1000</td>\n      <td>1000.0</td>\n    </tr>\n    <tr>\n      <th>Envigado FC</th>\n      <td>1000</td>\n      <td>1000.0</td>\n    </tr>\n    <tr>\n      <th>Limerick FC</th>\n      <td>1000</td>\n      <td>1000.0</td>\n    </tr>\n    <tr>\n      <th>FC Energie Cottbus</th>\n      <td>1000</td>\n      <td>1000.0</td>\n    </tr>\n    <tr>\n      <th>HJK Helsinki</th>\n      <td>1000</td>\n      <td>1000.0</td>\n    </tr>\n    <tr>\n      <th>IF Brommapojkarna</th>\n      <td>1000</td>\n      <td>1000.0</td>\n    </tr>\n    <tr>\n      <th>IK Sirius</th>\n      <td>1000</td>\n      <td>1000.0</td>\n    </tr>\n    <tr>\n      <th>Itagüí Leones FC</th>\n      <td>1000</td>\n      <td>1000.0</td>\n    </tr>\n    <tr>\n      <th>AEK Athens</th>\n      <td>1000</td>\n      <td>1000.0</td>\n    </tr>\n    <tr>\n      <th>Kaizer Chiefs</th>\n      <td>1000</td>\n      <td>1000.0</td>\n    </tr>\n    <tr>\n      <th>Viktoria Plzeň</th>\n      <td>1000</td>\n      <td>1000.0</td>\n    </tr>\n  </tbody>\n</table>\n</div>"
     },
     "metadata": {},
     "execution_count": 62
    }
   ],
   "source": [
    "dsfa = df.groupby(['Club'])['Wage'].agg(['median', 'mean'])\n",
    "dsfa.loc[dsfa['median'] == dsfa['mean']].sort_values(['mean'], ascending=False)"
   ]
  },
  {
   "cell_type": "code",
   "execution_count": 67,
   "metadata": {},
   "outputs": [
    {
     "output_type": "display_data",
     "data": {
      "text/plain": "Club\nFalse    94919000\nTrue      2035000\nName: Wage, dtype: int64"
     },
     "metadata": {}
    }
   ],
   "source": [
    "#Задачи 6.10\n",
    "wag = df.groupby(df.Club == 'Chelsea').Wage.sum()\n",
    "display(wag)"
   ]
  },
  {
   "cell_type": "code",
   "execution_count": 71,
   "metadata": {},
   "outputs": [
    {
     "output_type": "execute_result",
     "data": {
      "text/plain": [
       "False    1000\n",
       "True     1000\n",
       "Name: Wage, dtype: int64"
      ]
     },
     "metadata": {},
     "execution_count": 71
    }
   ],
   "source": [
    "age_ = df.groupby((df['Nationality'] == 'Argentina') & (df['Age'] == 30)).Wage.min()\n",
    "age_"
   ]
  },
  {
   "cell_type": "code",
   "execution_count": 78,
   "metadata": {},
   "outputs": [
    {
     "output_type": "display_data",
     "data": {
      "text/plain": "       Strength  Balance\nFalse        97       96\nTrue         59       95",
      "text/html": "<div>\n<style scoped>\n    .dataframe tbody tr th:only-of-type {\n        vertical-align: middle;\n    }\n\n    .dataframe tbody tr th {\n        vertical-align: top;\n    }\n\n    .dataframe thead th {\n        text-align: right;\n    }\n</style>\n<table border=\"1\" class=\"dataframe\">\n  <thead>\n    <tr style=\"text-align: right;\">\n      <th></th>\n      <th>Strength</th>\n      <th>Balance</th>\n    </tr>\n  </thead>\n  <tbody>\n    <tr>\n      <th>False</th>\n      <td>97</td>\n      <td>96</td>\n    </tr>\n    <tr>\n      <th>True</th>\n      <td>59</td>\n      <td>95</td>\n    </tr>\n  </tbody>\n</table>\n</div>"
     },
     "metadata": {}
    }
   ],
   "source": [
    "age_ = df.groupby((df['Nationality'] == 'Argentina') & (df['Club'] == 'FC Barcelona'))[['Strength', 'Balance']].max()\n",
    "display(age_)"
   ]
  },
  {
   "cell_type": "code",
   "execution_count": 85,
   "metadata": {},
   "outputs": [
    {
     "output_type": "display_data",
     "data": {
      "text/plain": "                      Name                                  \nClub               Chelsea FC Barcelona Juventus Real Madrid\nNationality                                                 \nArgentina                1            1        1           0\nBelgium                  1            1        0           1\nBosnia Herzegovina       0            0        1           0\nBrazil                   0            2        2           2\nChile                    0            1        0           0\nCosta Rica               0            0        0           1\nCroatia                  1            1        1           1\nDominican Republic       0            0        0           1\nEngland                  6            0        0           0\nFrance                   2            3        1           3\nGermany                  0            1        1           1\nItaly                    2            0        4           0\nMorocco                  0            0        1           0\nNetherlands              0            1        0           0\nNigeria                  1            0        0           0\nPoland                   1            0        1           0\nPortugal                 0            1        1           0\nScotland                 1            0        0           0\nSpain                    4            9        0          11\nUruguay                  0            1        0           0\nWales                    0            0        0           1",
      "text/html": "<div>\n<style scoped>\n    .dataframe tbody tr th:only-of-type {\n        vertical-align: middle;\n    }\n\n    .dataframe tbody tr th {\n        vertical-align: top;\n    }\n\n    .dataframe thead tr th {\n        text-align: left;\n    }\n\n    .dataframe thead tr:last-of-type th {\n        text-align: right;\n    }\n</style>\n<table border=\"1\" class=\"dataframe\">\n  <thead>\n    <tr>\n      <th></th>\n      <th colspan=\"4\" halign=\"left\">Name</th>\n    </tr>\n    <tr>\n      <th>Club</th>\n      <th>Chelsea</th>\n      <th>FC Barcelona</th>\n      <th>Juventus</th>\n      <th>Real Madrid</th>\n    </tr>\n    <tr>\n      <th>Nationality</th>\n      <th></th>\n      <th></th>\n      <th></th>\n      <th></th>\n    </tr>\n  </thead>\n  <tbody>\n    <tr>\n      <th>Argentina</th>\n      <td>1</td>\n      <td>1</td>\n      <td>1</td>\n      <td>0</td>\n    </tr>\n    <tr>\n      <th>Belgium</th>\n      <td>1</td>\n      <td>1</td>\n      <td>0</td>\n      <td>1</td>\n    </tr>\n    <tr>\n      <th>Bosnia Herzegovina</th>\n      <td>0</td>\n      <td>0</td>\n      <td>1</td>\n      <td>0</td>\n    </tr>\n    <tr>\n      <th>Brazil</th>\n      <td>0</td>\n      <td>2</td>\n      <td>2</td>\n      <td>2</td>\n    </tr>\n    <tr>\n      <th>Chile</th>\n      <td>0</td>\n      <td>1</td>\n      <td>0</td>\n      <td>0</td>\n    </tr>\n    <tr>\n      <th>Costa Rica</th>\n      <td>0</td>\n      <td>0</td>\n      <td>0</td>\n      <td>1</td>\n    </tr>\n    <tr>\n      <th>Croatia</th>\n      <td>1</td>\n      <td>1</td>\n      <td>1</td>\n      <td>1</td>\n    </tr>\n    <tr>\n      <th>Dominican Republic</th>\n      <td>0</td>\n      <td>0</td>\n      <td>0</td>\n      <td>1</td>\n    </tr>\n    <tr>\n      <th>England</th>\n      <td>6</td>\n      <td>0</td>\n      <td>0</td>\n      <td>0</td>\n    </tr>\n    <tr>\n      <th>France</th>\n      <td>2</td>\n      <td>3</td>\n      <td>1</td>\n      <td>3</td>\n    </tr>\n    <tr>\n      <th>Germany</th>\n      <td>0</td>\n      <td>1</td>\n      <td>1</td>\n      <td>1</td>\n    </tr>\n    <tr>\n      <th>Italy</th>\n      <td>2</td>\n      <td>0</td>\n      <td>4</td>\n      <td>0</td>\n    </tr>\n    <tr>\n      <th>Morocco</th>\n      <td>0</td>\n      <td>0</td>\n      <td>1</td>\n      <td>0</td>\n    </tr>\n    <tr>\n      <th>Netherlands</th>\n      <td>0</td>\n      <td>1</td>\n      <td>0</td>\n      <td>0</td>\n    </tr>\n    <tr>\n      <th>Nigeria</th>\n      <td>1</td>\n      <td>0</td>\n      <td>0</td>\n      <td>0</td>\n    </tr>\n    <tr>\n      <th>Poland</th>\n      <td>1</td>\n      <td>0</td>\n      <td>1</td>\n      <td>0</td>\n    </tr>\n    <tr>\n      <th>Portugal</th>\n      <td>0</td>\n      <td>1</td>\n      <td>1</td>\n      <td>0</td>\n    </tr>\n    <tr>\n      <th>Scotland</th>\n      <td>1</td>\n      <td>0</td>\n      <td>0</td>\n      <td>0</td>\n    </tr>\n    <tr>\n      <th>Spain</th>\n      <td>4</td>\n      <td>9</td>\n      <td>0</td>\n      <td>11</td>\n    </tr>\n    <tr>\n      <th>Uruguay</th>\n      <td>0</td>\n      <td>1</td>\n      <td>0</td>\n      <td>0</td>\n    </tr>\n    <tr>\n      <th>Wales</th>\n      <td>0</td>\n      <td>0</td>\n      <td>0</td>\n      <td>1</td>\n    </tr>\n  </tbody>\n</table>\n</div>"
     },
     "metadata": {}
    }
   ],
   "source": [
    "#сводная таблица\n",
    "pivot = df.loc[df['Club'].isin(['FC Barcelona', 'Juventus', 'Real Madrid', 'Chelsea'])].pivot_table(values=['Name'],\n",
    "index=['Nationality'],\n",
    "columns=['Club'],\n",
    "aggfunc='count',\n",
    "margins=False,\n",
    "fill_value=0)\n",
    "display(pivot)"
   ]
  },
  {
   "cell_type": "code",
   "execution_count": 89,
   "metadata": {},
   "outputs": [
    {
     "output_type": "execute_result",
     "data": {
      "text/plain": [
       "11"
      ]
     },
     "metadata": {},
     "execution_count": 89
    }
   ],
   "source": [
    "#Обращение к элементам сводной таблицы\n",
    "pivot.loc['Spain']['Name']['Real Madrid']"
   ]
  },
  {
   "cell_type": "code",
   "execution_count": 96,
   "metadata": {},
   "outputs": [
    {
     "output_type": "execute_result",
     "data": {
      "text/plain": [
       "Position               CAM  CB  CDM  CF  CM  GK  LAM  LB  LCB  LCM  ...  RB  \\\n",
       "Club                                                                ...       \n",
       " SSV Jahn Regensburg     0   5    1   0   2   3    0   2    0    0  ...   2   \n",
       "1. FC Heidenheim 1846    1   3    0   0   1   2    0   2    1    0  ...   2   \n",
       "1. FC Kaiserslautern     0   3    3   0   0   3    0   2    1    0  ...   2   \n",
       "1. FC Köln               0   1    1   0   2   3    0   0    0    0  ...   1   \n",
       "1. FC Magdeburg          0   4    0   1   0   3    0   1    1    1  ...   0   \n",
       "...                    ...  ..  ...  ..  ..  ..  ...  ..  ...  ...  ...  ..   \n",
       "Zagłębie Sosnowiec       3   2    2   0   0   3    0   3    1    0  ...   1   \n",
       "Çaykur Rizespor          1   2    5   0   0   3    0   2    1    0  ...   3   \n",
       "Örebro SK                0   4    0   0   1   3    0   0    1    1  ...   0   \n",
       "Östersunds FK            1   1    0   1   3   3    0   2    1    1  ...   1   \n",
       "Śląsk Wrocław            0   1    3   0   1   3    0   2    1    0  ...   2   \n",
       "\n",
       "Position               RCB  RCM  RDM  RF  RM  RS  RW  RWB  ST  \n",
       "Club                                                           \n",
       " SSV Jahn Regensburg     1    0    1   0   0   0   0    0   3  \n",
       "1. FC Heidenheim 1846    1    0    0   0   3   0   0    0   2  \n",
       "1. FC Kaiserslautern     0    0    1   0   2   1   0    0   1  \n",
       "1. FC Köln               0    0    0   0   1   0   0    0   0  \n",
       "1. FC Magdeburg          1    1    0   0   3   1   2    0   1  \n",
       "...                    ...  ...  ...  ..  ..  ..  ..  ...  ..  \n",
       "Zagłębie Sosnowiec       1    0    1   0   2   0   0    0   1  \n",
       "Çaykur Rizespor          0    0    1   0   1   0   0    0   1  \n",
       "Örebro SK                1    1    0   0   0   0   2    2   5  \n",
       "Östersunds FK            1    0    0   0   1   0   1    0   1  \n",
       "Śląsk Wrocław            1    0    1   0   2   1   0    0   2  \n",
       "\n",
       "[650 rows x 27 columns]"
      ],
      "text/html": "<div>\n<style scoped>\n    .dataframe tbody tr th:only-of-type {\n        vertical-align: middle;\n    }\n\n    .dataframe tbody tr th {\n        vertical-align: top;\n    }\n\n    .dataframe thead th {\n        text-align: right;\n    }\n</style>\n<table border=\"1\" class=\"dataframe\">\n  <thead>\n    <tr style=\"text-align: right;\">\n      <th>Position</th>\n      <th>CAM</th>\n      <th>CB</th>\n      <th>CDM</th>\n      <th>CF</th>\n      <th>CM</th>\n      <th>GK</th>\n      <th>LAM</th>\n      <th>LB</th>\n      <th>LCB</th>\n      <th>LCM</th>\n      <th>...</th>\n      <th>RB</th>\n      <th>RCB</th>\n      <th>RCM</th>\n      <th>RDM</th>\n      <th>RF</th>\n      <th>RM</th>\n      <th>RS</th>\n      <th>RW</th>\n      <th>RWB</th>\n      <th>ST</th>\n    </tr>\n    <tr>\n      <th>Club</th>\n      <th></th>\n      <th></th>\n      <th></th>\n      <th></th>\n      <th></th>\n      <th></th>\n      <th></th>\n      <th></th>\n      <th></th>\n      <th></th>\n      <th></th>\n      <th></th>\n      <th></th>\n      <th></th>\n      <th></th>\n      <th></th>\n      <th></th>\n      <th></th>\n      <th></th>\n      <th></th>\n      <th></th>\n    </tr>\n  </thead>\n  <tbody>\n    <tr>\n      <th>SSV Jahn Regensburg</th>\n      <td>0</td>\n      <td>5</td>\n      <td>1</td>\n      <td>0</td>\n      <td>2</td>\n      <td>3</td>\n      <td>0</td>\n      <td>2</td>\n      <td>0</td>\n      <td>0</td>\n      <td>...</td>\n      <td>2</td>\n      <td>1</td>\n      <td>0</td>\n      <td>1</td>\n      <td>0</td>\n      <td>0</td>\n      <td>0</td>\n      <td>0</td>\n      <td>0</td>\n      <td>3</td>\n    </tr>\n    <tr>\n      <th>1. FC Heidenheim 1846</th>\n      <td>1</td>\n      <td>3</td>\n      <td>0</td>\n      <td>0</td>\n      <td>1</td>\n      <td>2</td>\n      <td>0</td>\n      <td>2</td>\n      <td>1</td>\n      <td>0</td>\n      <td>...</td>\n      <td>2</td>\n      <td>1</td>\n      <td>0</td>\n      <td>0</td>\n      <td>0</td>\n      <td>3</td>\n      <td>0</td>\n      <td>0</td>\n      <td>0</td>\n      <td>2</td>\n    </tr>\n    <tr>\n      <th>1. FC Kaiserslautern</th>\n      <td>0</td>\n      <td>3</td>\n      <td>3</td>\n      <td>0</td>\n      <td>0</td>\n      <td>3</td>\n      <td>0</td>\n      <td>2</td>\n      <td>1</td>\n      <td>0</td>\n      <td>...</td>\n      <td>2</td>\n      <td>0</td>\n      <td>0</td>\n      <td>1</td>\n      <td>0</td>\n      <td>2</td>\n      <td>1</td>\n      <td>0</td>\n      <td>0</td>\n      <td>1</td>\n    </tr>\n    <tr>\n      <th>1. FC Köln</th>\n      <td>0</td>\n      <td>1</td>\n      <td>1</td>\n      <td>0</td>\n      <td>2</td>\n      <td>3</td>\n      <td>0</td>\n      <td>0</td>\n      <td>0</td>\n      <td>0</td>\n      <td>...</td>\n      <td>1</td>\n      <td>0</td>\n      <td>0</td>\n      <td>0</td>\n      <td>0</td>\n      <td>1</td>\n      <td>0</td>\n      <td>0</td>\n      <td>0</td>\n      <td>0</td>\n    </tr>\n    <tr>\n      <th>1. FC Magdeburg</th>\n      <td>0</td>\n      <td>4</td>\n      <td>0</td>\n      <td>1</td>\n      <td>0</td>\n      <td>3</td>\n      <td>0</td>\n      <td>1</td>\n      <td>1</td>\n      <td>1</td>\n      <td>...</td>\n      <td>0</td>\n      <td>1</td>\n      <td>1</td>\n      <td>0</td>\n      <td>0</td>\n      <td>3</td>\n      <td>1</td>\n      <td>2</td>\n      <td>0</td>\n      <td>1</td>\n    </tr>\n    <tr>\n      <th>...</th>\n      <td>...</td>\n      <td>...</td>\n      <td>...</td>\n      <td>...</td>\n      <td>...</td>\n      <td>...</td>\n      <td>...</td>\n      <td>...</td>\n      <td>...</td>\n      <td>...</td>\n      <td>...</td>\n      <td>...</td>\n      <td>...</td>\n      <td>...</td>\n      <td>...</td>\n      <td>...</td>\n      <td>...</td>\n      <td>...</td>\n      <td>...</td>\n      <td>...</td>\n      <td>...</td>\n    </tr>\n    <tr>\n      <th>Zagłębie Sosnowiec</th>\n      <td>3</td>\n      <td>2</td>\n      <td>2</td>\n      <td>0</td>\n      <td>0</td>\n      <td>3</td>\n      <td>0</td>\n      <td>3</td>\n      <td>1</td>\n      <td>0</td>\n      <td>...</td>\n      <td>1</td>\n      <td>1</td>\n      <td>0</td>\n      <td>1</td>\n      <td>0</td>\n      <td>2</td>\n      <td>0</td>\n      <td>0</td>\n      <td>0</td>\n      <td>1</td>\n    </tr>\n    <tr>\n      <th>Çaykur Rizespor</th>\n      <td>1</td>\n      <td>2</td>\n      <td>5</td>\n      <td>0</td>\n      <td>0</td>\n      <td>3</td>\n      <td>0</td>\n      <td>2</td>\n      <td>1</td>\n      <td>0</td>\n      <td>...</td>\n      <td>3</td>\n      <td>0</td>\n      <td>0</td>\n      <td>1</td>\n      <td>0</td>\n      <td>1</td>\n      <td>0</td>\n      <td>0</td>\n      <td>0</td>\n      <td>1</td>\n    </tr>\n    <tr>\n      <th>Örebro SK</th>\n      <td>0</td>\n      <td>4</td>\n      <td>0</td>\n      <td>0</td>\n      <td>1</td>\n      <td>3</td>\n      <td>0</td>\n      <td>0</td>\n      <td>1</td>\n      <td>1</td>\n      <td>...</td>\n      <td>0</td>\n      <td>1</td>\n      <td>1</td>\n      <td>0</td>\n      <td>0</td>\n      <td>0</td>\n      <td>0</td>\n      <td>2</td>\n      <td>2</td>\n      <td>5</td>\n    </tr>\n    <tr>\n      <th>Östersunds FK</th>\n      <td>1</td>\n      <td>1</td>\n      <td>0</td>\n      <td>1</td>\n      <td>3</td>\n      <td>3</td>\n      <td>0</td>\n      <td>2</td>\n      <td>1</td>\n      <td>1</td>\n      <td>...</td>\n      <td>1</td>\n      <td>1</td>\n      <td>0</td>\n      <td>0</td>\n      <td>0</td>\n      <td>1</td>\n      <td>0</td>\n      <td>1</td>\n      <td>0</td>\n      <td>1</td>\n    </tr>\n    <tr>\n      <th>Śląsk Wrocław</th>\n      <td>0</td>\n      <td>1</td>\n      <td>3</td>\n      <td>0</td>\n      <td>1</td>\n      <td>3</td>\n      <td>0</td>\n      <td>2</td>\n      <td>1</td>\n      <td>0</td>\n      <td>...</td>\n      <td>2</td>\n      <td>1</td>\n      <td>0</td>\n      <td>1</td>\n      <td>0</td>\n      <td>2</td>\n      <td>1</td>\n      <td>0</td>\n      <td>0</td>\n      <td>2</td>\n    </tr>\n  </tbody>\n</table>\n<p>650 rows × 27 columns</p>\n</div>"
     },
     "metadata": {},
     "execution_count": 96
    }
   ],
   "source": [
    "pos = df.pivot_table(values='Name',\n",
    "index='Club',\n",
    "columns='Position',\n",
    "aggfunc='count',\n",
    "fill_value=0)\n",
    "pos\n",
    "\n"
   ]
  },
  {
   "cell_type": "code",
   "execution_count": 103,
   "metadata": {},
   "outputs": [
    {
     "output_type": "display_data",
     "data": {
      "text/plain": "2.5246153846153847"
     },
     "metadata": {}
    }
   ],
   "source": [
    "display(pos['GK'].mean())\n"
   ]
  },
  {
   "cell_type": "code",
   "execution_count": 104,
   "metadata": {},
   "outputs": [],
   "source": [
    "frame = pd.DataFrame(pos)"
   ]
  },
  {
   "cell_type": "code",
   "execution_count": 114,
   "metadata": {},
   "outputs": [
    {
     "output_type": "execute_result",
     "data": {
      "text/plain": [
       "136"
      ]
     },
     "metadata": {},
     "execution_count": 114
    }
   ],
   "source": [
    "cm = len(frame[frame.CM == 0].value_counts())\n",
    "cm"
   ]
  },
  {
   "cell_type": "code",
   "execution_count": 115,
   "metadata": {},
   "outputs": [
    {
     "output_type": "execute_result",
     "data": {
      "text/plain": [
       "Nationality            Afghanistan  Albania  Algeria  Andorra  Angola  \\\n",
       "Club                                                                    \n",
       " SSV Jahn Regensburg             0        0        0        0       0   \n",
       "1. FC Heidenheim 1846            0        0        0        0       0   \n",
       "1. FC Kaiserslautern             0        0        0        0       0   \n",
       "1. FC Köln                       0        0        0        0       0   \n",
       "1. FC Magdeburg                  0        0        0        0       0   \n",
       "...                            ...      ...      ...      ...     ...   \n",
       "Zagłębie Sosnowiec               0        0        0        0    1000   \n",
       "Çaykur Rizespor                  0        0        0        0       0   \n",
       "Örebro SK                        0     1000        0        0       0   \n",
       "Östersunds FK                    0        0        0        0       0   \n",
       "Śląsk Wrocław                    0        0        0        0       0   \n",
       "\n",
       "Nationality            Antigua & Barbuda  Argentina  Armenia  Australia  \\\n",
       "Club                                                                      \n",
       " SSV Jahn Regensburg                   0          0        0          0   \n",
       "1. FC Heidenheim 1846                  0          0        0          0   \n",
       "1. FC Kaiserslautern                   0          0        0          0   \n",
       "1. FC Köln                             0          0        0          0   \n",
       "1. FC Magdeburg                        0          0        0          0   \n",
       "...                                  ...        ...      ...        ...   \n",
       "Zagłębie Sosnowiec                     0          0        0          0   \n",
       "Çaykur Rizespor                        0          0        0          0   \n",
       "Örebro SK                              0          0        0          0   \n",
       "Östersunds FK                          0          0        0          0   \n",
       "Śląsk Wrocław                          0          0        0          0   \n",
       "\n",
       "Nationality            Austria  ...  Turkey  Uganda  Ukraine  United States  \\\n",
       "Club                            ...                                           \n",
       " SSV Jahn Regensburg         0  ...       0       0        0              0   \n",
       "1. FC Heidenheim 1846        0  ...       0       0        0              0   \n",
       "1. FC Kaiserslautern         0  ...    1000       0        0              0   \n",
       "1. FC Köln               18000  ...       0       0        0           1000   \n",
       "1. FC Magdeburg              0  ...       0       0        0              0   \n",
       "...                        ...  ...     ...     ...      ...            ...   \n",
       "Zagłębie Sosnowiec           0  ...       0       0        0              0   \n",
       "Çaykur Rizespor              0  ...   47000       0        0              0   \n",
       "Örebro SK                    0  ...       0       0        0              0   \n",
       "Östersunds FK                0  ...       0       0        0              0   \n",
       "Śląsk Wrocław                0  ...       0       0        0              0   \n",
       "\n",
       "Nationality            Uruguay  Uzbekistan  Venezuela  Wales  Zambia  Zimbabwe  \n",
       "Club                                                                            \n",
       " SSV Jahn Regensburg         0           0          0      0       0         0  \n",
       "1. FC Heidenheim 1846        0           0          0      0       0         0  \n",
       "1. FC Kaiserslautern         0           0          0      0       0         0  \n",
       "1. FC Köln                   0           0          0      0       0         0  \n",
       "1. FC Magdeburg              0           0          0      0       0         0  \n",
       "...                        ...         ...        ...    ...     ...       ...  \n",
       "Zagłębie Sosnowiec           0           0          0      0       0         0  \n",
       "Çaykur Rizespor              0           0          0      0       0         0  \n",
       "Örebro SK                    0           0          0      0       0         0  \n",
       "Östersunds FK                0           0          0      0       0         0  \n",
       "Śląsk Wrocław                0           0          0      0       0         0  \n",
       "\n",
       "[650 rows x 156 columns]"
      ],
      "text/html": "<div>\n<style scoped>\n    .dataframe tbody tr th:only-of-type {\n        vertical-align: middle;\n    }\n\n    .dataframe tbody tr th {\n        vertical-align: top;\n    }\n\n    .dataframe thead th {\n        text-align: right;\n    }\n</style>\n<table border=\"1\" class=\"dataframe\">\n  <thead>\n    <tr style=\"text-align: right;\">\n      <th>Nationality</th>\n      <th>Afghanistan</th>\n      <th>Albania</th>\n      <th>Algeria</th>\n      <th>Andorra</th>\n      <th>Angola</th>\n      <th>Antigua &amp; Barbuda</th>\n      <th>Argentina</th>\n      <th>Armenia</th>\n      <th>Australia</th>\n      <th>Austria</th>\n      <th>...</th>\n      <th>Turkey</th>\n      <th>Uganda</th>\n      <th>Ukraine</th>\n      <th>United States</th>\n      <th>Uruguay</th>\n      <th>Uzbekistan</th>\n      <th>Venezuela</th>\n      <th>Wales</th>\n      <th>Zambia</th>\n      <th>Zimbabwe</th>\n    </tr>\n    <tr>\n      <th>Club</th>\n      <th></th>\n      <th></th>\n      <th></th>\n      <th></th>\n      <th></th>\n      <th></th>\n      <th></th>\n      <th></th>\n      <th></th>\n      <th></th>\n      <th></th>\n      <th></th>\n      <th></th>\n      <th></th>\n      <th></th>\n      <th></th>\n      <th></th>\n      <th></th>\n      <th></th>\n      <th></th>\n      <th></th>\n    </tr>\n  </thead>\n  <tbody>\n    <tr>\n      <th>SSV Jahn Regensburg</th>\n      <td>0</td>\n      <td>0</td>\n      <td>0</td>\n      <td>0</td>\n      <td>0</td>\n      <td>0</td>\n      <td>0</td>\n      <td>0</td>\n      <td>0</td>\n      <td>0</td>\n      <td>...</td>\n      <td>0</td>\n      <td>0</td>\n      <td>0</td>\n      <td>0</td>\n      <td>0</td>\n      <td>0</td>\n      <td>0</td>\n      <td>0</td>\n      <td>0</td>\n      <td>0</td>\n    </tr>\n    <tr>\n      <th>1. FC Heidenheim 1846</th>\n      <td>0</td>\n      <td>0</td>\n      <td>0</td>\n      <td>0</td>\n      <td>0</td>\n      <td>0</td>\n      <td>0</td>\n      <td>0</td>\n      <td>0</td>\n      <td>0</td>\n      <td>...</td>\n      <td>0</td>\n      <td>0</td>\n      <td>0</td>\n      <td>0</td>\n      <td>0</td>\n      <td>0</td>\n      <td>0</td>\n      <td>0</td>\n      <td>0</td>\n      <td>0</td>\n    </tr>\n    <tr>\n      <th>1. FC Kaiserslautern</th>\n      <td>0</td>\n      <td>0</td>\n      <td>0</td>\n      <td>0</td>\n      <td>0</td>\n      <td>0</td>\n      <td>0</td>\n      <td>0</td>\n      <td>0</td>\n      <td>0</td>\n      <td>...</td>\n      <td>1000</td>\n      <td>0</td>\n      <td>0</td>\n      <td>0</td>\n      <td>0</td>\n      <td>0</td>\n      <td>0</td>\n      <td>0</td>\n      <td>0</td>\n      <td>0</td>\n    </tr>\n    <tr>\n      <th>1. FC Köln</th>\n      <td>0</td>\n      <td>0</td>\n      <td>0</td>\n      <td>0</td>\n      <td>0</td>\n      <td>0</td>\n      <td>0</td>\n      <td>0</td>\n      <td>0</td>\n      <td>18000</td>\n      <td>...</td>\n      <td>0</td>\n      <td>0</td>\n      <td>0</td>\n      <td>1000</td>\n      <td>0</td>\n      <td>0</td>\n      <td>0</td>\n      <td>0</td>\n      <td>0</td>\n      <td>0</td>\n    </tr>\n    <tr>\n      <th>1. FC Magdeburg</th>\n      <td>0</td>\n      <td>0</td>\n      <td>0</td>\n      <td>0</td>\n      <td>0</td>\n      <td>0</td>\n      <td>0</td>\n      <td>0</td>\n      <td>0</td>\n      <td>0</td>\n      <td>...</td>\n      <td>0</td>\n      <td>0</td>\n      <td>0</td>\n      <td>0</td>\n      <td>0</td>\n      <td>0</td>\n      <td>0</td>\n      <td>0</td>\n      <td>0</td>\n      <td>0</td>\n    </tr>\n    <tr>\n      <th>...</th>\n      <td>...</td>\n      <td>...</td>\n      <td>...</td>\n      <td>...</td>\n      <td>...</td>\n      <td>...</td>\n      <td>...</td>\n      <td>...</td>\n      <td>...</td>\n      <td>...</td>\n      <td>...</td>\n      <td>...</td>\n      <td>...</td>\n      <td>...</td>\n      <td>...</td>\n      <td>...</td>\n      <td>...</td>\n      <td>...</td>\n      <td>...</td>\n      <td>...</td>\n      <td>...</td>\n    </tr>\n    <tr>\n      <th>Zagłębie Sosnowiec</th>\n      <td>0</td>\n      <td>0</td>\n      <td>0</td>\n      <td>0</td>\n      <td>1000</td>\n      <td>0</td>\n      <td>0</td>\n      <td>0</td>\n      <td>0</td>\n      <td>0</td>\n      <td>...</td>\n      <td>0</td>\n      <td>0</td>\n      <td>0</td>\n      <td>0</td>\n      <td>0</td>\n      <td>0</td>\n      <td>0</td>\n      <td>0</td>\n      <td>0</td>\n      <td>0</td>\n    </tr>\n    <tr>\n      <th>Çaykur Rizespor</th>\n      <td>0</td>\n      <td>0</td>\n      <td>0</td>\n      <td>0</td>\n      <td>0</td>\n      <td>0</td>\n      <td>0</td>\n      <td>0</td>\n      <td>0</td>\n      <td>0</td>\n      <td>...</td>\n      <td>47000</td>\n      <td>0</td>\n      <td>0</td>\n      <td>0</td>\n      <td>0</td>\n      <td>0</td>\n      <td>0</td>\n      <td>0</td>\n      <td>0</td>\n      <td>0</td>\n    </tr>\n    <tr>\n      <th>Örebro SK</th>\n      <td>0</td>\n      <td>1000</td>\n      <td>0</td>\n      <td>0</td>\n      <td>0</td>\n      <td>0</td>\n      <td>0</td>\n      <td>0</td>\n      <td>0</td>\n      <td>0</td>\n      <td>...</td>\n      <td>0</td>\n      <td>0</td>\n      <td>0</td>\n      <td>0</td>\n      <td>0</td>\n      <td>0</td>\n      <td>0</td>\n      <td>0</td>\n      <td>0</td>\n      <td>0</td>\n    </tr>\n    <tr>\n      <th>Östersunds FK</th>\n      <td>0</td>\n      <td>0</td>\n      <td>0</td>\n      <td>0</td>\n      <td>0</td>\n      <td>0</td>\n      <td>0</td>\n      <td>0</td>\n      <td>0</td>\n      <td>0</td>\n      <td>...</td>\n      <td>0</td>\n      <td>0</td>\n      <td>0</td>\n      <td>0</td>\n      <td>0</td>\n      <td>0</td>\n      <td>0</td>\n      <td>0</td>\n      <td>0</td>\n      <td>0</td>\n    </tr>\n    <tr>\n      <th>Śląsk Wrocław</th>\n      <td>0</td>\n      <td>0</td>\n      <td>0</td>\n      <td>0</td>\n      <td>0</td>\n      <td>0</td>\n      <td>0</td>\n      <td>0</td>\n      <td>0</td>\n      <td>0</td>\n      <td>...</td>\n      <td>0</td>\n      <td>0</td>\n      <td>0</td>\n      <td>0</td>\n      <td>0</td>\n      <td>0</td>\n      <td>0</td>\n      <td>0</td>\n      <td>0</td>\n      <td>0</td>\n    </tr>\n  </tbody>\n</table>\n<p>650 rows × 156 columns</p>\n</div>"
     },
     "metadata": {},
     "execution_count": 115
    }
   ],
   "source": [
    "wg = df.pivot_table(values='Wage',\n",
    "index='Club',\n",
    "columns='Nationality',\n",
    "aggfunc='sum',\n",
    "fill_value=0)\n",
    "wg"
   ]
  },
  {
   "cell_type": "code",
   "execution_count": 116,
   "metadata": {},
   "outputs": [
    {
     "output_type": "execute_result",
     "data": {
      "text/plain": [
       "61000"
      ]
     },
     "metadata": {},
     "execution_count": 116
    }
   ],
   "source": [
    "wg.loc['AS Monaco']['Russia']"
   ]
  },
  {
   "cell_type": "code",
   "execution_count": 134,
   "metadata": {},
   "outputs": [
    {
     "output_type": "display_data",
     "data": {
      "text/plain": "Position           CAM         CB        CDM         CF         CM         GK  \\\nSprintSpeed  68.236967  57.734854  60.813314  69.803922  64.299906  37.622182   \n\nPosition           LAM         LB       LCB        LCM        LDM      LF  \\\nSprintSpeed  76.333333  70.718563  58.93643  65.334764  62.006757  75.875   \n\nPosition            LM         LS         LW        LWB   RAM         RB  \\\nSprintSpeed  74.211538  72.338843  74.747934  72.833333  73.8  71.186709   \n\nPosition           RCB        RCM        RDM         RF         RM         RS  \\\nSprintSpeed  58.239234  65.233333  62.152174  76.333333  74.943864  71.991228   \n\nPosition            RW        RWB         ST  \nSprintSpeed  75.417722  73.128571  68.700397  ",
      "text/html": "<div>\n<style scoped>\n    .dataframe tbody tr th:only-of-type {\n        vertical-align: middle;\n    }\n\n    .dataframe tbody tr th {\n        vertical-align: top;\n    }\n\n    .dataframe thead th {\n        text-align: right;\n    }\n</style>\n<table border=\"1\" class=\"dataframe\">\n  <thead>\n    <tr style=\"text-align: right;\">\n      <th>Position</th>\n      <th>CAM</th>\n      <th>CB</th>\n      <th>CDM</th>\n      <th>CF</th>\n      <th>CM</th>\n      <th>GK</th>\n      <th>LAM</th>\n      <th>LB</th>\n      <th>LCB</th>\n      <th>LCM</th>\n      <th>LDM</th>\n      <th>LF</th>\n      <th>LM</th>\n      <th>LS</th>\n      <th>LW</th>\n      <th>LWB</th>\n      <th>RAM</th>\n      <th>RB</th>\n      <th>RCB</th>\n      <th>RCM</th>\n      <th>RDM</th>\n      <th>RF</th>\n      <th>RM</th>\n      <th>RS</th>\n      <th>RW</th>\n      <th>RWB</th>\n      <th>ST</th>\n    </tr>\n  </thead>\n  <tbody>\n    <tr>\n      <th>SprintSpeed</th>\n      <td>68.236967</td>\n      <td>57.734854</td>\n      <td>60.813314</td>\n      <td>69.803922</td>\n      <td>64.299906</td>\n      <td>37.622182</td>\n      <td>76.333333</td>\n      <td>70.718563</td>\n      <td>58.93643</td>\n      <td>65.334764</td>\n      <td>62.006757</td>\n      <td>75.875</td>\n      <td>74.211538</td>\n      <td>72.338843</td>\n      <td>74.747934</td>\n      <td>72.833333</td>\n      <td>73.8</td>\n      <td>71.186709</td>\n      <td>58.239234</td>\n      <td>65.233333</td>\n      <td>62.152174</td>\n      <td>76.333333</td>\n      <td>74.943864</td>\n      <td>71.991228</td>\n      <td>75.417722</td>\n      <td>73.128571</td>\n      <td>68.700397</td>\n    </tr>\n  </tbody>\n</table>\n</div>"
     },
     "metadata": {}
    }
   ],
   "source": [
    "with pd.option_context('display.max_rows', None, 'display.max_columns', None):\n",
    "    display(spd)"
   ]
  },
  {
   "cell_type": "code",
   "execution_count": 129,
   "metadata": {},
   "outputs": [
    {
     "output_type": "error",
     "ename": "KeyError",
     "evalue": "'SprintSpeed'",
     "traceback": [
      "\u001b[1;31m---------------------------------------------------------------------------\u001b[0m",
      "\u001b[1;31mKeyError\u001b[0m                                  Traceback (most recent call last)",
      "\u001b[1;32m<ipython-input-129-7d10d516941b>\u001b[0m in \u001b[0;36m<module>\u001b[1;34m\u001b[0m\n\u001b[0;32m      1\u001b[0m \u001b[0msp\u001b[0m \u001b[1;33m=\u001b[0m \u001b[0mpd\u001b[0m\u001b[1;33m.\u001b[0m\u001b[0mDataFrame\u001b[0m\u001b[1;33m(\u001b[0m\u001b[0mspd\u001b[0m\u001b[1;33m)\u001b[0m\u001b[1;33m\u001b[0m\u001b[1;33m\u001b[0m\u001b[0m\n\u001b[1;32m----> 2\u001b[1;33m \u001b[0msp\u001b[0m\u001b[1;33m.\u001b[0m\u001b[0msort_values\u001b[0m\u001b[1;33m(\u001b[0m\u001b[1;33m[\u001b[0m\u001b[1;34m'SprintSpeed'\u001b[0m\u001b[1;33m]\u001b[0m\u001b[1;33m,\u001b[0m \u001b[0mascending\u001b[0m\u001b[1;33m=\u001b[0m\u001b[1;32mFalse\u001b[0m\u001b[1;33m)\u001b[0m\u001b[1;33m\u001b[0m\u001b[1;33m\u001b[0m\u001b[0m\n\u001b[0m",
      "\u001b[1;32m~\\AppData\\Local\\Programs\\Python\\Python38\\lib\\site-packages\\pandas\\core\\frame.py\u001b[0m in \u001b[0;36msort_values\u001b[1;34m(self, by, axis, ascending, inplace, kind, na_position, ignore_index, key)\u001b[0m\n\u001b[0;32m   5453\u001b[0m \u001b[1;33m\u001b[0m\u001b[0m\n\u001b[0;32m   5454\u001b[0m             \u001b[0mby\u001b[0m \u001b[1;33m=\u001b[0m \u001b[0mby\u001b[0m\u001b[1;33m[\u001b[0m\u001b[1;36m0\u001b[0m\u001b[1;33m]\u001b[0m\u001b[1;33m\u001b[0m\u001b[1;33m\u001b[0m\u001b[0m\n\u001b[1;32m-> 5455\u001b[1;33m             \u001b[0mk\u001b[0m \u001b[1;33m=\u001b[0m \u001b[0mself\u001b[0m\u001b[1;33m.\u001b[0m\u001b[0m_get_label_or_level_values\u001b[0m\u001b[1;33m(\u001b[0m\u001b[0mby\u001b[0m\u001b[1;33m,\u001b[0m \u001b[0maxis\u001b[0m\u001b[1;33m=\u001b[0m\u001b[0maxis\u001b[0m\u001b[1;33m)\u001b[0m\u001b[1;33m\u001b[0m\u001b[1;33m\u001b[0m\u001b[0m\n\u001b[0m\u001b[0;32m   5456\u001b[0m \u001b[1;33m\u001b[0m\u001b[0m\n\u001b[0;32m   5457\u001b[0m             \u001b[1;31m# need to rewrap column in Series to apply key function\u001b[0m\u001b[1;33m\u001b[0m\u001b[1;33m\u001b[0m\u001b[1;33m\u001b[0m\u001b[0m\n",
      "\u001b[1;32m~\\AppData\\Local\\Programs\\Python\\Python38\\lib\\site-packages\\pandas\\core\\generic.py\u001b[0m in \u001b[0;36m_get_label_or_level_values\u001b[1;34m(self, key, axis)\u001b[0m\n\u001b[0;32m   1682\u001b[0m             \u001b[0mvalues\u001b[0m \u001b[1;33m=\u001b[0m \u001b[0mself\u001b[0m\u001b[1;33m.\u001b[0m\u001b[0maxes\u001b[0m\u001b[1;33m[\u001b[0m\u001b[0maxis\u001b[0m\u001b[1;33m]\u001b[0m\u001b[1;33m.\u001b[0m\u001b[0mget_level_values\u001b[0m\u001b[1;33m(\u001b[0m\u001b[0mkey\u001b[0m\u001b[1;33m)\u001b[0m\u001b[1;33m.\u001b[0m\u001b[0m_values\u001b[0m\u001b[1;33m\u001b[0m\u001b[1;33m\u001b[0m\u001b[0m\n\u001b[0;32m   1683\u001b[0m         \u001b[1;32melse\u001b[0m\u001b[1;33m:\u001b[0m\u001b[1;33m\u001b[0m\u001b[1;33m\u001b[0m\u001b[0m\n\u001b[1;32m-> 1684\u001b[1;33m             \u001b[1;32mraise\u001b[0m \u001b[0mKeyError\u001b[0m\u001b[1;33m(\u001b[0m\u001b[0mkey\u001b[0m\u001b[1;33m)\u001b[0m\u001b[1;33m\u001b[0m\u001b[1;33m\u001b[0m\u001b[0m\n\u001b[0m\u001b[0;32m   1685\u001b[0m \u001b[1;33m\u001b[0m\u001b[0m\n\u001b[0;32m   1686\u001b[0m         \u001b[1;31m# Check for duplicates\u001b[0m\u001b[1;33m\u001b[0m\u001b[1;33m\u001b[0m\u001b[1;33m\u001b[0m\u001b[0m\n",
      "\u001b[1;31mKeyError\u001b[0m: 'SprintSpeed'"
     ]
    }
   ],
   "source": []
  },
  {
   "cell_type": "code",
   "execution_count": null,
   "metadata": {},
   "outputs": [],
   "source": []
  }
 ]
}