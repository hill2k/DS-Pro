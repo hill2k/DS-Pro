{
 "metadata": {
  "language_info": {
   "codemirror_mode": {
    "name": "ipython",
    "version": 3
   },
   "file_extension": ".py",
   "mimetype": "text/x-python",
   "name": "python",
   "nbconvert_exporter": "python",
   "pygments_lexer": "ipython3",
   "version": "3.8.8"
  },
  "orig_nbformat": 2,
  "kernelspec": {
   "name": "python388jvsc74a57bd049fdda9a8f1b43ecf94cbf6adfec0c9149aed4e40f425dad389976f3db3c5b4b",
   "display_name": "Python 3.8.8 64-bit"
  },
  "metadata": {
   "interpreter": {
    "hash": "49fdda9a8f1b43ecf94cbf6adfec0c9149aed4e40f425dad389976f3db3c5b4b"
   }
  }
 },
 "nbformat": 4,
 "nbformat_minor": 2,
 "cells": [
  {
   "cell_type": "code",
   "execution_count": 32,
   "metadata": {},
   "outputs": [
    {
     "output_type": "execute_result",
     "data": {
      "text/plain": [
       "     Запись пользователя № - user_919  [2019-01-01 14:06:51  Unnamed: 2  \\\n",
       "0    Запись пользователя № - user_973  [2019-01-01 14:51:16         NaN   \n",
       "1    Запись пользователя № - user_903  [2019-01-01 16:31:16         NaN   \n",
       "2    Запись пользователя № - user_954  [2019-01-01 17:17:51         NaN   \n",
       "3    Запись пользователя № - user_954  [2019-01-01 21:31:18         NaN   \n",
       "4    Запись пользователя № - user_917  [2019-01-01 23:34:55    156789.0   \n",
       "..                                ...                   ...         ...   \n",
       "994  Запись пользователя № - user_984   [2019-04-20 9:59:58      9754.0   \n",
       "995                            #error                   NaN     10054.0   \n",
       "996                            #error                   NaN     10454.0   \n",
       "997                            #error                   NaN      1000.0   \n",
       "998                            #error                   NaN     10754.0   \n",
       "\n",
       "     Unnamed: 3  \n",
       "0           NaN  \n",
       "1           NaN  \n",
       "2           NaN  \n",
       "3           NaN  \n",
       "4           NaN  \n",
       "..          ...  \n",
       "994         NaN  \n",
       "995     29265.0  \n",
       "996         NaN  \n",
       "997         NaN  \n",
       "998         NaN  \n",
       "\n",
       "[999 rows x 4 columns]"
      ],
      "text/html": "<div>\n<style scoped>\n    .dataframe tbody tr th:only-of-type {\n        vertical-align: middle;\n    }\n\n    .dataframe tbody tr th {\n        vertical-align: top;\n    }\n\n    .dataframe thead th {\n        text-align: right;\n    }\n</style>\n<table border=\"1\" class=\"dataframe\">\n  <thead>\n    <tr style=\"text-align: right;\">\n      <th></th>\n      <th>Запись пользователя № - user_919</th>\n      <th>[2019-01-01 14:06:51</th>\n      <th>Unnamed: 2</th>\n      <th>Unnamed: 3</th>\n    </tr>\n  </thead>\n  <tbody>\n    <tr>\n      <th>0</th>\n      <td>Запись пользователя № - user_973</td>\n      <td>[2019-01-01 14:51:16</td>\n      <td>NaN</td>\n      <td>NaN</td>\n    </tr>\n    <tr>\n      <th>1</th>\n      <td>Запись пользователя № - user_903</td>\n      <td>[2019-01-01 16:31:16</td>\n      <td>NaN</td>\n      <td>NaN</td>\n    </tr>\n    <tr>\n      <th>2</th>\n      <td>Запись пользователя № - user_954</td>\n      <td>[2019-01-01 17:17:51</td>\n      <td>NaN</td>\n      <td>NaN</td>\n    </tr>\n    <tr>\n      <th>3</th>\n      <td>Запись пользователя № - user_954</td>\n      <td>[2019-01-01 21:31:18</td>\n      <td>NaN</td>\n      <td>NaN</td>\n    </tr>\n    <tr>\n      <th>4</th>\n      <td>Запись пользователя № - user_917</td>\n      <td>[2019-01-01 23:34:55</td>\n      <td>156789.0</td>\n      <td>NaN</td>\n    </tr>\n    <tr>\n      <th>...</th>\n      <td>...</td>\n      <td>...</td>\n      <td>...</td>\n      <td>...</td>\n    </tr>\n    <tr>\n      <th>994</th>\n      <td>Запись пользователя № - user_984</td>\n      <td>[2019-04-20 9:59:58</td>\n      <td>9754.0</td>\n      <td>NaN</td>\n    </tr>\n    <tr>\n      <th>995</th>\n      <td>#error</td>\n      <td>NaN</td>\n      <td>10054.0</td>\n      <td>29265.0</td>\n    </tr>\n    <tr>\n      <th>996</th>\n      <td>#error</td>\n      <td>NaN</td>\n      <td>10454.0</td>\n      <td>NaN</td>\n    </tr>\n    <tr>\n      <th>997</th>\n      <td>#error</td>\n      <td>NaN</td>\n      <td>1000.0</td>\n      <td>NaN</td>\n    </tr>\n    <tr>\n      <th>998</th>\n      <td>#error</td>\n      <td>NaN</td>\n      <td>10754.0</td>\n      <td>NaN</td>\n    </tr>\n  </tbody>\n</table>\n<p>999 rows × 4 columns</p>\n</div>"
     },
     "metadata": {},
     "execution_count": 32
    }
   ],
   "source": [
    "import pandas as pd\n",
    "#Загрузим \"log.csv\" в dataframe log с помощью read_csv.\n",
    "log = pd.read_csv(r'E:\\Projects\\Skillfactory\\Unit_1\\Files\\log.csv')\n",
    "log"
   ]
  },
  {
   "cell_type": "code",
   "execution_count": 33,
   "metadata": {},
   "outputs": [
    {
     "output_type": "execute_result",
     "data": {
      "text/plain": [
       "                                    0                     1        2        3\n",
       "0    Запись пользователя № - user_919  [2019-01-01 14:06:51      NaN      NaN\n",
       "1    Запись пользователя № - user_973  [2019-01-01 14:51:16      NaN      NaN\n",
       "2    Запись пользователя № - user_903  [2019-01-01 16:31:16      NaN      NaN\n",
       "3    Запись пользователя № - user_954  [2019-01-01 17:17:51      NaN      NaN\n",
       "4    Запись пользователя № - user_954  [2019-01-01 21:31:18      NaN      NaN\n",
       "..                                ...                   ...      ...      ...\n",
       "995  Запись пользователя № - user_984   [2019-04-20 9:59:58   9754.0      NaN\n",
       "996                            #error                   NaN  10054.0  29265.0\n",
       "997                            #error                   NaN  10454.0      NaN\n",
       "998                            #error                   NaN   1000.0      NaN\n",
       "999                            #error                   NaN  10754.0      NaN\n",
       "\n",
       "[1000 rows x 4 columns]"
      ],
      "text/html": "<div>\n<style scoped>\n    .dataframe tbody tr th:only-of-type {\n        vertical-align: middle;\n    }\n\n    .dataframe tbody tr th {\n        vertical-align: top;\n    }\n\n    .dataframe thead th {\n        text-align: right;\n    }\n</style>\n<table border=\"1\" class=\"dataframe\">\n  <thead>\n    <tr style=\"text-align: right;\">\n      <th></th>\n      <th>0</th>\n      <th>1</th>\n      <th>2</th>\n      <th>3</th>\n    </tr>\n  </thead>\n  <tbody>\n    <tr>\n      <th>0</th>\n      <td>Запись пользователя № - user_919</td>\n      <td>[2019-01-01 14:06:51</td>\n      <td>NaN</td>\n      <td>NaN</td>\n    </tr>\n    <tr>\n      <th>1</th>\n      <td>Запись пользователя № - user_973</td>\n      <td>[2019-01-01 14:51:16</td>\n      <td>NaN</td>\n      <td>NaN</td>\n    </tr>\n    <tr>\n      <th>2</th>\n      <td>Запись пользователя № - user_903</td>\n      <td>[2019-01-01 16:31:16</td>\n      <td>NaN</td>\n      <td>NaN</td>\n    </tr>\n    <tr>\n      <th>3</th>\n      <td>Запись пользователя № - user_954</td>\n      <td>[2019-01-01 17:17:51</td>\n      <td>NaN</td>\n      <td>NaN</td>\n    </tr>\n    <tr>\n      <th>4</th>\n      <td>Запись пользователя № - user_954</td>\n      <td>[2019-01-01 21:31:18</td>\n      <td>NaN</td>\n      <td>NaN</td>\n    </tr>\n    <tr>\n      <th>...</th>\n      <td>...</td>\n      <td>...</td>\n      <td>...</td>\n      <td>...</td>\n    </tr>\n    <tr>\n      <th>995</th>\n      <td>Запись пользователя № - user_984</td>\n      <td>[2019-04-20 9:59:58</td>\n      <td>9754.0</td>\n      <td>NaN</td>\n    </tr>\n    <tr>\n      <th>996</th>\n      <td>#error</td>\n      <td>NaN</td>\n      <td>10054.0</td>\n      <td>29265.0</td>\n    </tr>\n    <tr>\n      <th>997</th>\n      <td>#error</td>\n      <td>NaN</td>\n      <td>10454.0</td>\n      <td>NaN</td>\n    </tr>\n    <tr>\n      <th>998</th>\n      <td>#error</td>\n      <td>NaN</td>\n      <td>1000.0</td>\n      <td>NaN</td>\n    </tr>\n    <tr>\n      <th>999</th>\n      <td>#error</td>\n      <td>NaN</td>\n      <td>10754.0</td>\n      <td>NaN</td>\n    </tr>\n  </tbody>\n</table>\n<p>1000 rows × 4 columns</p>\n</div>"
     },
     "metadata": {},
     "execution_count": 33
    }
   ],
   "source": [
    "#Поместим CSV-файл в переменную log как файл без заголовка.\n",
    "log = pd.read_csv(r'E:\\Projects\\Skillfactory\\Unit_1\\Files\\log.csv', header=None)\n",
    "log"
   ]
  },
  {
   "cell_type": "code",
   "execution_count": 34,
   "metadata": {},
   "outputs": [
    {
     "output_type": "execute_result",
     "data": {
      "text/plain": [
       "Index(['Name', 'City', 'Age', 'Profession'], dtype='object')"
      ]
     },
     "metadata": {},
     "execution_count": 34
    }
   ],
   "source": [
    "#Загрузите файл sample.csv в переменную sample, сохраните колонки в переменную columns\n",
    "sample = pd.read_csv(r'E:\\Projects\\Skillfactory\\Unit_1\\Files\\sample.csv')\n",
    "columns = sample.columns\n",
    "columns"
   ]
  },
  {
   "cell_type": "code",
   "execution_count": 35,
   "metadata": {},
   "outputs": [
    {
     "output_type": "execute_result",
     "data": {
      "text/plain": [
       "['name', 'city', 'age', 'profession']"
      ]
     },
     "metadata": {},
     "execution_count": 35
    }
   ],
   "source": [
    "#Создайте в sample заголовки колонок так, чтобы там были только маленькие буквы. Например, вместо 'Age' нужно сделать 'age'\n",
    "columns = sample.columns=['name', 'city', 'age', 'profession']\n",
    "columns"
   ]
  },
  {
   "cell_type": "code",
   "execution_count": 36,
   "metadata": {},
   "outputs": [
    {
     "output_type": "execute_result",
     "data": {
      "text/plain": [
       "                              user_id                  time      bet      win\n",
       "0    Запись пользователя № - user_919  [2019-01-01 14:06:51      NaN      NaN\n",
       "1    Запись пользователя № - user_973  [2019-01-01 14:51:16      NaN      NaN\n",
       "2    Запись пользователя № - user_903  [2019-01-01 16:31:16      NaN      NaN\n",
       "3    Запись пользователя № - user_954  [2019-01-01 17:17:51      NaN      NaN\n",
       "4    Запись пользователя № - user_954  [2019-01-01 21:31:18      NaN      NaN\n",
       "..                                ...                   ...      ...      ...\n",
       "995  Запись пользователя № - user_984   [2019-04-20 9:59:58   9754.0      NaN\n",
       "996                            #error                   NaN  10054.0  29265.0\n",
       "997                            #error                   NaN  10454.0      NaN\n",
       "998                            #error                   NaN   1000.0      NaN\n",
       "999                            #error                   NaN  10754.0      NaN\n",
       "\n",
       "[1000 rows x 4 columns]"
      ],
      "text/html": "<div>\n<style scoped>\n    .dataframe tbody tr th:only-of-type {\n        vertical-align: middle;\n    }\n\n    .dataframe tbody tr th {\n        vertical-align: top;\n    }\n\n    .dataframe thead th {\n        text-align: right;\n    }\n</style>\n<table border=\"1\" class=\"dataframe\">\n  <thead>\n    <tr style=\"text-align: right;\">\n      <th></th>\n      <th>user_id</th>\n      <th>time</th>\n      <th>bet</th>\n      <th>win</th>\n    </tr>\n  </thead>\n  <tbody>\n    <tr>\n      <th>0</th>\n      <td>Запись пользователя № - user_919</td>\n      <td>[2019-01-01 14:06:51</td>\n      <td>NaN</td>\n      <td>NaN</td>\n    </tr>\n    <tr>\n      <th>1</th>\n      <td>Запись пользователя № - user_973</td>\n      <td>[2019-01-01 14:51:16</td>\n      <td>NaN</td>\n      <td>NaN</td>\n    </tr>\n    <tr>\n      <th>2</th>\n      <td>Запись пользователя № - user_903</td>\n      <td>[2019-01-01 16:31:16</td>\n      <td>NaN</td>\n      <td>NaN</td>\n    </tr>\n    <tr>\n      <th>3</th>\n      <td>Запись пользователя № - user_954</td>\n      <td>[2019-01-01 17:17:51</td>\n      <td>NaN</td>\n      <td>NaN</td>\n    </tr>\n    <tr>\n      <th>4</th>\n      <td>Запись пользователя № - user_954</td>\n      <td>[2019-01-01 21:31:18</td>\n      <td>NaN</td>\n      <td>NaN</td>\n    </tr>\n    <tr>\n      <th>...</th>\n      <td>...</td>\n      <td>...</td>\n      <td>...</td>\n      <td>...</td>\n    </tr>\n    <tr>\n      <th>995</th>\n      <td>Запись пользователя № - user_984</td>\n      <td>[2019-04-20 9:59:58</td>\n      <td>9754.0</td>\n      <td>NaN</td>\n    </tr>\n    <tr>\n      <th>996</th>\n      <td>#error</td>\n      <td>NaN</td>\n      <td>10054.0</td>\n      <td>29265.0</td>\n    </tr>\n    <tr>\n      <th>997</th>\n      <td>#error</td>\n      <td>NaN</td>\n      <td>10454.0</td>\n      <td>NaN</td>\n    </tr>\n    <tr>\n      <th>998</th>\n      <td>#error</td>\n      <td>NaN</td>\n      <td>1000.0</td>\n      <td>NaN</td>\n    </tr>\n    <tr>\n      <th>999</th>\n      <td>#error</td>\n      <td>NaN</td>\n      <td>10754.0</td>\n      <td>NaN</td>\n    </tr>\n  </tbody>\n</table>\n<p>1000 rows × 4 columns</p>\n</div>"
     },
     "metadata": {},
     "execution_count": 36
    }
   ],
   "source": [
    "\"\"\"замените в log заголовки колонок на:\n",
    "\n",
    "user_id\n",
    "time\n",
    "bet\n",
    "win\"\"\"\n",
    "\n",
    "log.columns=['user_id', 'time', 'bet', 'win']\n",
    "log"
   ]
  },
  {
   "cell_type": "code",
   "execution_count": 37,
   "metadata": {},
   "outputs": [
    {
     "output_type": "execute_result",
     "data": {
      "text/plain": [
       "                             Юзверь\\tмейл\\tГео\n",
       "0        User_943\\tAccumanst@gmail.com\\tИжевск\n",
       "1          User_908\\tAdvismowr@mail.ru\\tИжевск\n",
       "2         User_962\\tAnachso@ukr.net\\tКраснодар\n",
       "3            User_973\\tAntecia@inbox.ru\\tПермь\n",
       "4               User_902\\tBalliaryva@ukr.net\\t\n",
       "..                                         ...\n",
       "95  User_959\\tUpdatesCurious@yahoo.com\\tТюмень\n",
       "96   User_901\\tV2artierso@mail.ru\\tАрзангелтск\n",
       "97         User_970\\tVashoterlo@bk.ru\\tВоронеж\n",
       "98      User_965\\tVisuareda@yahoo.com\\tВоронеж\n",
       "99              User_921\\tAavast@ya.ru\\tИжевск\n",
       "\n",
       "[100 rows x 1 columns]"
      ],
      "text/html": "<div>\n<style scoped>\n    .dataframe tbody tr th:only-of-type {\n        vertical-align: middle;\n    }\n\n    .dataframe tbody tr th {\n        vertical-align: top;\n    }\n\n    .dataframe thead th {\n        text-align: right;\n    }\n</style>\n<table border=\"1\" class=\"dataframe\">\n  <thead>\n    <tr style=\"text-align: right;\">\n      <th></th>\n      <th>Юзверь\\tмейл\\tГео</th>\n    </tr>\n  </thead>\n  <tbody>\n    <tr>\n      <th>0</th>\n      <td>User_943\\tAccumanst@gmail.com\\tИжевск</td>\n    </tr>\n    <tr>\n      <th>1</th>\n      <td>User_908\\tAdvismowr@mail.ru\\tИжевск</td>\n    </tr>\n    <tr>\n      <th>2</th>\n      <td>User_962\\tAnachso@ukr.net\\tКраснодар</td>\n    </tr>\n    <tr>\n      <th>3</th>\n      <td>User_973\\tAntecia@inbox.ru\\tПермь</td>\n    </tr>\n    <tr>\n      <th>4</th>\n      <td>User_902\\tBalliaryva@ukr.net\\t</td>\n    </tr>\n    <tr>\n      <th>...</th>\n      <td>...</td>\n    </tr>\n    <tr>\n      <th>95</th>\n      <td>User_959\\tUpdatesCurious@yahoo.com\\tТюмень</td>\n    </tr>\n    <tr>\n      <th>96</th>\n      <td>User_901\\tV2artierso@mail.ru\\tАрзангелтск</td>\n    </tr>\n    <tr>\n      <th>97</th>\n      <td>User_970\\tVashoterlo@bk.ru\\tВоронеж</td>\n    </tr>\n    <tr>\n      <th>98</th>\n      <td>User_965\\tVisuareda@yahoo.com\\tВоронеж</td>\n    </tr>\n    <tr>\n      <th>99</th>\n      <td>User_921\\tAavast@ya.ru\\tИжевск</td>\n    </tr>\n  </tbody>\n</table>\n<p>100 rows × 1 columns</p>\n</div>"
     },
     "metadata": {},
     "execution_count": 37
    }
   ],
   "source": [
    "#С помощью правильных параметров read_csv загрузите датафрейм\n",
    "users = pd.read_csv('E:/Projects/Skillfactory/Unit_1/Files/users.csv', encoding='koi8_r', sep='\\t')\n",
    "users"
   ]
  },
  {
   "cell_type": "code",
   "execution_count": 38,
   "metadata": {},
   "outputs": [
    {
     "output_type": "error",
     "ename": "ValueError",
     "evalue": "Length mismatch: Expected axis has 1 elements, new values have 3 elements",
     "traceback": [
      "\u001b[1;31m---------------------------------------------------------------------------\u001b[0m",
      "\u001b[1;31mValueError\u001b[0m                                Traceback (most recent call last)",
      "\u001b[1;32m<ipython-input-38-082a2cca3a02>\u001b[0m in \u001b[0;36m<module>\u001b[1;34m\u001b[0m\n\u001b[0;32m      1\u001b[0m \u001b[1;31m#Меняем названия колонок в users\u001b[0m\u001b[1;33m\u001b[0m\u001b[1;33m\u001b[0m\u001b[1;33m\u001b[0m\u001b[0m\n\u001b[1;32m----> 2\u001b[1;33m \u001b[0musers\u001b[0m\u001b[1;33m.\u001b[0m\u001b[0mcolumns\u001b[0m \u001b[1;33m=\u001b[0m \u001b[1;33m[\u001b[0m\u001b[1;34m'user_id'\u001b[0m\u001b[1;33m,\u001b[0m \u001b[1;34m'email'\u001b[0m\u001b[1;33m,\u001b[0m \u001b[1;34m'geo'\u001b[0m\u001b[1;33m]\u001b[0m\u001b[1;33m\u001b[0m\u001b[1;33m\u001b[0m\u001b[0m\n\u001b[0m",
      "\u001b[1;32mE:\\Python\\lib\\site-packages\\pandas\\core\\generic.py\u001b[0m in \u001b[0;36m__setattr__\u001b[1;34m(self, name, value)\u001b[0m\n\u001b[0;32m   5476\u001b[0m         \u001b[1;32mtry\u001b[0m\u001b[1;33m:\u001b[0m\u001b[1;33m\u001b[0m\u001b[1;33m\u001b[0m\u001b[0m\n\u001b[0;32m   5477\u001b[0m             \u001b[0mobject\u001b[0m\u001b[1;33m.\u001b[0m\u001b[0m__getattribute__\u001b[0m\u001b[1;33m(\u001b[0m\u001b[0mself\u001b[0m\u001b[1;33m,\u001b[0m \u001b[0mname\u001b[0m\u001b[1;33m)\u001b[0m\u001b[1;33m\u001b[0m\u001b[1;33m\u001b[0m\u001b[0m\n\u001b[1;32m-> 5478\u001b[1;33m             \u001b[1;32mreturn\u001b[0m \u001b[0mobject\u001b[0m\u001b[1;33m.\u001b[0m\u001b[0m__setattr__\u001b[0m\u001b[1;33m(\u001b[0m\u001b[0mself\u001b[0m\u001b[1;33m,\u001b[0m \u001b[0mname\u001b[0m\u001b[1;33m,\u001b[0m \u001b[0mvalue\u001b[0m\u001b[1;33m)\u001b[0m\u001b[1;33m\u001b[0m\u001b[1;33m\u001b[0m\u001b[0m\n\u001b[0m\u001b[0;32m   5479\u001b[0m         \u001b[1;32mexcept\u001b[0m \u001b[0mAttributeError\u001b[0m\u001b[1;33m:\u001b[0m\u001b[1;33m\u001b[0m\u001b[1;33m\u001b[0m\u001b[0m\n\u001b[0;32m   5480\u001b[0m             \u001b[1;32mpass\u001b[0m\u001b[1;33m\u001b[0m\u001b[1;33m\u001b[0m\u001b[0m\n",
      "\u001b[1;32mpandas\\_libs\\properties.pyx\u001b[0m in \u001b[0;36mpandas._libs.properties.AxisProperty.__set__\u001b[1;34m()\u001b[0m\n",
      "\u001b[1;32mE:\\Python\\lib\\site-packages\\pandas\\core\\generic.py\u001b[0m in \u001b[0;36m_set_axis\u001b[1;34m(self, axis, labels)\u001b[0m\n\u001b[0;32m    668\u001b[0m     \u001b[1;32mdef\u001b[0m \u001b[0m_set_axis\u001b[0m\u001b[1;33m(\u001b[0m\u001b[0mself\u001b[0m\u001b[1;33m,\u001b[0m \u001b[0maxis\u001b[0m\u001b[1;33m:\u001b[0m \u001b[0mint\u001b[0m\u001b[1;33m,\u001b[0m \u001b[0mlabels\u001b[0m\u001b[1;33m:\u001b[0m \u001b[0mIndex\u001b[0m\u001b[1;33m)\u001b[0m \u001b[1;33m->\u001b[0m \u001b[1;32mNone\u001b[0m\u001b[1;33m:\u001b[0m\u001b[1;33m\u001b[0m\u001b[1;33m\u001b[0m\u001b[0m\n\u001b[0;32m    669\u001b[0m         \u001b[0mlabels\u001b[0m \u001b[1;33m=\u001b[0m \u001b[0mensure_index\u001b[0m\u001b[1;33m(\u001b[0m\u001b[0mlabels\u001b[0m\u001b[1;33m)\u001b[0m\u001b[1;33m\u001b[0m\u001b[1;33m\u001b[0m\u001b[0m\n\u001b[1;32m--> 670\u001b[1;33m         \u001b[0mself\u001b[0m\u001b[1;33m.\u001b[0m\u001b[0m_mgr\u001b[0m\u001b[1;33m.\u001b[0m\u001b[0mset_axis\u001b[0m\u001b[1;33m(\u001b[0m\u001b[0maxis\u001b[0m\u001b[1;33m,\u001b[0m \u001b[0mlabels\u001b[0m\u001b[1;33m)\u001b[0m\u001b[1;33m\u001b[0m\u001b[1;33m\u001b[0m\u001b[0m\n\u001b[0m\u001b[0;32m    671\u001b[0m         \u001b[0mself\u001b[0m\u001b[1;33m.\u001b[0m\u001b[0m_clear_item_cache\u001b[0m\u001b[1;33m(\u001b[0m\u001b[1;33m)\u001b[0m\u001b[1;33m\u001b[0m\u001b[1;33m\u001b[0m\u001b[0m\n\u001b[0;32m    672\u001b[0m \u001b[1;33m\u001b[0m\u001b[0m\n",
      "\u001b[1;32mE:\\Python\\lib\\site-packages\\pandas\\core\\internals\\managers.py\u001b[0m in \u001b[0;36mset_axis\u001b[1;34m(self, axis, new_labels)\u001b[0m\n\u001b[0;32m    218\u001b[0m \u001b[1;33m\u001b[0m\u001b[0m\n\u001b[0;32m    219\u001b[0m         \u001b[1;32mif\u001b[0m \u001b[0mnew_len\u001b[0m \u001b[1;33m!=\u001b[0m \u001b[0mold_len\u001b[0m\u001b[1;33m:\u001b[0m\u001b[1;33m\u001b[0m\u001b[1;33m\u001b[0m\u001b[0m\n\u001b[1;32m--> 220\u001b[1;33m             raise ValueError(\n\u001b[0m\u001b[0;32m    221\u001b[0m                 \u001b[1;34mf\"Length mismatch: Expected axis has {old_len} elements, new \"\u001b[0m\u001b[1;33m\u001b[0m\u001b[1;33m\u001b[0m\u001b[0m\n\u001b[0;32m    222\u001b[0m                 \u001b[1;34mf\"values have {new_len} elements\"\u001b[0m\u001b[1;33m\u001b[0m\u001b[1;33m\u001b[0m\u001b[0m\n",
      "\u001b[1;31mValueError\u001b[0m: Length mismatch: Expected axis has 1 elements, new values have 3 elements"
     ]
    }
   ],
   "source": [
    "#Меняем названия колонок в users\n",
    "users.columns = ['user_id', 'email', 'geo']"
   ]
  },
  {
   "cell_type": "code",
   "execution_count": 39,
   "metadata": {},
   "outputs": [
    {
     "output_type": "execute_result",
     "data": {
      "text/plain": [
       "       name    city  age profession\n",
       "0    Иванов  Москва   25     Клинер\n",
       "2    Иванов  Москва   25     Клинер\n",
       "5  Кузнецов    Сочи   19    Рабочий\n",
       "6     Сажин  Сургут   29    Рабочий"
      ],
      "text/html": "<div>\n<style scoped>\n    .dataframe tbody tr th:only-of-type {\n        vertical-align: middle;\n    }\n\n    .dataframe tbody tr th {\n        vertical-align: top;\n    }\n\n    .dataframe thead th {\n        text-align: right;\n    }\n</style>\n<table border=\"1\" class=\"dataframe\">\n  <thead>\n    <tr style=\"text-align: right;\">\n      <th></th>\n      <th>name</th>\n      <th>city</th>\n      <th>age</th>\n      <th>profession</th>\n    </tr>\n  </thead>\n  <tbody>\n    <tr>\n      <th>0</th>\n      <td>Иванов</td>\n      <td>Москва</td>\n      <td>25</td>\n      <td>Клинер</td>\n    </tr>\n    <tr>\n      <th>2</th>\n      <td>Иванов</td>\n      <td>Москва</td>\n      <td>25</td>\n      <td>Клинер</td>\n    </tr>\n    <tr>\n      <th>5</th>\n      <td>Кузнецов</td>\n      <td>Сочи</td>\n      <td>19</td>\n      <td>Рабочий</td>\n    </tr>\n    <tr>\n      <th>6</th>\n      <td>Сажин</td>\n      <td>Сургут</td>\n      <td>29</td>\n      <td>Рабочий</td>\n    </tr>\n  </tbody>\n</table>\n</div>"
     },
     "metadata": {},
     "execution_count": 39
    }
   ],
   "source": [
    "#Простая фильтрация\n",
    "#Создайте новый датафрейм sample2, в который будут входить только записи о людях в возрасте меньше 30 лет.\n",
    "sample2 = sample[sample['age'] < 30]\n",
    "sample2"
   ]
  },
  {
   "cell_type": "code",
   "execution_count": 40,
   "metadata": {},
   "outputs": [
    {
     "output_type": "execute_result",
     "data": {
      "text/plain": [
       "138"
      ]
     },
     "metadata": {},
     "execution_count": 40
    }
   ],
   "source": [
    "#Создайте новый датафрейм log_win, в который будут входить только записи, где пользователь выиграл. Посчитайте, сколько таких записей, и сохраните в переменной win_count.\n",
    "log_win = log[log['win'] > 0]\n",
    "win_count = log_win.win.count()\n",
    "win_count"
   ]
  },
  {
   "cell_type": "code",
   "execution_count": 42,
   "metadata": {},
   "outputs": [
    {
     "output_type": "execute_result",
     "data": {
      "text/plain": [
       "       name    city  age profession\n",
       "5  Кузнецов    Сочи   19    Рабочий\n",
       "6     Сажин  Сургут   29    Рабочий"
      ],
      "text/html": "<div>\n<style scoped>\n    .dataframe tbody tr th:only-of-type {\n        vertical-align: middle;\n    }\n\n    .dataframe tbody tr th {\n        vertical-align: top;\n    }\n\n    .dataframe thead th {\n        text-align: right;\n    }\n</style>\n<table border=\"1\" class=\"dataframe\">\n  <thead>\n    <tr style=\"text-align: right;\">\n      <th></th>\n      <th>name</th>\n      <th>city</th>\n      <th>age</th>\n      <th>profession</th>\n    </tr>\n  </thead>\n  <tbody>\n    <tr>\n      <th>5</th>\n      <td>Кузнецов</td>\n      <td>Сочи</td>\n      <td>19</td>\n      <td>Рабочий</td>\n    </tr>\n    <tr>\n      <th>6</th>\n      <td>Сажин</td>\n      <td>Сургут</td>\n      <td>29</td>\n      <td>Рабочий</td>\n    </tr>\n  </tbody>\n</table>\n</div>"
     },
     "metadata": {},
     "execution_count": 42
    }
   ],
   "source": [
    "#Создайте новый датафрейм sample2, в который будут входить только записи о рабочих младше 30 лет.\n",
    "sample2 = sample[(sample['age'] < 30) & (sample['profession'] == 'Рабочий')]\n",
    "sample2"
   ]
  },
  {
   "cell_type": "code",
   "execution_count": 43,
   "metadata": {},
   "outputs": [
    {
     "output_type": "execute_result",
     "data": {
      "text/plain": [
       "                              user_id                  time     bet     win\n",
       "151  Запись пользователя № - user_982  [2019-01-16 21:54:22   100.0  4749.0\n",
       "189  Запись пользователя № - user_964  [2019-01-21 18:34:44   200.0  4667.0\n",
       "205  Запись пользователя № - user_931   [2019-01-22 5:26:59   300.0  4319.0\n",
       "232  Запись пользователя № - user_998   [2019-01-25 8:57:20   500.0  5069.0\n",
       "265  Запись пользователя № - user_998  [2019-01-29 10:37:55   500.0  6294.0\n",
       "..                                ...                   ...     ...     ...\n",
       "962  Запись пользователя № - user_976  [2019-04-19 14:18:45   400.0  5997.0\n",
       "965  Запись пользователя № - user_900  [2019-04-19 19:31:48   900.0  6767.0\n",
       "967  Запись пользователя № - user_975  [2019-04-19 22:25:15  1000.0  6108.0\n",
       "981                            #error                   NaN   800.0  7035.0\n",
       "991  Запись пользователя № - user_965  [2019-04-20 12:55:41   800.0  6927.0\n",
       "\n",
       "[113 rows x 4 columns]"
      ],
      "text/html": "<div>\n<style scoped>\n    .dataframe tbody tr th:only-of-type {\n        vertical-align: middle;\n    }\n\n    .dataframe tbody tr th {\n        vertical-align: top;\n    }\n\n    .dataframe thead th {\n        text-align: right;\n    }\n</style>\n<table border=\"1\" class=\"dataframe\">\n  <thead>\n    <tr style=\"text-align: right;\">\n      <th></th>\n      <th>user_id</th>\n      <th>time</th>\n      <th>bet</th>\n      <th>win</th>\n    </tr>\n  </thead>\n  <tbody>\n    <tr>\n      <th>151</th>\n      <td>Запись пользователя № - user_982</td>\n      <td>[2019-01-16 21:54:22</td>\n      <td>100.0</td>\n      <td>4749.0</td>\n    </tr>\n    <tr>\n      <th>189</th>\n      <td>Запись пользователя № - user_964</td>\n      <td>[2019-01-21 18:34:44</td>\n      <td>200.0</td>\n      <td>4667.0</td>\n    </tr>\n    <tr>\n      <th>205</th>\n      <td>Запись пользователя № - user_931</td>\n      <td>[2019-01-22 5:26:59</td>\n      <td>300.0</td>\n      <td>4319.0</td>\n    </tr>\n    <tr>\n      <th>232</th>\n      <td>Запись пользователя № - user_998</td>\n      <td>[2019-01-25 8:57:20</td>\n      <td>500.0</td>\n      <td>5069.0</td>\n    </tr>\n    <tr>\n      <th>265</th>\n      <td>Запись пользователя № - user_998</td>\n      <td>[2019-01-29 10:37:55</td>\n      <td>500.0</td>\n      <td>6294.0</td>\n    </tr>\n    <tr>\n      <th>...</th>\n      <td>...</td>\n      <td>...</td>\n      <td>...</td>\n      <td>...</td>\n    </tr>\n    <tr>\n      <th>962</th>\n      <td>Запись пользователя № - user_976</td>\n      <td>[2019-04-19 14:18:45</td>\n      <td>400.0</td>\n      <td>5997.0</td>\n    </tr>\n    <tr>\n      <th>965</th>\n      <td>Запись пользователя № - user_900</td>\n      <td>[2019-04-19 19:31:48</td>\n      <td>900.0</td>\n      <td>6767.0</td>\n    </tr>\n    <tr>\n      <th>967</th>\n      <td>Запись пользователя № - user_975</td>\n      <td>[2019-04-19 22:25:15</td>\n      <td>1000.0</td>\n      <td>6108.0</td>\n    </tr>\n    <tr>\n      <th>981</th>\n      <td>#error</td>\n      <td>NaN</td>\n      <td>800.0</td>\n      <td>7035.0</td>\n    </tr>\n    <tr>\n      <th>991</th>\n      <td>Запись пользователя № - user_965</td>\n      <td>[2019-04-20 12:55:41</td>\n      <td>800.0</td>\n      <td>6927.0</td>\n    </tr>\n  </tbody>\n</table>\n<p>113 rows × 4 columns</p>\n</div>"
     },
     "metadata": {},
     "execution_count": 43
    }
   ],
   "source": [
    "#С помощью функции query найдите тех, у кого ставка меньше 2000, а выигрыш больше 0. Сохраните в новый датафрейм log2.\n",
    "log2 = log.query('bet < 2000 & win > 0')\n",
    "log2"
   ]
  },
  {
   "cell_type": "code",
   "execution_count": 46,
   "metadata": {},
   "outputs": [
    {
     "output_type": "execute_result",
     "data": {
      "text/plain": [
       "           name         city  age profession\n",
       "0        Иванов       Москва   25     Клинер\n",
       "1           NaN    Волгоград   31   Менеджер\n",
       "2        Иванов       Москва   25     Клинер\n",
       "3       sidorov  Владивосток   43   Менеджер\n",
       "5      Кузнецов         Сочи   19    Рабочий\n",
       "7  Котлеревский   Йошкар-Ола   32    Рабочий\n",
       "8    Завалишина    Чебоксары   36   Менеджер"
      ],
      "text/html": "<div>\n<style scoped>\n    .dataframe tbody tr th:only-of-type {\n        vertical-align: middle;\n    }\n\n    .dataframe tbody tr th {\n        vertical-align: top;\n    }\n\n    .dataframe thead th {\n        text-align: right;\n    }\n</style>\n<table border=\"1\" class=\"dataframe\">\n  <thead>\n    <tr style=\"text-align: right;\">\n      <th></th>\n      <th>name</th>\n      <th>city</th>\n      <th>age</th>\n      <th>profession</th>\n    </tr>\n  </thead>\n  <tbody>\n    <tr>\n      <th>0</th>\n      <td>Иванов</td>\n      <td>Москва</td>\n      <td>25</td>\n      <td>Клинер</td>\n    </tr>\n    <tr>\n      <th>1</th>\n      <td>NaN</td>\n      <td>Волгоград</td>\n      <td>31</td>\n      <td>Менеджер</td>\n    </tr>\n    <tr>\n      <th>2</th>\n      <td>Иванов</td>\n      <td>Москва</td>\n      <td>25</td>\n      <td>Клинер</td>\n    </tr>\n    <tr>\n      <th>3</th>\n      <td>sidorov</td>\n      <td>Владивосток</td>\n      <td>43</td>\n      <td>Менеджер</td>\n    </tr>\n    <tr>\n      <th>5</th>\n      <td>Кузнецов</td>\n      <td>Сочи</td>\n      <td>19</td>\n      <td>Рабочий</td>\n    </tr>\n    <tr>\n      <th>7</th>\n      <td>Котлеревский</td>\n      <td>Йошкар-Ола</td>\n      <td>32</td>\n      <td>Рабочий</td>\n    </tr>\n    <tr>\n      <th>8</th>\n      <td>Завалишина</td>\n      <td>Чебоксары</td>\n      <td>36</td>\n      <td>Менеджер</td>\n    </tr>\n  </tbody>\n</table>\n</div>"
     },
     "metadata": {},
     "execution_count": 46
    }
   ],
   "source": [
    "#Найдите записи, где в городах есть буква «о», и сохраните в переменную sample3.\n",
    "sample3 = sample[sample.city.str.contains('о', na=False)]\n",
    "sample3"
   ]
  },
  {
   "cell_type": "code",
   "execution_count": 48,
   "metadata": {},
   "outputs": [
    {
     "output_type": "execute_result",
     "data": {
      "text/plain": [
       "       name    city  age profession\n",
       "4   _______   Курск   50   Водитель\n",
       "6     Сажин  Сургут   29    Рабочий\n",
       "9    Левина     NaN   55    Рабочий\n",
       "10     Фикс    Рига   42    Рабочий"
      ],
      "text/html": "<div>\n<style scoped>\n    .dataframe tbody tr th:only-of-type {\n        vertical-align: middle;\n    }\n\n    .dataframe tbody tr th {\n        vertical-align: top;\n    }\n\n    .dataframe thead th {\n        text-align: right;\n    }\n</style>\n<table border=\"1\" class=\"dataframe\">\n  <thead>\n    <tr style=\"text-align: right;\">\n      <th></th>\n      <th>name</th>\n      <th>city</th>\n      <th>age</th>\n      <th>profession</th>\n    </tr>\n  </thead>\n  <tbody>\n    <tr>\n      <th>4</th>\n      <td>_______</td>\n      <td>Курск</td>\n      <td>50</td>\n      <td>Водитель</td>\n    </tr>\n    <tr>\n      <th>6</th>\n      <td>Сажин</td>\n      <td>Сургут</td>\n      <td>29</td>\n      <td>Рабочий</td>\n    </tr>\n    <tr>\n      <th>9</th>\n      <td>Левина</td>\n      <td>NaN</td>\n      <td>55</td>\n      <td>Рабочий</td>\n    </tr>\n    <tr>\n      <th>10</th>\n      <td>Фикс</td>\n      <td>Рига</td>\n      <td>42</td>\n      <td>Рабочий</td>\n    </tr>\n  </tbody>\n</table>\n</div>"
     },
     "metadata": {},
     "execution_count": 48
    }
   ],
   "source": [
    "#Найдите записи, где в городах нет буквы \"о\", и сохраните в переменную sample4. Не забудьте про NaN и параметр na:\n",
    "sample4 = sample[~sample.city.str.contains('о', na=False)]\n",
    "sample4"
   ]
  },
  {
   "cell_type": "code",
   "execution_count": 49,
   "metadata": {},
   "outputs": [
    {
     "output_type": "execute_result",
     "data": {
      "text/plain": [
       "                              user_id                  time      bet     win\n",
       "0    Запись пользователя № - user_919  [2019-01-01 14:06:51      NaN     NaN\n",
       "1    Запись пользователя № - user_973  [2019-01-01 14:51:16      NaN     NaN\n",
       "2    Запись пользователя № - user_903  [2019-01-01 16:31:16      NaN     NaN\n",
       "3    Запись пользователя № - user_954  [2019-01-01 17:17:51      NaN     NaN\n",
       "4    Запись пользователя № - user_954  [2019-01-01 21:31:18      NaN     NaN\n",
       "..                                ...                   ...      ...     ...\n",
       "991  Запись пользователя № - user_965  [2019-04-20 12:55:41    800.0  6927.0\n",
       "992  Запись пользователя № - user_967  [2019-04-20 14:59:36  10154.0     NaN\n",
       "993  Запись пользователя № - user_973  [2019-04-20 17:09:56  10254.0     NaN\n",
       "994  Запись пользователя № - user_977  [2019-04-20 18:10:07  10354.0     NaN\n",
       "995  Запись пользователя № - user_984   [2019-04-20 9:59:58   9754.0     NaN\n",
       "\n",
       "[985 rows x 4 columns]"
      ],
      "text/html": "<div>\n<style scoped>\n    .dataframe tbody tr th:only-of-type {\n        vertical-align: middle;\n    }\n\n    .dataframe tbody tr th {\n        vertical-align: top;\n    }\n\n    .dataframe thead th {\n        text-align: right;\n    }\n</style>\n<table border=\"1\" class=\"dataframe\">\n  <thead>\n    <tr style=\"text-align: right;\">\n      <th></th>\n      <th>user_id</th>\n      <th>time</th>\n      <th>bet</th>\n      <th>win</th>\n    </tr>\n  </thead>\n  <tbody>\n    <tr>\n      <th>0</th>\n      <td>Запись пользователя № - user_919</td>\n      <td>[2019-01-01 14:06:51</td>\n      <td>NaN</td>\n      <td>NaN</td>\n    </tr>\n    <tr>\n      <th>1</th>\n      <td>Запись пользователя № - user_973</td>\n      <td>[2019-01-01 14:51:16</td>\n      <td>NaN</td>\n      <td>NaN</td>\n    </tr>\n    <tr>\n      <th>2</th>\n      <td>Запись пользователя № - user_903</td>\n      <td>[2019-01-01 16:31:16</td>\n      <td>NaN</td>\n      <td>NaN</td>\n    </tr>\n    <tr>\n      <th>3</th>\n      <td>Запись пользователя № - user_954</td>\n      <td>[2019-01-01 17:17:51</td>\n      <td>NaN</td>\n      <td>NaN</td>\n    </tr>\n    <tr>\n      <th>4</th>\n      <td>Запись пользователя № - user_954</td>\n      <td>[2019-01-01 21:31:18</td>\n      <td>NaN</td>\n      <td>NaN</td>\n    </tr>\n    <tr>\n      <th>...</th>\n      <td>...</td>\n      <td>...</td>\n      <td>...</td>\n      <td>...</td>\n    </tr>\n    <tr>\n      <th>991</th>\n      <td>Запись пользователя № - user_965</td>\n      <td>[2019-04-20 12:55:41</td>\n      <td>800.0</td>\n      <td>6927.0</td>\n    </tr>\n    <tr>\n      <th>992</th>\n      <td>Запись пользователя № - user_967</td>\n      <td>[2019-04-20 14:59:36</td>\n      <td>10154.0</td>\n      <td>NaN</td>\n    </tr>\n    <tr>\n      <th>993</th>\n      <td>Запись пользователя № - user_973</td>\n      <td>[2019-04-20 17:09:56</td>\n      <td>10254.0</td>\n      <td>NaN</td>\n    </tr>\n    <tr>\n      <th>994</th>\n      <td>Запись пользователя № - user_977</td>\n      <td>[2019-04-20 18:10:07</td>\n      <td>10354.0</td>\n      <td>NaN</td>\n    </tr>\n    <tr>\n      <th>995</th>\n      <td>Запись пользователя № - user_984</td>\n      <td>[2019-04-20 9:59:58</td>\n      <td>9754.0</td>\n      <td>NaN</td>\n    </tr>\n  </tbody>\n</table>\n<p>985 rows × 4 columns</p>\n</div>"
     },
     "metadata": {},
     "execution_count": 49
    }
   ],
   "source": [
    "#Сохраните в переменную new_log датафрейм, из которого удалены записи, в которых есть ошибка в поле user_id\n",
    "new_log = log[~log.user_id.str.contains('or', na=False)]\n",
    "new_log"
   ]
  },
  {
   "cell_type": "code",
   "execution_count": 54,
   "metadata": {},
   "outputs": [
    {
     "output_type": "execute_result",
     "data": {
      "text/plain": [
       "                              user_id                  time      bet     win\n",
       "0    Запись пользователя № - user_919  [2019-01-01 14:06:51      NaN     NaN\n",
       "1    Запись пользователя № - user_973  [2019-01-01 14:51:16      NaN     NaN\n",
       "2    Запись пользователя № - user_903  [2019-01-01 16:31:16      NaN     NaN\n",
       "3    Запись пользователя № - user_954  [2019-01-01 17:17:51      NaN     NaN\n",
       "4    Запись пользователя № - user_954  [2019-01-01 21:31:18      NaN     NaN\n",
       "..                                ...                   ...      ...     ...\n",
       "991  Запись пользователя № - user_965  [2019-04-20 12:55:41    800.0  6927.0\n",
       "992  Запись пользователя № - user_967  [2019-04-20 14:59:36  10154.0     NaN\n",
       "993  Запись пользователя № - user_973  [2019-04-20 17:09:56  10254.0     NaN\n",
       "994  Запись пользователя № - user_977  [2019-04-20 18:10:07  10354.0     NaN\n",
       "995  Запись пользователя № - user_984   [2019-04-20 9:59:58   9754.0     NaN\n",
       "\n",
       "[985 rows x 4 columns]"
      ],
      "text/html": "<div>\n<style scoped>\n    .dataframe tbody tr th:only-of-type {\n        vertical-align: middle;\n    }\n\n    .dataframe tbody tr th {\n        vertical-align: top;\n    }\n\n    .dataframe thead th {\n        text-align: right;\n    }\n</style>\n<table border=\"1\" class=\"dataframe\">\n  <thead>\n    <tr style=\"text-align: right;\">\n      <th></th>\n      <th>user_id</th>\n      <th>time</th>\n      <th>bet</th>\n      <th>win</th>\n    </tr>\n  </thead>\n  <tbody>\n    <tr>\n      <th>0</th>\n      <td>Запись пользователя № - user_919</td>\n      <td>[2019-01-01 14:06:51</td>\n      <td>NaN</td>\n      <td>NaN</td>\n    </tr>\n    <tr>\n      <th>1</th>\n      <td>Запись пользователя № - user_973</td>\n      <td>[2019-01-01 14:51:16</td>\n      <td>NaN</td>\n      <td>NaN</td>\n    </tr>\n    <tr>\n      <th>2</th>\n      <td>Запись пользователя № - user_903</td>\n      <td>[2019-01-01 16:31:16</td>\n      <td>NaN</td>\n      <td>NaN</td>\n    </tr>\n    <tr>\n      <th>3</th>\n      <td>Запись пользователя № - user_954</td>\n      <td>[2019-01-01 17:17:51</td>\n      <td>NaN</td>\n      <td>NaN</td>\n    </tr>\n    <tr>\n      <th>4</th>\n      <td>Запись пользователя № - user_954</td>\n      <td>[2019-01-01 21:31:18</td>\n      <td>NaN</td>\n      <td>NaN</td>\n    </tr>\n    <tr>\n      <th>...</th>\n      <td>...</td>\n      <td>...</td>\n      <td>...</td>\n      <td>...</td>\n    </tr>\n    <tr>\n      <th>991</th>\n      <td>Запись пользователя № - user_965</td>\n      <td>[2019-04-20 12:55:41</td>\n      <td>800.0</td>\n      <td>6927.0</td>\n    </tr>\n    <tr>\n      <th>992</th>\n      <td>Запись пользователя № - user_967</td>\n      <td>[2019-04-20 14:59:36</td>\n      <td>10154.0</td>\n      <td>NaN</td>\n    </tr>\n    <tr>\n      <th>993</th>\n      <td>Запись пользователя № - user_973</td>\n      <td>[2019-04-20 17:09:56</td>\n      <td>10254.0</td>\n      <td>NaN</td>\n    </tr>\n    <tr>\n      <th>994</th>\n      <td>Запись пользователя № - user_977</td>\n      <td>[2019-04-20 18:10:07</td>\n      <td>10354.0</td>\n      <td>NaN</td>\n    </tr>\n    <tr>\n      <th>995</th>\n      <td>Запись пользователя № - user_984</td>\n      <td>[2019-04-20 9:59:58</td>\n      <td>9754.0</td>\n      <td>NaN</td>\n    </tr>\n  </tbody>\n</table>\n<p>985 rows × 4 columns</p>\n</div>"
     },
     "metadata": {},
     "execution_count": 54
    }
   ],
   "source": [
    "#Способ 2\n",
    "new_log1 = log.query('user_id != \"#error\"')\n",
    "new_log1"
   ]
  },
  {
   "cell_type": "code",
   "execution_count": 55,
   "metadata": {},
   "outputs": [
    {
     "output_type": "execute_result",
     "data": {
      "text/plain": [
       "                              user_id                  time      bet     win\n",
       "0    Запись пользователя № - user_919  [2019-01-01 14:06:51      NaN     NaN\n",
       "1    Запись пользователя № - user_973  [2019-01-01 14:51:16      NaN     NaN\n",
       "2    Запись пользователя № - user_903  [2019-01-01 16:31:16      NaN     NaN\n",
       "3    Запись пользователя № - user_954  [2019-01-01 17:17:51      NaN     NaN\n",
       "4    Запись пользователя № - user_954  [2019-01-01 21:31:18      NaN     NaN\n",
       "..                                ...                   ...      ...     ...\n",
       "991  Запись пользователя № - user_965  [2019-04-20 12:55:41    800.0  6927.0\n",
       "992  Запись пользователя № - user_967  [2019-04-20 14:59:36  10154.0     NaN\n",
       "993  Запись пользователя № - user_973  [2019-04-20 17:09:56  10254.0     NaN\n",
       "994  Запись пользователя № - user_977  [2019-04-20 18:10:07  10354.0     NaN\n",
       "995  Запись пользователя № - user_984   [2019-04-20 9:59:58   9754.0     NaN\n",
       "\n",
       "[985 rows x 4 columns]"
      ],
      "text/html": "<div>\n<style scoped>\n    .dataframe tbody tr th:only-of-type {\n        vertical-align: middle;\n    }\n\n    .dataframe tbody tr th {\n        vertical-align: top;\n    }\n\n    .dataframe thead th {\n        text-align: right;\n    }\n</style>\n<table border=\"1\" class=\"dataframe\">\n  <thead>\n    <tr style=\"text-align: right;\">\n      <th></th>\n      <th>user_id</th>\n      <th>time</th>\n      <th>bet</th>\n      <th>win</th>\n    </tr>\n  </thead>\n  <tbody>\n    <tr>\n      <th>0</th>\n      <td>Запись пользователя № - user_919</td>\n      <td>[2019-01-01 14:06:51</td>\n      <td>NaN</td>\n      <td>NaN</td>\n    </tr>\n    <tr>\n      <th>1</th>\n      <td>Запись пользователя № - user_973</td>\n      <td>[2019-01-01 14:51:16</td>\n      <td>NaN</td>\n      <td>NaN</td>\n    </tr>\n    <tr>\n      <th>2</th>\n      <td>Запись пользователя № - user_903</td>\n      <td>[2019-01-01 16:31:16</td>\n      <td>NaN</td>\n      <td>NaN</td>\n    </tr>\n    <tr>\n      <th>3</th>\n      <td>Запись пользователя № - user_954</td>\n      <td>[2019-01-01 17:17:51</td>\n      <td>NaN</td>\n      <td>NaN</td>\n    </tr>\n    <tr>\n      <th>4</th>\n      <td>Запись пользователя № - user_954</td>\n      <td>[2019-01-01 21:31:18</td>\n      <td>NaN</td>\n      <td>NaN</td>\n    </tr>\n    <tr>\n      <th>...</th>\n      <td>...</td>\n      <td>...</td>\n      <td>...</td>\n      <td>...</td>\n    </tr>\n    <tr>\n      <th>991</th>\n      <td>Запись пользователя № - user_965</td>\n      <td>[2019-04-20 12:55:41</td>\n      <td>800.0</td>\n      <td>6927.0</td>\n    </tr>\n    <tr>\n      <th>992</th>\n      <td>Запись пользователя № - user_967</td>\n      <td>[2019-04-20 14:59:36</td>\n      <td>10154.0</td>\n      <td>NaN</td>\n    </tr>\n    <tr>\n      <th>993</th>\n      <td>Запись пользователя № - user_973</td>\n      <td>[2019-04-20 17:09:56</td>\n      <td>10254.0</td>\n      <td>NaN</td>\n    </tr>\n    <tr>\n      <th>994</th>\n      <td>Запись пользователя № - user_977</td>\n      <td>[2019-04-20 18:10:07</td>\n      <td>10354.0</td>\n      <td>NaN</td>\n    </tr>\n    <tr>\n      <th>995</th>\n      <td>Запись пользователя № - user_984</td>\n      <td>[2019-04-20 9:59:58</td>\n      <td>9754.0</td>\n      <td>NaN</td>\n    </tr>\n  </tbody>\n</table>\n<p>985 rows × 4 columns</p>\n</div>"
     },
     "metadata": {},
     "execution_count": 55
    }
   ],
   "source": [
    "#Способ 3\n",
    "new_log2 = log[~log.user_id.str.match('#e', na=False)]\n",
    "new_log2"
   ]
  },
  {
   "cell_type": "code",
   "execution_count": null,
   "metadata": {},
   "outputs": [],
   "source": []
  }
 ]
}