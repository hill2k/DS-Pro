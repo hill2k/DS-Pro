{
 "cells": [
  {
   "cell_type": "code",
   "execution_count": 1,
   "id": "8798e0e2",
   "metadata": {
    "_cell_guid": "b1076dfc-b9ad-4769-8c92-a6c4dae69d19",
    "_uuid": "8f2839f25d086af736a60e9eeb907d3b93b6e0e5",
    "execution": {
     "iopub.execute_input": "2022-05-14T13:25:13.160418Z",
     "iopub.status.busy": "2022-05-14T13:25:13.159219Z",
     "iopub.status.idle": "2022-05-14T13:25:14.239815Z",
     "shell.execute_reply": "2022-05-14T13:25:14.240494Z",
     "shell.execute_reply.started": "2022-05-14T13:19:52.230637Z"
    },
    "papermill": {
     "duration": 1.138077,
     "end_time": "2022-05-14T13:25:14.240787",
     "exception": false,
     "start_time": "2022-05-14T13:25:13.102710",
     "status": "completed"
    },
    "tags": []
   },
   "outputs": [
    {
     "name": "stdout",
     "output_type": "stream",
     "text": [
      "/kaggle/input/sf-scoring/sample_submission.csv\n",
      "/kaggle/input/sf-scoring/train.csv\n",
      "/kaggle/input/sf-scoring/test.csv\n"
     ]
    }
   ],
   "source": [
    "# This Python 3 environment comes with many helpful analytics libraries installed\n",
    "# It is defined by the kaggle/python Docker image: https://github.com/kaggle/docker-python\n",
    "# For example, here's several helpful packages to load\n",
    "\n",
    "import numpy as np # linear algebra\n",
    "import pandas as pd # data processing, CSV file I/O (e.g. pd.read_csv)\n",
    "import seaborn as sns\n",
    "import matplotlib.pyplot as plt\n",
    "pd.set_option('display.max_rows', None)\n",
    "pd.set_option('display.max_columns', None) \n",
    "import datetime\n",
    "from datetime import datetime\n",
    "\n",
    "# Input data files are available in the read-only \"../input/\" directory\n",
    "# For example, running this (by clicking run or pressing Shift+Enter) will list all files under the input directory\n",
    "\n",
    "import os\n",
    "for dirname, _, filenames in os.walk('/kaggle/input'):\n",
    "    for filename in filenames:\n",
    "        print(os.path.join(dirname, filename))\n",
    "\n",
    "# You can write up to 20GB to the current directory (/kaggle/working/) that gets preserved as output when you create a version using \"Save & Run All\" \n",
    "# You can also write temporary files to /kaggle/temp/, but they won't be saved outside of the current session"
   ]
  },
  {
   "cell_type": "code",
   "execution_count": 2,
   "id": "e4bb478c",
   "metadata": {
    "execution": {
     "iopub.execute_input": "2022-05-14T13:25:14.352193Z",
     "iopub.status.busy": "2022-05-14T13:25:14.351466Z",
     "iopub.status.idle": "2022-05-14T13:25:14.647444Z",
     "shell.execute_reply": "2022-05-14T13:25:14.646889Z",
     "shell.execute_reply.started": "2022-05-14T13:19:52.266400Z"
    },
    "papermill": {
     "duration": 0.353471,
     "end_time": "2022-05-14T13:25:14.647611",
     "exception": false,
     "start_time": "2022-05-14T13:25:14.294140",
     "status": "completed"
    },
    "tags": []
   },
   "outputs": [],
   "source": [
    "DATA_DIR = '/kaggle/input/sf-scoring/'\n",
    "df_train = pd.read_csv(DATA_DIR +'/train.csv')\n",
    "df_test = pd.read_csv(DATA_DIR +'/test.csv')\n",
    "sample_submission = pd.read_csv(DATA_DIR+'/sample_submission.csv')"
   ]
  },
  {
   "cell_type": "code",
   "execution_count": 3,
   "id": "4a3aa752",
   "metadata": {
    "execution": {
     "iopub.execute_input": "2022-05-14T13:25:14.761243Z",
     "iopub.status.busy": "2022-05-14T13:25:14.760560Z",
     "iopub.status.idle": "2022-05-14T13:25:14.764649Z",
     "shell.execute_reply": "2022-05-14T13:25:14.765323Z",
     "shell.execute_reply.started": "2022-05-14T13:19:52.490226Z"
    },
    "papermill": {
     "duration": 0.064211,
     "end_time": "2022-05-14T13:25:14.765526",
     "exception": false,
     "start_time": "2022-05-14T13:25:14.701315",
     "status": "completed"
    },
    "tags": []
   },
   "outputs": [
    {
     "data": {
      "text/plain": [
       "(36349, 2)"
      ]
     },
     "execution_count": 3,
     "metadata": {},
     "output_type": "execute_result"
    }
   ],
   "source": [
    "sample_submission.shape"
   ]
  },
  {
   "cell_type": "code",
   "execution_count": 4,
   "id": "d8e80a14",
   "metadata": {
    "execution": {
     "iopub.execute_input": "2022-05-14T13:25:14.881702Z",
     "iopub.status.busy": "2022-05-14T13:25:14.877914Z",
     "iopub.status.idle": "2022-05-14T13:25:14.884519Z",
     "shell.execute_reply": "2022-05-14T13:25:14.884951Z",
     "shell.execute_reply.started": "2022-05-14T13:19:52.499552Z"
    },
    "papermill": {
     "duration": 0.064648,
     "end_time": "2022-05-14T13:25:14.885112",
     "exception": false,
     "start_time": "2022-05-14T13:25:14.820464",
     "status": "completed"
    },
    "tags": []
   },
   "outputs": [
    {
     "data": {
      "text/plain": [
       "(36349, 18)"
      ]
     },
     "execution_count": 4,
     "metadata": {},
     "output_type": "execute_result"
    }
   ],
   "source": [
    "df_test.shape"
   ]
  },
  {
   "cell_type": "code",
   "execution_count": 5,
   "id": "aea810c5",
   "metadata": {
    "execution": {
     "iopub.execute_input": "2022-05-14T13:25:14.963323Z",
     "iopub.status.busy": "2022-05-14T13:25:14.962804Z",
     "iopub.status.idle": "2022-05-14T13:25:15.033781Z",
     "shell.execute_reply": "2022-05-14T13:25:15.034465Z",
     "shell.execute_reply.started": "2022-05-14T13:19:52.517075Z"
    },
    "papermill": {
     "duration": 0.113401,
     "end_time": "2022-05-14T13:25:15.034657",
     "exception": false,
     "start_time": "2022-05-14T13:25:14.921256",
     "status": "completed"
    },
    "tags": []
   },
   "outputs": [
    {
     "name": "stdout",
     "output_type": "stream",
     "text": [
      "<class 'pandas.core.frame.DataFrame'>\n",
      "RangeIndex: 73799 entries, 0 to 73798\n",
      "Data columns (total 19 columns):\n",
      " #   Column            Non-Null Count  Dtype  \n",
      "---  ------            --------------  -----  \n",
      " 0   client_id         73799 non-null  int64  \n",
      " 1   app_date          73799 non-null  object \n",
      " 2   education         73492 non-null  object \n",
      " 3   sex               73799 non-null  object \n",
      " 4   age               73799 non-null  int64  \n",
      " 5   car               73799 non-null  object \n",
      " 6   car_type          73799 non-null  object \n",
      " 7   decline_app_cnt   73799 non-null  int64  \n",
      " 8   good_work         73799 non-null  int64  \n",
      " 9   score_bki         73799 non-null  float64\n",
      " 10  bki_request_cnt   73799 non-null  int64  \n",
      " 11  region_rating     73799 non-null  int64  \n",
      " 12  home_address      73799 non-null  int64  \n",
      " 13  work_address      73799 non-null  int64  \n",
      " 14  income            73799 non-null  int64  \n",
      " 15  sna               73799 non-null  int64  \n",
      " 16  first_time        73799 non-null  int64  \n",
      " 17  foreign_passport  73799 non-null  object \n",
      " 18  default           73799 non-null  int64  \n",
      "dtypes: float64(1), int64(12), object(6)\n",
      "memory usage: 10.7+ MB\n"
     ]
    }
   ],
   "source": [
    "df_train.info()"
   ]
  },
  {
   "cell_type": "code",
   "execution_count": 6,
   "id": "47175da9",
   "metadata": {
    "execution": {
     "iopub.execute_input": "2022-05-14T13:25:15.145888Z",
     "iopub.status.busy": "2022-05-14T13:25:15.144908Z",
     "iopub.status.idle": "2022-05-14T13:25:15.172557Z",
     "shell.execute_reply": "2022-05-14T13:25:15.171882Z",
     "shell.execute_reply.started": "2022-05-14T13:19:52.587910Z"
    },
    "papermill": {
     "duration": 0.083625,
     "end_time": "2022-05-14T13:25:15.172702",
     "exception": false,
     "start_time": "2022-05-14T13:25:15.089077",
     "status": "completed"
    },
    "tags": []
   },
   "outputs": [
    {
     "data": {
      "text/html": [
       "<div>\n",
       "<style scoped>\n",
       "    .dataframe tbody tr th:only-of-type {\n",
       "        vertical-align: middle;\n",
       "    }\n",
       "\n",
       "    .dataframe tbody tr th {\n",
       "        vertical-align: top;\n",
       "    }\n",
       "\n",
       "    .dataframe thead th {\n",
       "        text-align: right;\n",
       "    }\n",
       "</style>\n",
       "<table border=\"1\" class=\"dataframe\">\n",
       "  <thead>\n",
       "    <tr style=\"text-align: right;\">\n",
       "      <th></th>\n",
       "      <th>client_id</th>\n",
       "      <th>app_date</th>\n",
       "      <th>education</th>\n",
       "      <th>sex</th>\n",
       "      <th>age</th>\n",
       "      <th>car</th>\n",
       "      <th>car_type</th>\n",
       "      <th>decline_app_cnt</th>\n",
       "      <th>good_work</th>\n",
       "      <th>score_bki</th>\n",
       "      <th>bki_request_cnt</th>\n",
       "      <th>region_rating</th>\n",
       "      <th>home_address</th>\n",
       "      <th>work_address</th>\n",
       "      <th>income</th>\n",
       "      <th>sna</th>\n",
       "      <th>first_time</th>\n",
       "      <th>foreign_passport</th>\n",
       "      <th>default</th>\n",
       "    </tr>\n",
       "  </thead>\n",
       "  <tbody>\n",
       "    <tr>\n",
       "      <th>0</th>\n",
       "      <td>25905</td>\n",
       "      <td>01FEB2014</td>\n",
       "      <td>SCH</td>\n",
       "      <td>M</td>\n",
       "      <td>62</td>\n",
       "      <td>Y</td>\n",
       "      <td>Y</td>\n",
       "      <td>0</td>\n",
       "      <td>0</td>\n",
       "      <td>-2.008753</td>\n",
       "      <td>1</td>\n",
       "      <td>50</td>\n",
       "      <td>1</td>\n",
       "      <td>2</td>\n",
       "      <td>18000</td>\n",
       "      <td>4</td>\n",
       "      <td>1</td>\n",
       "      <td>N</td>\n",
       "      <td>0</td>\n",
       "    </tr>\n",
       "    <tr>\n",
       "      <th>1</th>\n",
       "      <td>63161</td>\n",
       "      <td>12MAR2014</td>\n",
       "      <td>SCH</td>\n",
       "      <td>F</td>\n",
       "      <td>59</td>\n",
       "      <td>N</td>\n",
       "      <td>N</td>\n",
       "      <td>0</td>\n",
       "      <td>0</td>\n",
       "      <td>-1.532276</td>\n",
       "      <td>3</td>\n",
       "      <td>50</td>\n",
       "      <td>2</td>\n",
       "      <td>3</td>\n",
       "      <td>19000</td>\n",
       "      <td>4</td>\n",
       "      <td>1</td>\n",
       "      <td>N</td>\n",
       "      <td>0</td>\n",
       "    </tr>\n",
       "    <tr>\n",
       "      <th>2</th>\n",
       "      <td>25887</td>\n",
       "      <td>01FEB2014</td>\n",
       "      <td>SCH</td>\n",
       "      <td>M</td>\n",
       "      <td>25</td>\n",
       "      <td>Y</td>\n",
       "      <td>N</td>\n",
       "      <td>2</td>\n",
       "      <td>0</td>\n",
       "      <td>-1.408142</td>\n",
       "      <td>1</td>\n",
       "      <td>80</td>\n",
       "      <td>1</td>\n",
       "      <td>2</td>\n",
       "      <td>30000</td>\n",
       "      <td>1</td>\n",
       "      <td>4</td>\n",
       "      <td>Y</td>\n",
       "      <td>0</td>\n",
       "    </tr>\n",
       "    <tr>\n",
       "      <th>3</th>\n",
       "      <td>16222</td>\n",
       "      <td>23JAN2014</td>\n",
       "      <td>SCH</td>\n",
       "      <td>F</td>\n",
       "      <td>53</td>\n",
       "      <td>N</td>\n",
       "      <td>N</td>\n",
       "      <td>0</td>\n",
       "      <td>0</td>\n",
       "      <td>-2.057471</td>\n",
       "      <td>2</td>\n",
       "      <td>50</td>\n",
       "      <td>2</td>\n",
       "      <td>3</td>\n",
       "      <td>10000</td>\n",
       "      <td>1</td>\n",
       "      <td>3</td>\n",
       "      <td>N</td>\n",
       "      <td>0</td>\n",
       "    </tr>\n",
       "    <tr>\n",
       "      <th>4</th>\n",
       "      <td>101655</td>\n",
       "      <td>18APR2014</td>\n",
       "      <td>GRD</td>\n",
       "      <td>M</td>\n",
       "      <td>48</td>\n",
       "      <td>N</td>\n",
       "      <td>N</td>\n",
       "      <td>0</td>\n",
       "      <td>1</td>\n",
       "      <td>-1.244723</td>\n",
       "      <td>1</td>\n",
       "      <td>60</td>\n",
       "      <td>2</td>\n",
       "      <td>3</td>\n",
       "      <td>30000</td>\n",
       "      <td>1</td>\n",
       "      <td>4</td>\n",
       "      <td>Y</td>\n",
       "      <td>0</td>\n",
       "    </tr>\n",
       "  </tbody>\n",
       "</table>\n",
       "</div>"
      ],
      "text/plain": [
       "   client_id   app_date education sex  age car car_type  decline_app_cnt  \\\n",
       "0      25905  01FEB2014       SCH   M   62   Y        Y                0   \n",
       "1      63161  12MAR2014       SCH   F   59   N        N                0   \n",
       "2      25887  01FEB2014       SCH   M   25   Y        N                2   \n",
       "3      16222  23JAN2014       SCH   F   53   N        N                0   \n",
       "4     101655  18APR2014       GRD   M   48   N        N                0   \n",
       "\n",
       "   good_work  score_bki  bki_request_cnt  region_rating  home_address  \\\n",
       "0          0  -2.008753                1             50             1   \n",
       "1          0  -1.532276                3             50             2   \n",
       "2          0  -1.408142                1             80             1   \n",
       "3          0  -2.057471                2             50             2   \n",
       "4          1  -1.244723                1             60             2   \n",
       "\n",
       "   work_address  income  sna  first_time foreign_passport  default  \n",
       "0             2   18000    4           1                N        0  \n",
       "1             3   19000    4           1                N        0  \n",
       "2             2   30000    1           4                Y        0  \n",
       "3             3   10000    1           3                N        0  \n",
       "4             3   30000    1           4                Y        0  "
      ]
     },
     "execution_count": 6,
     "metadata": {},
     "output_type": "execute_result"
    }
   ],
   "source": [
    "df_train.head(5)"
   ]
  },
  {
   "cell_type": "code",
   "execution_count": 7,
   "id": "0d0d599b",
   "metadata": {
    "execution": {
     "iopub.execute_input": "2022-05-14T13:25:15.294702Z",
     "iopub.status.busy": "2022-05-14T13:25:15.285343Z",
     "iopub.status.idle": "2022-05-14T13:25:15.303997Z",
     "shell.execute_reply": "2022-05-14T13:25:15.304483Z",
     "shell.execute_reply.started": "2022-05-14T13:19:52.609483Z"
    },
    "papermill": {
     "duration": 0.078121,
     "end_time": "2022-05-14T13:25:15.304648",
     "exception": false,
     "start_time": "2022-05-14T13:25:15.226527",
     "status": "completed"
    },
    "tags": []
   },
   "outputs": [
    {
     "name": "stdout",
     "output_type": "stream",
     "text": [
      "<class 'pandas.core.frame.DataFrame'>\n",
      "RangeIndex: 36349 entries, 0 to 36348\n",
      "Data columns (total 18 columns):\n",
      " #   Column            Non-Null Count  Dtype  \n",
      "---  ------            --------------  -----  \n",
      " 0   client_id         36349 non-null  int64  \n",
      " 1   app_date          36349 non-null  object \n",
      " 2   education         36178 non-null  object \n",
      " 3   sex               36349 non-null  object \n",
      " 4   age               36349 non-null  int64  \n",
      " 5   car               36349 non-null  object \n",
      " 6   car_type          36349 non-null  object \n",
      " 7   decline_app_cnt   36349 non-null  int64  \n",
      " 8   good_work         36349 non-null  int64  \n",
      " 9   score_bki         36349 non-null  float64\n",
      " 10  bki_request_cnt   36349 non-null  int64  \n",
      " 11  region_rating     36349 non-null  int64  \n",
      " 12  home_address      36349 non-null  int64  \n",
      " 13  work_address      36349 non-null  int64  \n",
      " 14  income            36349 non-null  int64  \n",
      " 15  sna               36349 non-null  int64  \n",
      " 16  first_time        36349 non-null  int64  \n",
      " 17  foreign_passport  36349 non-null  object \n",
      "dtypes: float64(1), int64(11), object(6)\n",
      "memory usage: 5.0+ MB\n"
     ]
    }
   ],
   "source": [
    "df_test.info()"
   ]
  },
  {
   "cell_type": "code",
   "execution_count": 8,
   "id": "85a3253e",
   "metadata": {
    "execution": {
     "iopub.execute_input": "2022-05-14T13:25:15.382804Z",
     "iopub.status.busy": "2022-05-14T13:25:15.382173Z",
     "iopub.status.idle": "2022-05-14T13:25:15.391376Z",
     "shell.execute_reply": "2022-05-14T13:25:15.391745Z",
     "shell.execute_reply.started": "2022-05-14T13:19:52.650738Z"
    },
    "papermill": {
     "duration": 0.049475,
     "end_time": "2022-05-14T13:25:15.391943",
     "exception": false,
     "start_time": "2022-05-14T13:25:15.342468",
     "status": "completed"
    },
    "tags": []
   },
   "outputs": [
    {
     "data": {
      "text/html": [
       "<div>\n",
       "<style scoped>\n",
       "    .dataframe tbody tr th:only-of-type {\n",
       "        vertical-align: middle;\n",
       "    }\n",
       "\n",
       "    .dataframe tbody tr th {\n",
       "        vertical-align: top;\n",
       "    }\n",
       "\n",
       "    .dataframe thead th {\n",
       "        text-align: right;\n",
       "    }\n",
       "</style>\n",
       "<table border=\"1\" class=\"dataframe\">\n",
       "  <thead>\n",
       "    <tr style=\"text-align: right;\">\n",
       "      <th></th>\n",
       "      <th>client_id</th>\n",
       "      <th>default</th>\n",
       "    </tr>\n",
       "  </thead>\n",
       "  <tbody>\n",
       "    <tr>\n",
       "      <th>0</th>\n",
       "      <td>74835</td>\n",
       "      <td>0</td>\n",
       "    </tr>\n",
       "    <tr>\n",
       "      <th>1</th>\n",
       "      <td>17527</td>\n",
       "      <td>0</td>\n",
       "    </tr>\n",
       "    <tr>\n",
       "      <th>2</th>\n",
       "      <td>75683</td>\n",
       "      <td>0</td>\n",
       "    </tr>\n",
       "    <tr>\n",
       "      <th>3</th>\n",
       "      <td>26883</td>\n",
       "      <td>0</td>\n",
       "    </tr>\n",
       "    <tr>\n",
       "      <th>4</th>\n",
       "      <td>28862</td>\n",
       "      <td>0</td>\n",
       "    </tr>\n",
       "  </tbody>\n",
       "</table>\n",
       "</div>"
      ],
      "text/plain": [
       "   client_id  default\n",
       "0      74835        0\n",
       "1      17527        0\n",
       "2      75683        0\n",
       "3      26883        0\n",
       "4      28862        0"
      ]
     },
     "execution_count": 8,
     "metadata": {},
     "output_type": "execute_result"
    }
   ],
   "source": [
    "sample_submission.head(5)"
   ]
  },
  {
   "cell_type": "code",
   "execution_count": 9,
   "id": "985bf17c",
   "metadata": {
    "execution": {
     "iopub.execute_input": "2022-05-14T13:25:15.527579Z",
     "iopub.status.busy": "2022-05-14T13:25:15.521324Z",
     "iopub.status.idle": "2022-05-14T13:25:15.530009Z",
     "shell.execute_reply": "2022-05-14T13:25:15.530656Z",
     "shell.execute_reply.started": "2022-05-14T13:19:52.660511Z"
    },
    "papermill": {
     "duration": 0.052623,
     "end_time": "2022-05-14T13:25:15.530888",
     "exception": false,
     "start_time": "2022-05-14T13:25:15.478265",
     "status": "completed"
    },
    "tags": []
   },
   "outputs": [
    {
     "name": "stdout",
     "output_type": "stream",
     "text": [
      "<class 'pandas.core.frame.DataFrame'>\n",
      "RangeIndex: 36349 entries, 0 to 36348\n",
      "Data columns (total 2 columns):\n",
      " #   Column     Non-Null Count  Dtype\n",
      "---  ------     --------------  -----\n",
      " 0   client_id  36349 non-null  int64\n",
      " 1   default    36349 non-null  int64\n",
      "dtypes: int64(2)\n",
      "memory usage: 568.1 KB\n"
     ]
    }
   ],
   "source": [
    "sample_submission.info()"
   ]
  },
  {
   "cell_type": "code",
   "execution_count": 10,
   "id": "d70c694f",
   "metadata": {
    "execution": {
     "iopub.execute_input": "2022-05-14T13:25:15.654520Z",
     "iopub.status.busy": "2022-05-14T13:25:15.653741Z",
     "iopub.status.idle": "2022-05-14T13:25:15.710102Z",
     "shell.execute_reply": "2022-05-14T13:25:15.709499Z",
     "shell.execute_reply.started": "2022-05-14T13:19:52.680614Z"
    },
    "papermill": {
     "duration": 0.118493,
     "end_time": "2022-05-14T13:25:15.710239",
     "exception": false,
     "start_time": "2022-05-14T13:25:15.591746",
     "status": "completed"
    },
    "tags": []
   },
   "outputs": [],
   "source": [
    "# ВАЖНО! дря корректной обработки признаков объединяем трейн и тест в один датасет\n",
    "df_train['sample'] = 1 # помечаем где у нас трейн\n",
    "df_test['sample'] = 0  # помечаем где у нас тест\n",
    "df_test['default'] = 0 # в тесте у нас нет значения default, мы его должны предсказать, по этому пока просто заполняем нулями\n",
    "\n",
    "data = df_test.append(df_train, sort=False).reset_index(drop=True) # объединяем"
   ]
  },
  {
   "cell_type": "code",
   "execution_count": 11,
   "id": "6d7a5086",
   "metadata": {
    "execution": {
     "iopub.execute_input": "2022-05-14T13:25:15.836483Z",
     "iopub.status.busy": "2022-05-14T13:25:15.835773Z",
     "iopub.status.idle": "2022-05-14T13:25:17.609791Z",
     "shell.execute_reply": "2022-05-14T13:25:17.609084Z",
     "shell.execute_reply.started": "2022-05-14T13:19:52.733552Z"
    },
    "papermill": {
     "duration": 1.83831,
     "end_time": "2022-05-14T13:25:17.609965",
     "exception": false,
     "start_time": "2022-05-14T13:25:15.771655",
     "status": "completed"
    },
    "tags": []
   },
   "outputs": [],
   "source": [
    "# преобразуем дату в формат datetime\n",
    "data['app_date'] = data.app_date.apply(lambda x: datetime.strptime(x, '%d%b%Y'))"
   ]
  },
  {
   "cell_type": "code",
   "execution_count": 12,
   "id": "9e3882a2",
   "metadata": {
    "execution": {
     "iopub.execute_input": "2022-05-14T13:25:17.733705Z",
     "iopub.status.busy": "2022-05-14T13:25:17.733062Z",
     "iopub.status.idle": "2022-05-14T13:25:17.746696Z",
     "shell.execute_reply": "2022-05-14T13:25:17.747149Z",
     "shell.execute_reply.started": "2022-05-14T13:19:54.154844Z"
    },
    "papermill": {
     "duration": 0.079277,
     "end_time": "2022-05-14T13:25:17.747313",
     "exception": false,
     "start_time": "2022-05-14T13:25:17.668036",
     "status": "completed"
    },
    "tags": []
   },
   "outputs": [
    {
     "data": {
      "text/plain": [
       "2014    110148\n",
       "Name: app_date, dtype: int64"
      ]
     },
     "execution_count": 12,
     "metadata": {},
     "output_type": "execute_result"
    }
   ],
   "source": [
    "# посмотрим что по годам\n",
    "data.app_date.dt.year.value_counts()"
   ]
  },
  {
   "cell_type": "code",
   "execution_count": 13,
   "id": "253b64d3",
   "metadata": {
    "execution": {
     "iopub.execute_input": "2022-05-14T13:25:17.830753Z",
     "iopub.status.busy": "2022-05-14T13:25:17.830196Z",
     "iopub.status.idle": "2022-05-14T13:25:17.891784Z",
     "shell.execute_reply": "2022-05-14T13:25:17.892440Z",
     "shell.execute_reply.started": "2022-05-14T13:19:54.177447Z"
    },
    "papermill": {
     "duration": 0.106334,
     "end_time": "2022-05-14T13:25:17.892624",
     "exception": false,
     "start_time": "2022-05-14T13:25:17.786290",
     "status": "completed"
    },
    "tags": []
   },
   "outputs": [],
   "source": [
    "# выделим в отдельные столбцы \"месяц\", \"день недели\", \"день месяца по порядку\", \"день года по порядку\"\n",
    "data['day_of_week'] = data.app_date.dt.day_of_week\n",
    "data['day_of_month'] = data.app_date.dt.day\n",
    "data['day_of_year'] = data.app_date.dt.day_of_year\n",
    "data['month'] = data.app_date.dt.month"
   ]
  },
  {
   "cell_type": "code",
   "execution_count": 14,
   "id": "1ce91efb",
   "metadata": {
    "execution": {
     "iopub.execute_input": "2022-05-14T13:25:18.024699Z",
     "iopub.status.busy": "2022-05-14T13:25:18.023754Z",
     "iopub.status.idle": "2022-05-14T13:25:18.028589Z",
     "shell.execute_reply": "2022-05-14T13:25:18.027933Z",
     "shell.execute_reply.started": "2022-05-14T13:19:54.236873Z"
    },
    "papermill": {
     "duration": 0.077522,
     "end_time": "2022-05-14T13:25:18.028723",
     "exception": false,
     "start_time": "2022-05-14T13:25:17.951201",
     "status": "completed"
    },
    "tags": []
   },
   "outputs": [
    {
     "data": {
      "text/plain": [
       "478"
      ]
     },
     "execution_count": 14,
     "metadata": {},
     "output_type": "execute_result"
    }
   ],
   "source": [
    "# посчитаем пропуски в education\n",
    "data.education.isna().sum()"
   ]
  },
  {
   "cell_type": "code",
   "execution_count": 15,
   "id": "d0c29bec",
   "metadata": {
    "execution": {
     "iopub.execute_input": "2022-05-14T13:25:18.177449Z",
     "iopub.status.busy": "2022-05-14T13:25:18.164873Z",
     "iopub.status.idle": "2022-05-14T13:25:18.183941Z",
     "shell.execute_reply": "2022-05-14T13:25:18.183245Z",
     "shell.execute_reply.started": "2022-05-14T13:19:54.257456Z"
    },
    "papermill": {
     "duration": 0.097309,
     "end_time": "2022-05-14T13:25:18.184087",
     "exception": false,
     "start_time": "2022-05-14T13:25:18.086778",
     "status": "completed"
    },
    "tags": []
   },
   "outputs": [],
   "source": [
    "# Количество пропусков в столбце Education относительно небольшое, можно было бы удалить.\n",
    "# Но мы поступим по другому.\n",
    "# Заполним пропуски на медианные значения\n",
    "mod = data.education.mode()[0]\n",
    "data['education'] = data['education'].fillna(value=mod, axis=0)"
   ]
  },
  {
   "cell_type": "code",
   "execution_count": 16,
   "id": "6afd4b95",
   "metadata": {
    "execution": {
     "iopub.execute_input": "2022-05-14T13:25:18.308208Z",
     "iopub.status.busy": "2022-05-14T13:25:18.307265Z",
     "iopub.status.idle": "2022-05-14T13:25:18.310934Z",
     "shell.execute_reply": "2022-05-14T13:25:18.311605Z",
     "shell.execute_reply.started": "2022-05-14T13:19:54.298959Z"
    },
    "papermill": {
     "duration": 0.069962,
     "end_time": "2022-05-14T13:25:18.311771",
     "exception": false,
     "start_time": "2022-05-14T13:25:18.241809",
     "status": "completed"
    },
    "tags": []
   },
   "outputs": [
    {
     "data": {
      "text/plain": [
       "0     91471\n",
       "1     12500\n",
       "2      3622\n",
       "3      1365\n",
       "4       606\n",
       "5       255\n",
       "6       156\n",
       "7        58\n",
       "8        37\n",
       "9        29\n",
       "10       16\n",
       "11       10\n",
       "12        5\n",
       "13        4\n",
       "14        3\n",
       "16        3\n",
       "21        1\n",
       "30        1\n",
       "20        1\n",
       "19        1\n",
       "22        1\n",
       "33        1\n",
       "15        1\n",
       "24        1\n",
       "Name: decline_app_cnt, dtype: int64"
      ]
     },
     "execution_count": 16,
     "metadata": {},
     "output_type": "execute_result"
    }
   ],
   "source": [
    "data['decline_app_cnt'].value_counts()"
   ]
  },
  {
   "cell_type": "code",
   "execution_count": 17,
   "id": "c4fa273a",
   "metadata": {
    "execution": {
     "iopub.execute_input": "2022-05-14T13:25:18.441918Z",
     "iopub.status.busy": "2022-05-14T13:25:18.441047Z",
     "iopub.status.idle": "2022-05-14T13:25:18.447540Z",
     "shell.execute_reply": "2022-05-14T13:25:18.448119Z",
     "shell.execute_reply.started": "2022-05-14T13:19:54.311159Z"
    },
    "papermill": {
     "duration": 0.071773,
     "end_time": "2022-05-14T13:25:18.448364",
     "exception": false,
     "start_time": "2022-05-14T13:25:18.376591",
     "status": "completed"
    },
    "tags": []
   },
   "outputs": [],
   "source": [
    "num_cols = ['age', 'score_bki', 'decline_app_cnt', 'bki_request_cnt', 'income', 'day_of_month', 'day_of_year']\n",
    "cat_cols = ['education', 'first_time', 'sna', 'work_address', 'home_address', 'region_rating', 'day_of_week', 'month']\n",
    "bin_cols = ['sex', 'car', 'car_type', 'good_work', 'foreign_passport']"
   ]
  },
  {
   "cell_type": "code",
   "execution_count": 18,
   "id": "104c4598",
   "metadata": {
    "execution": {
     "iopub.execute_input": "2022-05-14T13:25:18.571797Z",
     "iopub.status.busy": "2022-05-14T13:25:18.568632Z",
     "iopub.status.idle": "2022-05-14T13:25:19.883198Z",
     "shell.execute_reply": "2022-05-14T13:25:19.883936Z",
     "shell.execute_reply.started": "2022-05-14T13:19:54.319324Z"
    },
    "papermill": {
     "duration": 1.378662,
     "end_time": "2022-05-14T13:25:19.884115",
     "exception": false,
     "start_time": "2022-05-14T13:25:18.505453",
     "status": "completed"
    },
    "tags": []
   },
   "outputs": [
    {
     "name": "stderr",
     "output_type": "stream",
     "text": [
      "/opt/conda/lib/python3.7/site-packages/seaborn/_decorators.py:43: FutureWarning: Pass the following variable as a keyword arg: x. From version 0.12, the only valid positional argument will be `data`, and passing other arguments without an explicit keyword will result in an error or misinterpretation.\n",
      "  FutureWarning\n"
     ]
    },
    {
     "data": {
      "image/png": "[encoded data removed]",
      "text/plain": [
       "<Figure size 432x288 with 1 Axes>"
      ]
     },
     "metadata": {
      "needs_background": "light"
     },
     "output_type": "display_data"
    },
    {
     "name": "stderr",
     "output_type": "stream",
     "text": [
      "/opt/conda/lib/python3.7/site-packages/seaborn/_decorators.py:43: FutureWarning: Pass the following variable as a keyword arg: x. From version 0.12, the only valid positional argument will be `data`, and passing other arguments without an explicit keyword will result in an error or misinterpretation.\n",
      "  FutureWarning\n"
     ]
    },
    {
     "data": {
      "image/png": "[encoded data removed]",
      "text/plain": [
       "<Figure size 432x288 with 1 Axes>"
      ]
     },
     "metadata": {
      "needs_background": "light"
     },
     "output_type": "display_data"
    },
    {
     "name": "stderr",
     "output_type": "stream",
     "text": [
      "/opt/conda/lib/python3.7/site-packages/seaborn/_decorators.py:43: FutureWarning: Pass the following variable as a keyword arg: x. From version 0.12, the only valid positional argument will be `data`, and passing other arguments without an explicit keyword will result in an error or misinterpretation.\n",
      "  FutureWarning\n"
     ]
    },
    {
     "data": {
      "image/png": "[encoded data removed]",
      "text/plain": [
       "<Figure size 432x288 with 1 Axes>"
      ]
     },
     "metadata": {
      "needs_background": "light"
     },
     "output_type": "display_data"
    },
    {
     "name": "stderr",
     "output_type": "stream",
     "text": [
      "/opt/conda/lib/python3.7/site-packages/seaborn/_decorators.py:43: FutureWarning: Pass the following variable as a keyword arg: x. From version 0.12, the only valid positional argument will be `data`, and passing other arguments without an explicit keyword will result in an error or misinterpretation.\n",
      "  FutureWarning\n"
     ]
    },
    {
     "data": {
      "image/png": "[encoded data removed]",
      "text/plain": [
       "<Figure size 432x288 with 1 Axes>"
      ]
     },
     "metadata": {
      "needs_background": "light"
     },
     "output_type": "display_data"
    },
    {
     "name": "stderr",
     "output_type": "stream",
     "text": [
      "/opt/conda/lib/python3.7/site-packages/seaborn/_decorators.py:43: FutureWarning: Pass the following variable as a keyword arg: x. From version 0.12, the only valid positional argument will be `data`, and passing other arguments without an explicit keyword will result in an error or misinterpretation.\n",
      "  FutureWarning\n"
     ]
    },
    {
     "data": {
      "image/png": "[encoded data removed]",
      "text/plain": [
       "<Figure size 432x288 with 1 Axes>"
      ]
     },
     "metadata": {
      "needs_background": "light"
     },
     "output_type": "display_data"
    },
    {
     "name": "stderr",
     "output_type": "stream",
     "text": [
      "/opt/conda/lib/python3.7/site-packages/seaborn/_decorators.py:43: FutureWarning: Pass the following variable as a keyword arg: x. From version 0.12, the only valid positional argument will be `data`, and passing other arguments without an explicit keyword will result in an error or misinterpretation.\n",
      "  FutureWarning\n"
     ]
    },
    {
     "data": {
      "image/png": "[encoded data removed]",
      "text/plain": [
       "<Figure size 432x288 with 1 Axes>"
      ]
     },
     "metadata": {
      "needs_background": "light"
     },
     "output_type": "display_data"
    },
    {
     "name": "stderr",
     "output_type": "stream",
     "text": [
      "/opt/conda/lib/python3.7/site-packages/seaborn/_decorators.py:43: FutureWarning: Pass the following variable as a keyword arg: x. From version 0.12, the only valid positional argument will be `data`, and passing other arguments without an explicit keyword will result in an error or misinterpretation.\n",
      "  FutureWarning\n"
     ]
    },
    {
     "data": {
      "image/png": "[encoded data removed]",
      "text/plain": [
       "<Figure size 432x288 with 1 Axes>"
      ]
     },
     "metadata": {
      "needs_background": "light"
     },
     "output_type": "display_data"
    }
   ],
   "source": [
    "# проверим на выбросы num_cols\n",
    "import matplotlib.pyplot as plt\n",
    "import seaborn as sns\n",
    "for i in num_cols:\n",
    "    plt.figure()\n",
    "    sns.boxplot(data[i])\n",
    "    plt.title(i)\n",
    "    plt.show()\n"
   ]
  },
  {
   "cell_type": "code",
   "execution_count": 19,
   "id": "30cc7387",
   "metadata": {
    "execution": {
     "iopub.execute_input": "2022-05-14T13:25:20.020322Z",
     "iopub.status.busy": "2022-05-14T13:25:20.019585Z",
     "iopub.status.idle": "2022-05-14T13:25:20.024244Z",
     "shell.execute_reply": "2022-05-14T13:25:20.024855Z",
     "shell.execute_reply.started": "2022-05-14T13:19:56.253841Z"
    },
    "papermill": {
     "duration": 0.073666,
     "end_time": "2022-05-14T13:25:20.025041",
     "exception": false,
     "start_time": "2022-05-14T13:25:19.951375",
     "status": "completed"
    },
    "tags": []
   },
   "outputs": [],
   "source": [
    "def IQR_outlier(df: pd.DataFrame, column: object, verbose: bool=True) -> tuple:\n",
    "    '''\n",
    "    Функция для отображения границ межквартильного размаха\n",
    "    '''\n",
    "    perc25 = df[column].quantile(0.25)\n",
    "    perc75 = df[column].quantile(0.75)\n",
    "    IQR = perc75 - perc25\n",
    "    low = perc25 - 1.5*IQR\n",
    "    high = perc75 + 1.5*IQR\n",
    "    if verbose:\n",
    "        print('', format(i),':', \"Границы выбросов: [{f}, {l}].\".format(f=low, l=high))\n",
    "    return (low, high)"
   ]
  },
  {
   "cell_type": "code",
   "execution_count": 20,
   "id": "316908a2",
   "metadata": {
    "execution": {
     "iopub.execute_input": "2022-05-14T13:25:20.160372Z",
     "iopub.status.busy": "2022-05-14T13:25:20.159650Z",
     "iopub.status.idle": "2022-05-14T13:25:21.461788Z",
     "shell.execute_reply": "2022-05-14T13:25:21.462352Z",
     "shell.execute_reply.started": "2022-05-14T13:19:56.264434Z"
    },
    "papermill": {
     "duration": 1.373393,
     "end_time": "2022-05-14T13:25:21.462518",
     "exception": false,
     "start_time": "2022-05-14T13:25:20.089125",
     "status": "completed"
    },
    "tags": []
   },
   "outputs": [
    {
     "name": "stdout",
     "output_type": "stream",
     "text": [
      " age : Границы выбросов: [3.0, 75.0].\n",
      " score_bki : Границы выбросов: [-3.299251946250001, -0.5290698762499992].\n",
      " decline_app_cnt : Границы выбросов: [0.0, 0.0].\n",
      " bki_request_cnt : Границы выбросов: [-4.5, 7.5].\n",
      " income : Границы выбросов: [-22000.0, 90000.0].\n",
      " day_of_month : Границы выбросов: [-12.0, 44.0].\n",
      " day_of_year : Границы выбросов: [-50.0, 174.0].\n"
     ]
    }
   ],
   "source": [
    "for i in num_cols:\n",
    "   low, high = IQR_outlier(data, i)\n",
    "   if i == 'income':\n",
    "      pass                          #Оставим income как есть\n",
    "   elif i == 'decline_app_cnt':\n",
    "     data[i] = data[i].apply(lambda x: data[i].median() if x>16 else x)\n",
    "   elif i == 'bki_request_cnt':\n",
    "      data[i] = data[i].apply(lambda x: data[i].median() if x>30 else x)\n",
    "   else:\n",
    "      data[i] = data[i].apply(lambda x: data[i].median() if x>high or x<low else x)"
   ]
  },
  {
   "cell_type": "code",
   "execution_count": 21,
   "id": "9534d7f3",
   "metadata": {
    "execution": {
     "iopub.execute_input": "2022-05-14T13:25:21.612981Z",
     "iopub.status.busy": "2022-05-14T13:25:21.612076Z",
     "iopub.status.idle": "2022-05-14T13:25:22.092154Z",
     "shell.execute_reply": "2022-05-14T13:25:22.091554Z",
     "shell.execute_reply.started": "2022-05-14T13:19:57.933009Z"
    },
    "papermill": {
     "duration": 0.556148,
     "end_time": "2022-05-14T13:25:22.092327",
     "exception": false,
     "start_time": "2022-05-14T13:25:21.536179",
     "status": "completed"
    },
    "tags": []
   },
   "outputs": [
    {
     "data": {
      "text/plain": [
       "<AxesSubplot:>"
      ]
     },
     "execution_count": 21,
     "metadata": {},
     "output_type": "execute_result"
    },
    {
     "data": {
      "image/png": "[encoded data removed]",
      "text/plain": [
       "<Figure size 432x288 with 1 Axes>"
      ]
     },
     "metadata": {
      "needs_background": "light"
     },
     "output_type": "display_data"
    }
   ],
   "source": [
    "#Логарифмируем age\n",
    "data['age'] = data['age'].apply(lambda w: np.log(w))\n",
    "data.age.hist()"
   ]
  },
  {
   "cell_type": "code",
   "execution_count": 22,
   "id": "17c109e9",
   "metadata": {
    "execution": {
     "iopub.execute_input": "2022-05-14T13:25:22.255244Z",
     "iopub.status.busy": "2022-05-14T13:25:22.239165Z",
     "iopub.status.idle": "2022-05-14T13:25:22.674970Z",
     "shell.execute_reply": "2022-05-14T13:25:22.675557Z",
     "shell.execute_reply.started": "2022-05-14T13:19:58.524216Z"
    },
    "papermill": {
     "duration": 0.514314,
     "end_time": "2022-05-14T13:25:22.675735",
     "exception": false,
     "start_time": "2022-05-14T13:25:22.161421",
     "status": "completed"
    },
    "tags": []
   },
   "outputs": [
    {
     "data": {
      "text/plain": [
       "<AxesSubplot:>"
      ]
     },
     "execution_count": 22,
     "metadata": {},
     "output_type": "execute_result"
    },
    {
     "data": {
      "image/png": "[encoded data removed]",
      "text/plain": [
       "<Figure size 432x288 with 1 Axes>"
      ]
     },
     "metadata": {
      "needs_background": "light"
     },
     "output_type": "display_data"
    }
   ],
   "source": [
    "#Логарифмируем income\n",
    "data['income'] = data['income'].apply(lambda w: np.log(w))\n",
    "data.income.hist()"
   ]
  },
  {
   "cell_type": "markdown",
   "id": "546d1aad",
   "metadata": {
    "papermill": {
     "duration": 0.069308,
     "end_time": "2022-05-14T13:25:22.814803",
     "exception": false,
     "start_time": "2022-05-14T13:25:22.745495",
     "status": "completed"
    },
    "tags": []
   },
   "source": [
    "Так больше похоже на нормальное распределение"
   ]
  },
  {
   "cell_type": "code",
   "execution_count": 23,
   "id": "12c9121e",
   "metadata": {
    "execution": {
     "iopub.execute_input": "2022-05-14T13:25:22.958339Z",
     "iopub.status.busy": "2022-05-14T13:25:22.957404Z",
     "iopub.status.idle": "2022-05-14T13:25:23.830920Z",
     "shell.execute_reply": "2022-05-14T13:25:23.831595Z",
     "shell.execute_reply.started": "2022-05-14T13:19:59.101984Z"
    },
    "papermill": {
     "duration": 0.948457,
     "end_time": "2022-05-14T13:25:23.831780",
     "exception": false,
     "start_time": "2022-05-14T13:25:22.883323",
     "status": "completed"
    },
    "tags": []
   },
   "outputs": [
    {
     "name": "stderr",
     "output_type": "stream",
     "text": [
      "/opt/conda/lib/python3.7/site-packages/seaborn/_decorators.py:43: FutureWarning: Pass the following variable as a keyword arg: x. From version 0.12, the only valid positional argument will be `data`, and passing other arguments without an explicit keyword will result in an error or misinterpretation.\n",
      "  FutureWarning\n"
     ]
    },
    {
     "data": {
      "image/png": "[encoded data removed]",
      "text/plain": [
       "<Figure size 432x288 with 1 Axes>"
      ]
     },
     "metadata": {
      "needs_background": "light"
     },
     "output_type": "display_data"
    },
    {
     "name": "stderr",
     "output_type": "stream",
     "text": [
      "/opt/conda/lib/python3.7/site-packages/seaborn/_decorators.py:43: FutureWarning: Pass the following variable as a keyword arg: x. From version 0.12, the only valid positional argument will be `data`, and passing other arguments without an explicit keyword will result in an error or misinterpretation.\n",
      "  FutureWarning\n"
     ]
    },
    {
     "data": {
      "image/png": "[encoded data removed]",
      "text/plain": [
       "<Figure size 432x288 with 1 Axes>"
      ]
     },
     "metadata": {
      "needs_background": "light"
     },
     "output_type": "display_data"
    },
    {
     "name": "stderr",
     "output_type": "stream",
     "text": [
      "/opt/conda/lib/python3.7/site-packages/seaborn/_decorators.py:43: FutureWarning: Pass the following variable as a keyword arg: x. From version 0.12, the only valid positional argument will be `data`, and passing other arguments without an explicit keyword will result in an error or misinterpretation.\n",
      "  FutureWarning\n"
     ]
    },
    {
     "data": {
      "image/png": "[encoded data removed]",
      "text/plain": [
       "<Figure size 432x288 with 1 Axes>"
      ]
     },
     "metadata": {
      "needs_background": "light"
     },
     "output_type": "display_data"
    },
    {
     "name": "stderr",
     "output_type": "stream",
     "text": [
      "/opt/conda/lib/python3.7/site-packages/seaborn/_decorators.py:43: FutureWarning: Pass the following variable as a keyword arg: x. From version 0.12, the only valid positional argument will be `data`, and passing other arguments without an explicit keyword will result in an error or misinterpretation.\n",
      "  FutureWarning\n"
     ]
    },
    {
     "data": {
      "image/png": "[encoded data removed]",
      "text/plain": [
       "<Figure size 432x288 with 1 Axes>"
      ]
     },
     "metadata": {
      "needs_background": "light"
     },
     "output_type": "display_data"
    },
    {
     "name": "stderr",
     "output_type": "stream",
     "text": [
      "/opt/conda/lib/python3.7/site-packages/seaborn/_decorators.py:43: FutureWarning: Pass the following variable as a keyword arg: x. From version 0.12, the only valid positional argument will be `data`, and passing other arguments without an explicit keyword will result in an error or misinterpretation.\n",
      "  FutureWarning\n"
     ]
    },
    {
     "data": {
      "image/png": "[encoded data removed]",
      "text/plain": [
       "<Figure size 432x288 with 1 Axes>"
      ]
     },
     "metadata": {
      "needs_background": "light"
     },
     "output_type": "display_data"
    },
    {
     "name": "stderr",
     "output_type": "stream",
     "text": [
      "/opt/conda/lib/python3.7/site-packages/seaborn/_decorators.py:43: FutureWarning: Pass the following variable as a keyword arg: x. From version 0.12, the only valid positional argument will be `data`, and passing other arguments without an explicit keyword will result in an error or misinterpretation.\n",
      "  FutureWarning\n"
     ]
    },
    {
     "data": {
      "image/png": "[encoded data removed]",
      "text/plain": [
       "<Figure size 432x288 with 1 Axes>"
      ]
     },
     "metadata": {
      "needs_background": "light"
     },
     "output_type": "display_data"
    },
    {
     "name": "stderr",
     "output_type": "stream",
     "text": [
      "/opt/conda/lib/python3.7/site-packages/seaborn/_decorators.py:43: FutureWarning: Pass the following variable as a keyword arg: x. From version 0.12, the only valid positional argument will be `data`, and passing other arguments without an explicit keyword will result in an error or misinterpretation.\n",
      "  FutureWarning\n"
     ]
    },
    {
     "data": {
      "image/png": "[encoded data removed]",
      "text/plain": [
       "<Figure size 432x288 with 1 Axes>"
      ]
     },
     "metadata": {
      "needs_background": "light"
     },
     "output_type": "display_data"
    }
   ],
   "source": [
    "for i in num_cols:\n",
    "    plt.figure()\n",
    "    sns.boxplot(data[i])\n",
    "    plt.title(i)\n",
    "    plt.show()"
   ]
  },
  {
   "cell_type": "code",
   "execution_count": 24,
   "id": "d7be9328",
   "metadata": {
    "execution": {
     "iopub.execute_input": "2022-05-14T13:25:23.996071Z",
     "iopub.status.busy": "2022-05-14T13:25:23.995404Z",
     "iopub.status.idle": "2022-05-14T13:25:24.125291Z",
     "shell.execute_reply": "2022-05-14T13:25:24.126086Z",
     "shell.execute_reply.started": "2022-05-14T13:20:00.767579Z"
    },
    "papermill": {
     "duration": 0.210513,
     "end_time": "2022-05-14T13:25:24.126307",
     "exception": false,
     "start_time": "2022-05-14T13:25:23.915794",
     "status": "completed"
    },
    "tags": []
   },
   "outputs": [
    {
     "data": {
      "text/plain": [
       "<AxesSubplot:>"
      ]
     },
     "execution_count": 24,
     "metadata": {},
     "output_type": "execute_result"
    },
    {
     "data": {
      "image/png": "[encoded data removed]",
      "text/plain": [
       "<Figure size 432x288 with 1 Axes>"
      ]
     },
     "metadata": {
      "needs_background": "light"
     },
     "output_type": "display_data"
    }
   ],
   "source": [
    "data['default'].value_counts(ascending=True).plot(kind='barh')"
   ]
  },
  {
   "cell_type": "code",
   "execution_count": 25,
   "id": "522d38a0",
   "metadata": {
    "execution": {
     "iopub.execute_input": "2022-05-14T13:25:24.291545Z",
     "iopub.status.busy": "2022-05-14T13:25:24.290633Z",
     "iopub.status.idle": "2022-05-14T13:25:24.297987Z",
     "shell.execute_reply": "2022-05-14T13:25:24.298513Z",
     "shell.execute_reply.started": "2022-05-14T13:20:01.022278Z"
    },
    "papermill": {
     "duration": 0.09021,
     "end_time": "2022-05-14T13:25:24.298678",
     "exception": false,
     "start_time": "2022-05-14T13:25:24.208468",
     "status": "completed"
    },
    "tags": []
   },
   "outputs": [
    {
     "data": {
      "text/plain": [
       "0    100776\n",
       "1      9372\n",
       "Name: default, dtype: int64"
      ]
     },
     "execution_count": 25,
     "metadata": {},
     "output_type": "execute_result"
    }
   ],
   "source": [
    "data.default.value_counts()"
   ]
  },
  {
   "cell_type": "markdown",
   "id": "5b795bff",
   "metadata": {
    "papermill": {
     "duration": 0.07758,
     "end_time": "2022-05-14T13:25:24.455590",
     "exception": false,
     "start_time": "2022-05-14T13:25:24.378010",
     "status": "completed"
    },
    "tags": []
   },
   "source": [
    "Целевая переменная несбалансирована - учтем при настройке модели"
   ]
  },
  {
   "cell_type": "code",
   "execution_count": 26,
   "id": "a31d230e",
   "metadata": {
    "execution": {
     "iopub.execute_input": "2022-05-14T13:25:24.613665Z",
     "iopub.status.busy": "2022-05-14T13:25:24.612727Z",
     "iopub.status.idle": "2022-05-14T13:25:24.631978Z",
     "shell.execute_reply": "2022-05-14T13:25:24.632411Z",
     "shell.execute_reply.started": "2022-05-14T13:20:01.033358Z"
    },
    "papermill": {
     "duration": 0.099386,
     "end_time": "2022-05-14T13:25:24.632566",
     "exception": false,
     "start_time": "2022-05-14T13:25:24.533180",
     "status": "completed"
    },
    "tags": []
   },
   "outputs": [],
   "source": [
    "data = data.drop(columns = ['app_date', 'client_id'], axis = 1)"
   ]
  },
  {
   "cell_type": "code",
   "execution_count": 27,
   "id": "dd19a21b",
   "metadata": {
    "execution": {
     "iopub.execute_input": "2022-05-14T13:25:24.743887Z",
     "iopub.status.busy": "2022-05-14T13:25:24.743153Z",
     "iopub.status.idle": "2022-05-14T13:25:25.077358Z",
     "shell.execute_reply": "2022-05-14T13:25:25.076869Z",
     "shell.execute_reply.started": "2022-05-14T13:20:01.071051Z"
    },
    "papermill": {
     "duration": 0.393038,
     "end_time": "2022-05-14T13:25:25.077495",
     "exception": false,
     "start_time": "2022-05-14T13:25:24.684457",
     "status": "completed"
    },
    "tags": []
   },
   "outputs": [],
   "source": [
    "from sklearn import preprocessing\n",
    "le = preprocessing.LabelEncoder()\n",
    "\n",
    "for column in bin_cols:\n",
    "    data[column] = le.fit_transform(data[column])\n",
    "    \n",
    "columns = ['first_time', 'sna', 'work_address', 'home_address', 'region_rating']\n",
    "\n",
    "for column in columns:\n",
    "    data[column] = le.fit_transform(data[column])"
   ]
  },
  {
   "cell_type": "code",
   "execution_count": 28,
   "id": "453898d0",
   "metadata": {
    "execution": {
     "iopub.execute_input": "2022-05-14T13:25:25.198122Z",
     "iopub.status.busy": "2022-05-14T13:25:25.192792Z",
     "iopub.status.idle": "2022-05-14T13:25:25.210378Z",
     "shell.execute_reply": "2022-05-14T13:25:25.210938Z",
     "shell.execute_reply.started": "2022-05-14T13:20:01.271631Z"
    },
    "papermill": {
     "duration": 0.081349,
     "end_time": "2022-05-14T13:25:25.211110",
     "exception": false,
     "start_time": "2022-05-14T13:25:25.129761",
     "status": "completed"
    },
    "tags": []
   },
   "outputs": [],
   "source": [
    "data['education'] = le.fit_transform(data['education'])"
   ]
  },
  {
   "cell_type": "code",
   "execution_count": 29,
   "id": "912b4cae",
   "metadata": {
    "execution": {
     "iopub.execute_input": "2022-05-14T13:25:25.370426Z",
     "iopub.status.busy": "2022-05-14T13:25:25.369768Z",
     "iopub.status.idle": "2022-05-14T13:25:27.671915Z",
     "shell.execute_reply": "2022-05-14T13:25:27.672537Z",
     "shell.execute_reply.started": "2022-05-14T13:20:01.318916Z"
    },
    "papermill": {
     "duration": 2.383241,
     "end_time": "2022-05-14T13:25:27.672718",
     "exception": false,
     "start_time": "2022-05-14T13:25:25.289477",
     "status": "completed"
    },
    "tags": []
   },
   "outputs": [
    {
     "data": {
      "text/plain": [
       "<AxesSubplot:>"
      ]
     },
     "execution_count": 29,
     "metadata": {},
     "output_type": "execute_result"
    },
    {
     "data": {
      "image/png": "[encoded data removed]",
      "text/plain": [
       "<Figure size 864x864 with 2 Axes>"
      ]
     },
     "metadata": {},
     "output_type": "display_data"
    }
   ],
   "source": [
    "sns.set(font_scale=1)\n",
    "plt.subplots(figsize=(12, 12))\n",
    "sns.heatmap(data.corr(), square=True,\n",
    "              annot=True, fmt=\".1f\", linewidths=0.1, cmap=\"RdBu\")"
   ]
  },
  {
   "cell_type": "code",
   "execution_count": 30,
   "id": "f52513a4",
   "metadata": {
    "execution": {
     "iopub.execute_input": "2022-05-14T13:25:27.843218Z",
     "iopub.status.busy": "2022-05-14T13:25:27.842423Z",
     "iopub.status.idle": "2022-05-14T13:25:28.074645Z",
     "shell.execute_reply": "2022-05-14T13:25:28.074010Z",
     "shell.execute_reply.started": "2022-05-14T13:20:04.808320Z"
    },
    "papermill": {
     "duration": 0.318416,
     "end_time": "2022-05-14T13:25:28.074790",
     "exception": false,
     "start_time": "2022-05-14T13:25:27.756374",
     "status": "completed"
    },
    "tags": []
   },
   "outputs": [],
   "source": [
    "import sklearn\n",
    "from sklearn.feature_selection import f_classif, mutual_info_classif"
   ]
  },
  {
   "cell_type": "code",
   "execution_count": 31,
   "id": "9804f5e8",
   "metadata": {
    "execution": {
     "iopub.execute_input": "2022-05-14T13:25:28.247898Z",
     "iopub.status.busy": "2022-05-14T13:25:28.247147Z",
     "iopub.status.idle": "2022-05-14T13:25:28.803988Z",
     "shell.execute_reply": "2022-05-14T13:25:28.804452Z",
     "shell.execute_reply.started": "2022-05-14T13:20:04.814381Z"
    },
    "papermill": {
     "duration": 0.647069,
     "end_time": "2022-05-14T13:25:28.804601",
     "exception": false,
     "start_time": "2022-05-14T13:25:28.157532",
     "status": "completed"
    },
    "tags": []
   },
   "outputs": [
    {
     "data": {
      "text/plain": [
       "<AxesSubplot:>"
      ]
     },
     "execution_count": 31,
     "metadata": {},
     "output_type": "execute_result"
    },
    {
     "data": {
      "image/png": "[encoded data removed]",
      "text/plain": [
       "<Figure size 432x288 with 1 Axes>"
      ]
     },
     "metadata": {},
     "output_type": "display_data"
    }
   ],
   "source": [
    "imp_cat = pd.Series(mutual_info_classif(data[bin_cols + cat_cols], data['default'],\n",
    "                                     discrete_features =True), index = bin_cols + cat_cols)\n",
    "imp_cat.sort_values(inplace = True)\n",
    "imp_cat.plot(kind = 'barh')"
   ]
  },
  {
   "cell_type": "code",
   "execution_count": 32,
   "id": "f4eaa878",
   "metadata": {
    "execution": {
     "iopub.execute_input": "2022-05-14T13:25:28.922879Z",
     "iopub.status.busy": "2022-05-14T13:25:28.922199Z",
     "iopub.status.idle": "2022-05-14T13:25:29.231260Z",
     "shell.execute_reply": "2022-05-14T13:25:29.230693Z",
     "shell.execute_reply.started": "2022-05-14T13:20:05.387443Z"
    },
    "papermill": {
     "duration": 0.368901,
     "end_time": "2022-05-14T13:25:29.231405",
     "exception": false,
     "start_time": "2022-05-14T13:25:28.862504",
     "status": "completed"
    },
    "tags": []
   },
   "outputs": [
    {
     "data": {
      "text/plain": [
       "<AxesSubplot:>"
      ]
     },
     "execution_count": 32,
     "metadata": {},
     "output_type": "execute_result"
    },
    {
     "data": {
      "image/png": "[encoded data removed]",
      "text/plain": [
       "<Figure size 432x288 with 1 Axes>"
      ]
     },
     "metadata": {},
     "output_type": "display_data"
    }
   ],
   "source": [
    "imp_num = pd.Series(f_classif(data[num_cols], data['default'])[0], index = num_cols)\n",
    "imp_num.sort_values(inplace = True)\n",
    "imp_num.plot(kind = 'barh')"
   ]
  },
  {
   "cell_type": "markdown",
   "id": "b46cc5d2",
   "metadata": {
    "papermill": {
     "duration": 0.084811,
     "end_time": "2022-05-14T13:25:29.401259",
     "exception": false,
     "start_time": "2022-05-14T13:25:29.316448",
     "status": "completed"
    },
    "tags": []
   },
   "source": [
    "Итак, кандидаты на исключение: \n",
    "*  'car', 'first_time', 'sex', 'good_work', 'foreign_passport', 'day_of_week', 'month'\n",
    "*  'day_of_month', 'age', 'day_of_year', 'income', 'bki_request_cnt'\n",
    "\n",
    "Но мы не будем ничего удалять. Как показала практика, точность выше со всеми признаками."
   ]
  },
  {
   "cell_type": "code",
   "execution_count": 33,
   "id": "0a1b16c0",
   "metadata": {
    "execution": {
     "iopub.execute_input": "2022-05-14T13:25:29.582855Z",
     "iopub.status.busy": "2022-05-14T13:25:29.582157Z",
     "iopub.status.idle": "2022-05-14T13:25:29.607814Z",
     "shell.execute_reply": "2022-05-14T13:25:29.608477Z",
     "shell.execute_reply.started": "2022-05-14T13:20:05.721245Z"
    },
    "papermill": {
     "duration": 0.120704,
     "end_time": "2022-05-14T13:25:29.608646",
     "exception": false,
     "start_time": "2022-05-14T13:25:29.487942",
     "status": "completed"
    },
    "tags": []
   },
   "outputs": [],
   "source": [
    "# преобразуем категориальные признаки в dummies\n",
    "data = pd.get_dummies(data, columns=cat_cols)"
   ]
  },
  {
   "cell_type": "code",
   "execution_count": 34,
   "id": "ac006ef2",
   "metadata": {
    "execution": {
     "iopub.execute_input": "2022-05-14T13:25:29.784681Z",
     "iopub.status.busy": "2022-05-14T13:25:29.781380Z",
     "iopub.status.idle": "2022-05-14T13:25:29.830266Z",
     "shell.execute_reply": "2022-05-14T13:25:29.829791Z",
     "shell.execute_reply.started": "2022-05-14T13:20:05.763931Z"
    },
    "papermill": {
     "duration": 0.1371,
     "end_time": "2022-05-14T13:25:29.830390",
     "exception": false,
     "start_time": "2022-05-14T13:25:29.693290",
     "status": "completed"
    },
    "tags": []
   },
   "outputs": [],
   "source": [
    "# Теперь выделим тестовую часть\n",
    "train_data = data.query('sample == 1').drop(['sample'], axis=1)\n",
    "test_data = data.query('sample == 0').drop(['sample', 'default'], axis=1)\n",
    "\n",
    "y = train_data['default'].values  # наш таргет\n",
    "X = train_data.drop(['default'], axis=1)"
   ]
  },
  {
   "cell_type": "code",
   "execution_count": 35,
   "id": "9feabd7b",
   "metadata": {
    "execution": {
     "iopub.execute_input": "2022-05-14T13:25:29.954750Z",
     "iopub.status.busy": "2022-05-14T13:25:29.954020Z",
     "iopub.status.idle": "2022-05-14T13:25:29.955977Z",
     "shell.execute_reply": "2022-05-14T13:25:29.956473Z",
     "shell.execute_reply.started": "2022-05-14T13:20:06.047213Z"
    },
    "papermill": {
     "duration": 0.066758,
     "end_time": "2022-05-14T13:25:29.956651",
     "exception": false,
     "start_time": "2022-05-14T13:25:29.889893",
     "status": "completed"
    },
    "tags": []
   },
   "outputs": [],
   "source": [
    "#Стандартизируем наши данные\n",
    "from sklearn.preprocessing import StandardScaler\n",
    "ss = StandardScaler()"
   ]
  },
  {
   "cell_type": "code",
   "execution_count": 36,
   "id": "5eff0119",
   "metadata": {
    "execution": {
     "iopub.execute_input": "2022-05-14T13:25:30.132315Z",
     "iopub.status.busy": "2022-05-14T13:25:30.131390Z",
     "iopub.status.idle": "2022-05-14T13:25:30.183687Z",
     "shell.execute_reply": "2022-05-14T13:25:30.184111Z",
     "shell.execute_reply.started": "2022-05-14T13:20:06.054145Z"
    },
    "papermill": {
     "duration": 0.140626,
     "end_time": "2022-05-14T13:25:30.184247",
     "exception": false,
     "start_time": "2022-05-14T13:25:30.043621",
     "status": "completed"
    },
    "tags": []
   },
   "outputs": [
    {
     "data": {
      "text/plain": [
       "StandardScaler()"
      ]
     },
     "execution_count": 36,
     "metadata": {},
     "output_type": "execute_result"
    }
   ],
   "source": [
    "ss.fit(X, y)"
   ]
  },
  {
   "cell_type": "code",
   "execution_count": 37,
   "id": "8026f979",
   "metadata": {
    "execution": {
     "iopub.execute_input": "2022-05-14T13:25:30.303233Z",
     "iopub.status.busy": "2022-05-14T13:25:30.300710Z",
     "iopub.status.idle": "2022-05-14T13:25:30.322895Z",
     "shell.execute_reply": "2022-05-14T13:25:30.323300Z",
     "shell.execute_reply.started": "2022-05-14T13:20:06.222485Z"
    },
    "papermill": {
     "duration": 0.082269,
     "end_time": "2022-05-14T13:25:30.323434",
     "exception": false,
     "start_time": "2022-05-14T13:25:30.241165",
     "status": "completed"
    },
    "tags": []
   },
   "outputs": [],
   "source": [
    "# Воспользуемся специальной функцие train_test_split для разбивки тестовых данных\n",
    "from sklearn.model_selection import train_test_split\n",
    "\n",
    "# выделим 20% данных на валидацию (параметр test_size)\n",
    "X_train, X_test, y_train, y_test = train_test_split(X, y, test_size=0.2, random_state=42)"
   ]
  },
  {
   "cell_type": "code",
   "execution_count": 38,
   "id": "f73c83d4",
   "metadata": {
    "execution": {
     "iopub.execute_input": "2022-05-14T13:25:30.440654Z",
     "iopub.status.busy": "2022-05-14T13:25:30.438722Z",
     "iopub.status.idle": "2022-05-14T13:25:30.444058Z",
     "shell.execute_reply": "2022-05-14T13:25:30.444621Z",
     "shell.execute_reply.started": "2022-05-14T13:20:06.293529Z"
    },
    "papermill": {
     "duration": 0.065695,
     "end_time": "2022-05-14T13:25:30.444765",
     "exception": false,
     "start_time": "2022-05-14T13:25:30.379070",
     "status": "completed"
    },
    "tags": []
   },
   "outputs": [
    {
     "data": {
      "text/plain": [
       "((59039, 49), (14760, 49), (59039,), (14760,))"
      ]
     },
     "execution_count": 38,
     "metadata": {},
     "output_type": "execute_result"
    }
   ],
   "source": [
    "# проверяем\n",
    "X_train.shape, X_test.shape, y_train.shape, y_test.shape"
   ]
  },
  {
   "cell_type": "code",
   "execution_count": 39,
   "id": "2de57a71",
   "metadata": {
    "execution": {
     "iopub.execute_input": "2022-05-14T13:25:30.617106Z",
     "iopub.status.busy": "2022-05-14T13:25:30.616443Z",
     "iopub.status.idle": "2022-05-14T13:25:30.641909Z",
     "shell.execute_reply": "2022-05-14T13:25:30.641337Z",
     "shell.execute_reply.started": "2022-05-14T13:20:06.302940Z"
    },
    "papermill": {
     "duration": 0.11374,
     "end_time": "2022-05-14T13:25:30.642059",
     "exception": false,
     "start_time": "2022-05-14T13:25:30.528319",
     "status": "completed"
    },
    "tags": []
   },
   "outputs": [],
   "source": [
    "#обрабатываем признаки\n",
    "X_train = ss.transform(X_train)\n",
    "X_test = ss.transform(X_test)"
   ]
  },
  {
   "cell_type": "code",
   "execution_count": 40,
   "id": "e9766441",
   "metadata": {
    "execution": {
     "iopub.execute_input": "2022-05-14T13:25:30.821956Z",
     "iopub.status.busy": "2022-05-14T13:25:30.820975Z",
     "iopub.status.idle": "2022-05-14T13:25:30.823290Z",
     "shell.execute_reply": "2022-05-14T13:25:30.823720Z",
     "shell.execute_reply.started": "2022-05-14T13:20:06.352791Z"
    },
    "papermill": {
     "duration": 0.095314,
     "end_time": "2022-05-14T13:25:30.823911",
     "exception": false,
     "start_time": "2022-05-14T13:25:30.728597",
     "status": "completed"
    },
    "tags": []
   },
   "outputs": [],
   "source": [
    "# Импортируем необходимые библиотеки:\n",
    "from sklearn.linear_model import LogisticRegression # инструмент для создания и обучения модели\n",
    "from sklearn import metrics # инструменты для оценки точности модели"
   ]
  },
  {
   "cell_type": "code",
   "execution_count": 41,
   "id": "69ba4552",
   "metadata": {
    "execution": {
     "iopub.execute_input": "2022-05-14T13:25:30.946024Z",
     "iopub.status.busy": "2022-05-14T13:25:30.945406Z",
     "iopub.status.idle": "2022-05-14T13:25:30.948143Z",
     "shell.execute_reply": "2022-05-14T13:25:30.948635Z",
     "shell.execute_reply.started": "2022-05-14T13:20:06.359355Z"
    },
    "papermill": {
     "duration": 0.065543,
     "end_time": "2022-05-14T13:25:30.948760",
     "exception": false,
     "start_time": "2022-05-14T13:25:30.883217",
     "status": "completed"
    },
    "tags": []
   },
   "outputs": [],
   "source": [
    "from sklearn.metrics import f1_score"
   ]
  },
  {
   "cell_type": "code",
   "execution_count": 42,
   "id": "e6909c10",
   "metadata": {
    "execution": {
     "iopub.execute_input": "2022-05-14T13:25:31.068740Z",
     "iopub.status.busy": "2022-05-14T13:25:31.068195Z",
     "iopub.status.idle": "2022-05-14T13:25:33.599398Z",
     "shell.execute_reply": "2022-05-14T13:25:33.599880Z",
     "shell.execute_reply.started": "2022-05-14T13:23:05.130739Z"
    },
    "papermill": {
     "duration": 2.592987,
     "end_time": "2022-05-14T13:25:33.600058",
     "exception": false,
     "start_time": "2022-05-14T13:25:31.007071",
     "status": "completed"
    },
    "tags": []
   },
   "outputs": [],
   "source": [
    "logreg = LogisticRegression(C=1,solver='sag', max_iter=50, class_weight='balanced', tol=0.001, penalty='none', multi_class='ovr')\n",
    "logreg.fit(X_train, y_train)\n",
    "y_pred = logreg.predict(X_test)"
   ]
  },
  {
   "cell_type": "code",
   "execution_count": 43,
   "id": "c58eb417",
   "metadata": {
    "execution": {
     "iopub.execute_input": "2022-05-14T13:25:33.752589Z",
     "iopub.status.busy": "2022-05-14T13:25:33.752012Z",
     "iopub.status.idle": "2022-05-14T13:25:33.783085Z",
     "shell.execute_reply": "2022-05-14T13:25:33.782482Z",
     "shell.execute_reply.started": "2022-05-14T13:23:12.185209Z"
    },
    "papermill": {
     "duration": 0.10414,
     "end_time": "2022-05-14T13:25:33.783223",
     "exception": false,
     "start_time": "2022-05-14T13:25:33.679083",
     "status": "completed"
    },
    "tags": []
   },
   "outputs": [
    {
     "name": "stdout",
     "output_type": "stream",
     "text": [
      "              precision    recall  f1-score   support\n",
      "\n",
      "           0       0.94      0.67      0.78     12933\n",
      "           1       0.22      0.68      0.34      1827\n",
      "\n",
      "    accuracy                           0.67     14760\n",
      "   macro avg       0.58      0.67      0.56     14760\n",
      "weighted avg       0.85      0.67      0.72     14760\n",
      "\n"
     ]
    }
   ],
   "source": [
    "f1 = f1_score(y_test, y_pred)\n",
    "\n",
    "from sklearn.metrics import classification_report\n",
    "classification_report = classification_report(y_test, y_pred)\n",
    "print(classification_report)"
   ]
  },
  {
   "cell_type": "code",
   "execution_count": 44,
   "id": "580f04f8",
   "metadata": {
    "execution": {
     "iopub.execute_input": "2022-05-14T13:25:33.960977Z",
     "iopub.status.busy": "2022-05-14T13:25:33.959135Z",
     "iopub.status.idle": "2022-05-14T13:25:33.964531Z",
     "shell.execute_reply": "2022-05-14T13:25:33.964004Z",
     "shell.execute_reply.started": "2022-05-14T13:20:08.677282Z"
    },
    "papermill": {
     "duration": 0.093398,
     "end_time": "2022-05-14T13:25:33.964672",
     "exception": false,
     "start_time": "2022-05-14T13:25:33.871274",
     "status": "completed"
    },
    "tags": []
   },
   "outputs": [],
   "source": [
    "from sklearn.model_selection import GridSearchCV"
   ]
  },
  {
   "cell_type": "code",
   "execution_count": 45,
   "id": "63b30fac",
   "metadata": {
    "execution": {
     "iopub.execute_input": "2022-05-14T13:25:34.142682Z",
     "iopub.status.busy": "2022-05-14T13:25:34.141964Z",
     "iopub.status.idle": "2022-05-14T13:26:38.719393Z",
     "shell.execute_reply": "2022-05-14T13:26:38.720054Z",
     "shell.execute_reply.started": "2022-05-14T13:20:08.692953Z"
    },
    "papermill": {
     "duration": 64.671005,
     "end_time": "2022-05-14T13:26:38.720253",
     "exception": false,
     "start_time": "2022-05-14T13:25:34.049248",
     "status": "completed"
    },
    "tags": []
   },
   "outputs": [
    {
     "name": "stderr",
     "output_type": "stream",
     "text": [
      "/opt/conda/lib/python3.7/site-packages/sklearn/model_selection/_validation.py:552: FitFailedWarning: Estimator fit failed. The score on this train-test partition for these parameters will be set to nan. Details: \n",
      "Traceback (most recent call last):\n",
      "  File \"/opt/conda/lib/python3.7/site-packages/sklearn/model_selection/_validation.py\", line 531, in _fit_and_score\n",
      "    estimator.fit(X_train, y_train, **fit_params)\n",
      "  File \"/opt/conda/lib/python3.7/site-packages/sklearn/linear_model/_logistic.py\", line 1360, in fit\n",
      "    sample_weight=sample_weight)\n",
      "  File \"/opt/conda/lib/python3.7/site-packages/sklearn/svm/_base.py\", line 931, in _fit_liblinear\n",
      "    y=y)\n",
      "  File \"/opt/conda/lib/python3.7/site-packages/sklearn/utils/validation.py\", line 72, in inner_f\n",
      "    return f(**kwargs)\n",
      "  File \"/opt/conda/lib/python3.7/site-packages/sklearn/utils/class_weight.py\", line 64, in compute_class_weight\n",
      "    \" got: %r\" % class_weight)\n",
      "ValueError: class_weight must be dict, 'balanced', or None, got: 'none'\n",
      "\n",
      "  FitFailedWarning)\n",
      "/opt/conda/lib/python3.7/site-packages/sklearn/model_selection/_validation.py:552: FitFailedWarning: Estimator fit failed. The score on this train-test partition for these parameters will be set to nan. Details: \n",
      "Traceback (most recent call last):\n",
      "  File \"/opt/conda/lib/python3.7/site-packages/sklearn/model_selection/_validation.py\", line 531, in _fit_and_score\n",
      "    estimator.fit(X_train, y_train, **fit_params)\n",
      "  File \"/opt/conda/lib/python3.7/site-packages/sklearn/linear_model/_logistic.py\", line 1360, in fit\n",
      "    sample_weight=sample_weight)\n",
      "  File \"/opt/conda/lib/python3.7/site-packages/sklearn/svm/_base.py\", line 931, in _fit_liblinear\n",
      "    y=y)\n",
      "  File \"/opt/conda/lib/python3.7/site-packages/sklearn/utils/validation.py\", line 72, in inner_f\n",
      "    return f(**kwargs)\n",
      "  File \"/opt/conda/lib/python3.7/site-packages/sklearn/utils/class_weight.py\", line 64, in compute_class_weight\n",
      "    \" got: %r\" % class_weight)\n",
      "ValueError: class_weight must be dict, 'balanced', or None, got: 'none'\n",
      "\n",
      "  FitFailedWarning)\n",
      "/opt/conda/lib/python3.7/site-packages/sklearn/model_selection/_validation.py:552: FitFailedWarning: Estimator fit failed. The score on this train-test partition for these parameters will be set to nan. Details: \n",
      "Traceback (most recent call last):\n",
      "  File \"/opt/conda/lib/python3.7/site-packages/sklearn/model_selection/_validation.py\", line 531, in _fit_and_score\n",
      "    estimator.fit(X_train, y_train, **fit_params)\n",
      "  File \"/opt/conda/lib/python3.7/site-packages/sklearn/linear_model/_logistic.py\", line 1304, in fit\n",
      "    solver = _check_solver(self.solver, self.penalty, self.dual)\n",
      "  File \"/opt/conda/lib/python3.7/site-packages/sklearn/linear_model/_logistic.py\", line 443, in _check_solver\n",
      "    \"got %s penalty.\" % (solver, penalty))\n",
      "ValueError: Solver lbfgs supports only 'l2' or 'none' penalties, got l1 penalty.\n",
      "\n",
      "  FitFailedWarning)\n",
      "/opt/conda/lib/python3.7/site-packages/sklearn/model_selection/_validation.py:552: FitFailedWarning: Estimator fit failed. The score on this train-test partition for these parameters will be set to nan. Details: \n",
      "Traceback (most recent call last):\n",
      "  File \"/opt/conda/lib/python3.7/site-packages/sklearn/model_selection/_validation.py\", line 531, in _fit_and_score\n",
      "    estimator.fit(X_train, y_train, **fit_params)\n",
      "  File \"/opt/conda/lib/python3.7/site-packages/sklearn/linear_model/_logistic.py\", line 1360, in fit\n",
      "    sample_weight=sample_weight)\n",
      "  File \"/opt/conda/lib/python3.7/site-packages/sklearn/svm/_base.py\", line 931, in _fit_liblinear\n",
      "    y=y)\n",
      "  File \"/opt/conda/lib/python3.7/site-packages/sklearn/utils/validation.py\", line 72, in inner_f\n",
      "    return f(**kwargs)\n",
      "  File \"/opt/conda/lib/python3.7/site-packages/sklearn/utils/class_weight.py\", line 64, in compute_class_weight\n",
      "    \" got: %r\" % class_weight)\n",
      "ValueError: class_weight must be dict, 'balanced', or None, got: 'none'\n",
      "\n",
      "  FitFailedWarning)\n",
      "/opt/conda/lib/python3.7/site-packages/sklearn/model_selection/_validation.py:552: FitFailedWarning: Estimator fit failed. The score on this train-test partition for these parameters will be set to nan. Details: \n",
      "Traceback (most recent call last):\n",
      "  File \"/opt/conda/lib/python3.7/site-packages/sklearn/model_selection/_validation.py\", line 531, in _fit_and_score\n",
      "    estimator.fit(X_train, y_train, **fit_params)\n",
      "  File \"/opt/conda/lib/python3.7/site-packages/sklearn/linear_model/_logistic.py\", line 1360, in fit\n",
      "    sample_weight=sample_weight)\n",
      "  File \"/opt/conda/lib/python3.7/site-packages/sklearn/svm/_base.py\", line 931, in _fit_liblinear\n",
      "    y=y)\n",
      "  File \"/opt/conda/lib/python3.7/site-packages/sklearn/utils/validation.py\", line 72, in inner_f\n",
      "    return f(**kwargs)\n",
      "  File \"/opt/conda/lib/python3.7/site-packages/sklearn/utils/class_weight.py\", line 64, in compute_class_weight\n",
      "    \" got: %r\" % class_weight)\n",
      "ValueError: class_weight must be dict, 'balanced', or None, got: 'none'\n",
      "\n",
      "  FitFailedWarning)\n",
      "/opt/conda/lib/python3.7/site-packages/sklearn/model_selection/_validation.py:552: FitFailedWarning: Estimator fit failed. The score on this train-test partition for these parameters will be set to nan. Details: \n",
      "Traceback (most recent call last):\n",
      "  File \"/opt/conda/lib/python3.7/site-packages/sklearn/model_selection/_validation.py\", line 531, in _fit_and_score\n",
      "    estimator.fit(X_train, y_train, **fit_params)\n",
      "  File \"/opt/conda/lib/python3.7/site-packages/sklearn/linear_model/_logistic.py\", line 1360, in fit\n",
      "    sample_weight=sample_weight)\n",
      "  File \"/opt/conda/lib/python3.7/site-packages/sklearn/svm/_base.py\", line 931, in _fit_liblinear\n",
      "    y=y)\n",
      "  File \"/opt/conda/lib/python3.7/site-packages/sklearn/utils/validation.py\", line 72, in inner_f\n",
      "    return f(**kwargs)\n",
      "  File \"/opt/conda/lib/python3.7/site-packages/sklearn/utils/class_weight.py\", line 64, in compute_class_weight\n",
      "    \" got: %r\" % class_weight)\n",
      "ValueError: class_weight must be dict, 'balanced', or None, got: 'none'\n",
      "\n",
      "  FitFailedWarning)\n",
      "/opt/conda/lib/python3.7/site-packages/sklearn/model_selection/_validation.py:552: FitFailedWarning: Estimator fit failed. The score on this train-test partition for these parameters will be set to nan. Details: \n",
      "Traceback (most recent call last):\n",
      "  File \"/opt/conda/lib/python3.7/site-packages/sklearn/model_selection/_validation.py\", line 531, in _fit_and_score\n",
      "    estimator.fit(X_train, y_train, **fit_params)\n",
      "  File \"/opt/conda/lib/python3.7/site-packages/sklearn/linear_model/_logistic.py\", line 1360, in fit\n",
      "    sample_weight=sample_weight)\n",
      "  File \"/opt/conda/lib/python3.7/site-packages/sklearn/svm/_base.py\", line 931, in _fit_liblinear\n",
      "    y=y)\n",
      "  File \"/opt/conda/lib/python3.7/site-packages/sklearn/utils/validation.py\", line 72, in inner_f\n",
      "    return f(**kwargs)\n",
      "  File \"/opt/conda/lib/python3.7/site-packages/sklearn/utils/class_weight.py\", line 64, in compute_class_weight\n",
      "    \" got: %r\" % class_weight)\n",
      "ValueError: class_weight must be dict, 'balanced', or None, got: 'none'\n",
      "\n",
      "  FitFailedWarning)\n",
      "/opt/conda/lib/python3.7/site-packages/sklearn/model_selection/_validation.py:552: FitFailedWarning: Estimator fit failed. The score on this train-test partition for these parameters will be set to nan. Details: \n",
      "Traceback (most recent call last):\n",
      "  File \"/opt/conda/lib/python3.7/site-packages/sklearn/model_selection/_validation.py\", line 531, in _fit_and_score\n",
      "    estimator.fit(X_train, y_train, **fit_params)\n",
      "  File \"/opt/conda/lib/python3.7/site-packages/sklearn/linear_model/_logistic.py\", line 1360, in fit\n",
      "    sample_weight=sample_weight)\n",
      "  File \"/opt/conda/lib/python3.7/site-packages/sklearn/svm/_base.py\", line 931, in _fit_liblinear\n",
      "    y=y)\n",
      "  File \"/opt/conda/lib/python3.7/site-packages/sklearn/utils/validation.py\", line 72, in inner_f\n",
      "    return f(**kwargs)\n",
      "  File \"/opt/conda/lib/python3.7/site-packages/sklearn/utils/class_weight.py\", line 64, in compute_class_weight\n",
      "    \" got: %r\" % class_weight)\n",
      "ValueError: class_weight must be dict, 'balanced', or None, got: 'none'\n",
      "\n",
      "  FitFailedWarning)\n",
      "/opt/conda/lib/python3.7/site-packages/sklearn/model_selection/_validation.py:552: FitFailedWarning: Estimator fit failed. The score on this train-test partition for these parameters will be set to nan. Details: \n",
      "Traceback (most recent call last):\n",
      "  File \"/opt/conda/lib/python3.7/site-packages/sklearn/model_selection/_validation.py\", line 531, in _fit_and_score\n",
      "    estimator.fit(X_train, y_train, **fit_params)\n",
      "  File \"/opt/conda/lib/python3.7/site-packages/sklearn/linear_model/_logistic.py\", line 1304, in fit\n",
      "    solver = _check_solver(self.solver, self.penalty, self.dual)\n",
      "  File \"/opt/conda/lib/python3.7/site-packages/sklearn/linear_model/_logistic.py\", line 443, in _check_solver\n",
      "    \"got %s penalty.\" % (solver, penalty))\n",
      "ValueError: Solver lbfgs supports only 'l2' or 'none' penalties, got l1 penalty.\n",
      "\n",
      "  FitFailedWarning)\n",
      "/opt/conda/lib/python3.7/site-packages/sklearn/model_selection/_validation.py:552: FitFailedWarning: Estimator fit failed. The score on this train-test partition for these parameters will be set to nan. Details: \n",
      "Traceback (most recent call last):\n",
      "  File \"/opt/conda/lib/python3.7/site-packages/sklearn/model_selection/_validation.py\", line 531, in _fit_and_score\n",
      "    estimator.fit(X_train, y_train, **fit_params)\n",
      "  File \"/opt/conda/lib/python3.7/site-packages/sklearn/linear_model/_logistic.py\", line 1360, in fit\n",
      "    sample_weight=sample_weight)\n",
      "  File \"/opt/conda/lib/python3.7/site-packages/sklearn/svm/_base.py\", line 931, in _fit_liblinear\n",
      "    y=y)\n",
      "  File \"/opt/conda/lib/python3.7/site-packages/sklearn/utils/validation.py\", line 72, in inner_f\n",
      "    return f(**kwargs)\n",
      "  File \"/opt/conda/lib/python3.7/site-packages/sklearn/utils/class_weight.py\", line 64, in compute_class_weight\n",
      "    \" got: %r\" % class_weight)\n",
      "ValueError: class_weight must be dict, 'balanced', or None, got: 'none'\n",
      "\n",
      "  FitFailedWarning)\n",
      "/opt/conda/lib/python3.7/site-packages/sklearn/model_selection/_validation.py:552: FitFailedWarning: Estimator fit failed. The score on this train-test partition for these parameters will be set to nan. Details: \n",
      "Traceback (most recent call last):\n",
      "  File \"/opt/conda/lib/python3.7/site-packages/sklearn/model_selection/_validation.py\", line 531, in _fit_and_score\n",
      "    estimator.fit(X_train, y_train, **fit_params)\n",
      "  File \"/opt/conda/lib/python3.7/site-packages/sklearn/linear_model/_logistic.py\", line 1304, in fit\n",
      "    solver = _check_solver(self.solver, self.penalty, self.dual)\n",
      "  File \"/opt/conda/lib/python3.7/site-packages/sklearn/linear_model/_logistic.py\", line 443, in _check_solver\n",
      "    \"got %s penalty.\" % (solver, penalty))\n",
      "ValueError: Solver lbfgs supports only 'l2' or 'none' penalties, got l1 penalty.\n",
      "\n",
      "  FitFailedWarning)\n",
      "/opt/conda/lib/python3.7/site-packages/sklearn/model_selection/_validation.py:552: FitFailedWarning: Estimator fit failed. The score on this train-test partition for these parameters will be set to nan. Details: \n",
      "Traceback (most recent call last):\n",
      "  File \"/opt/conda/lib/python3.7/site-packages/sklearn/model_selection/_validation.py\", line 531, in _fit_and_score\n",
      "    estimator.fit(X_train, y_train, **fit_params)\n",
      "  File \"/opt/conda/lib/python3.7/site-packages/sklearn/linear_model/_logistic.py\", line 1304, in fit\n",
      "    solver = _check_solver(self.solver, self.penalty, self.dual)\n",
      "  File \"/opt/conda/lib/python3.7/site-packages/sklearn/linear_model/_logistic.py\", line 443, in _check_solver\n",
      "    \"got %s penalty.\" % (solver, penalty))\n",
      "ValueError: Solver lbfgs supports only 'l2' or 'none' penalties, got l1 penalty.\n",
      "\n",
      "  FitFailedWarning)\n",
      "/opt/conda/lib/python3.7/site-packages/sklearn/model_selection/_validation.py:552: FitFailedWarning: Estimator fit failed. The score on this train-test partition for these parameters will be set to nan. Details: \n",
      "Traceback (most recent call last):\n",
      "  File \"/opt/conda/lib/python3.7/site-packages/sklearn/model_selection/_validation.py\", line 531, in _fit_and_score\n",
      "    estimator.fit(X_train, y_train, **fit_params)\n",
      "  File \"/opt/conda/lib/python3.7/site-packages/sklearn/linear_model/_logistic.py\", line 1304, in fit\n",
      "    solver = _check_solver(self.solver, self.penalty, self.dual)\n",
      "  File \"/opt/conda/lib/python3.7/site-packages/sklearn/linear_model/_logistic.py\", line 443, in _check_solver\n",
      "    \"got %s penalty.\" % (solver, penalty))\n",
      "ValueError: Solver lbfgs supports only 'l2' or 'none' penalties, got l1 penalty.\n",
      "\n",
      "  FitFailedWarning)\n",
      "/opt/conda/lib/python3.7/site-packages/sklearn/model_selection/_validation.py:552: FitFailedWarning: Estimator fit failed. The score on this train-test partition for these parameters will be set to nan. Details: \n",
      "Traceback (most recent call last):\n",
      "  File \"/opt/conda/lib/python3.7/site-packages/sklearn/model_selection/_validation.py\", line 531, in _fit_and_score\n",
      "    estimator.fit(X_train, y_train, **fit_params)\n",
      "  File \"/opt/conda/lib/python3.7/site-packages/sklearn/linear_model/_logistic.py\", line 1360, in fit\n",
      "    sample_weight=sample_weight)\n",
      "  File \"/opt/conda/lib/python3.7/site-packages/sklearn/svm/_base.py\", line 931, in _fit_liblinear\n",
      "    y=y)\n",
      "  File \"/opt/conda/lib/python3.7/site-packages/sklearn/utils/validation.py\", line 72, in inner_f\n",
      "    return f(**kwargs)\n",
      "  File \"/opt/conda/lib/python3.7/site-packages/sklearn/utils/class_weight.py\", line 64, in compute_class_weight\n",
      "    \" got: %r\" % class_weight)\n",
      "ValueError: class_weight must be dict, 'balanced', or None, got: 'none'\n",
      "\n",
      "  FitFailedWarning)\n",
      "/opt/conda/lib/python3.7/site-packages/sklearn/model_selection/_validation.py:552: FitFailedWarning: Estimator fit failed. The score on this train-test partition for these parameters will be set to nan. Details: \n",
      "Traceback (most recent call last):\n",
      "  File \"/opt/conda/lib/python3.7/site-packages/sklearn/model_selection/_validation.py\", line 531, in _fit_and_score\n",
      "    estimator.fit(X_train, y_train, **fit_params)\n",
      "  File \"/opt/conda/lib/python3.7/site-packages/sklearn/linear_model/_logistic.py\", line 1360, in fit\n",
      "    sample_weight=sample_weight)\n",
      "  File \"/opt/conda/lib/python3.7/site-packages/sklearn/svm/_base.py\", line 931, in _fit_liblinear\n",
      "    y=y)\n",
      "  File \"/opt/conda/lib/python3.7/site-packages/sklearn/utils/validation.py\", line 72, in inner_f\n",
      "    return f(**kwargs)\n",
      "  File \"/opt/conda/lib/python3.7/site-packages/sklearn/utils/class_weight.py\", line 64, in compute_class_weight\n",
      "    \" got: %r\" % class_weight)\n",
      "ValueError: class_weight must be dict, 'balanced', or None, got: 'none'\n",
      "\n",
      "  FitFailedWarning)\n",
      "/opt/conda/lib/python3.7/site-packages/sklearn/model_selection/_validation.py:552: FitFailedWarning: Estimator fit failed. The score on this train-test partition for these parameters will be set to nan. Details: \n",
      "Traceback (most recent call last):\n",
      "  File \"/opt/conda/lib/python3.7/site-packages/sklearn/model_selection/_validation.py\", line 531, in _fit_and_score\n",
      "    estimator.fit(X_train, y_train, **fit_params)\n",
      "  File \"/opt/conda/lib/python3.7/site-packages/sklearn/linear_model/_logistic.py\", line 1360, in fit\n",
      "    sample_weight=sample_weight)\n",
      "  File \"/opt/conda/lib/python3.7/site-packages/sklearn/svm/_base.py\", line 931, in _fit_liblinear\n",
      "    y=y)\n",
      "  File \"/opt/conda/lib/python3.7/site-packages/sklearn/utils/validation.py\", line 72, in inner_f\n",
      "    return f(**kwargs)\n",
      "  File \"/opt/conda/lib/python3.7/site-packages/sklearn/utils/class_weight.py\", line 64, in compute_class_weight\n",
      "    \" got: %r\" % class_weight)\n",
      "ValueError: class_weight must be dict, 'balanced', or None, got: 'none'\n",
      "\n",
      "  FitFailedWarning)\n",
      "/opt/conda/lib/python3.7/site-packages/sklearn/model_selection/_validation.py:552: FitFailedWarning: Estimator fit failed. The score on this train-test partition for these parameters will be set to nan. Details: \n",
      "Traceback (most recent call last):\n",
      "  File \"/opt/conda/lib/python3.7/site-packages/sklearn/model_selection/_validation.py\", line 531, in _fit_and_score\n",
      "    estimator.fit(X_train, y_train, **fit_params)\n",
      "  File \"/opt/conda/lib/python3.7/site-packages/sklearn/linear_model/_logistic.py\", line 1360, in fit\n",
      "    sample_weight=sample_weight)\n",
      "  File \"/opt/conda/lib/python3.7/site-packages/sklearn/svm/_base.py\", line 931, in _fit_liblinear\n",
      "    y=y)\n",
      "  File \"/opt/conda/lib/python3.7/site-packages/sklearn/utils/validation.py\", line 72, in inner_f\n",
      "    return f(**kwargs)\n",
      "  File \"/opt/conda/lib/python3.7/site-packages/sklearn/utils/class_weight.py\", line 64, in compute_class_weight\n",
      "    \" got: %r\" % class_weight)\n",
      "ValueError: class_weight must be dict, 'balanced', or None, got: 'none'\n",
      "\n",
      "  FitFailedWarning)\n",
      "/opt/conda/lib/python3.7/site-packages/sklearn/model_selection/_validation.py:552: FitFailedWarning: Estimator fit failed. The score on this train-test partition for these parameters will be set to nan. Details: \n",
      "Traceback (most recent call last):\n",
      "  File \"/opt/conda/lib/python3.7/site-packages/sklearn/model_selection/_validation.py\", line 531, in _fit_and_score\n",
      "    estimator.fit(X_train, y_train, **fit_params)\n",
      "  File \"/opt/conda/lib/python3.7/site-packages/sklearn/linear_model/_logistic.py\", line 1360, in fit\n",
      "    sample_weight=sample_weight)\n",
      "  File \"/opt/conda/lib/python3.7/site-packages/sklearn/svm/_base.py\", line 931, in _fit_liblinear\n",
      "    y=y)\n",
      "  File \"/opt/conda/lib/python3.7/site-packages/sklearn/utils/validation.py\", line 72, in inner_f\n",
      "    return f(**kwargs)\n",
      "  File \"/opt/conda/lib/python3.7/site-packages/sklearn/utils/class_weight.py\", line 64, in compute_class_weight\n",
      "    \" got: %r\" % class_weight)\n",
      "ValueError: class_weight must be dict, 'balanced', or None, got: 'none'\n",
      "\n",
      "  FitFailedWarning)\n"
     ]
    },
    {
     "name": "stdout",
     "output_type": "stream",
     "text": [
      "\tC: 1.0\n",
      "\tclass_weight: 'balanced'\n",
      "\tdual: False\n",
      "\tfit_intercept: True\n",
      "\tintercept_scaling: 1\n",
      "\tl1_ratio: None\n",
      "\tmax_iter: 50\n",
      "\tmulti_class: 'ovr'\n",
      "\tn_jobs: None\n",
      "\tpenalty: 'l1'\n",
      "\trandom_state: None\n",
      "\tsolver: 'liblinear'\n",
      "\ttol: 0.001\n",
      "\tverbose: 0\n",
      "\twarm_start: False\n"
     ]
    }
   ],
   "source": [
    "# запускаем GridSearch на небольшом кол-ве итераций max_iter=50 и с достаточно большой дельтой останова tol1e-3\n",
    "# чтобы получить оптимальные параметры модели в первом приближении\n",
    "model = LogisticRegression()\n",
    "\n",
    "iter_ = 50\n",
    "epsilon_stop = 1e-3\n",
    "\n",
    "param_grid = [\n",
    "    {'penalty': ['l1'], \n",
    "     'solver': ['liblinear', 'lbfgs'], \n",
    "     'class_weight':['none', 'balanced'], \n",
    "     'multi_class': ['auto','ovr'], \n",
    "     'max_iter':[iter_],\n",
    "     'tol':[epsilon_stop]},\n",
    "    {'penalty': ['l2'], \n",
    "     'solver': ['newton-cg', 'lbfgs', 'liblinear', 'sag', 'saga'], \n",
    "     'class_weight':['none', 'balanced'], \n",
    "     'multi_class': ['auto','ovr'], \n",
    "     'max_iter':[iter_],\n",
    "     'tol':[epsilon_stop]},\n",
    "    {'penalty': ['None'], \n",
    "     'solver': ['newton-cg', 'lbfgs', 'sag', 'saga'], \n",
    "     'class_weight':['none', 'balanced'], \n",
    "     'multi_class': ['auto','ovr'], \n",
    "     'max_iter':[iter_],\n",
    "     'tol':[epsilon_stop]},\n",
    "]\n",
    "\n",
    "## model ваша модель логистической регрессии\n",
    "gridsearch = GridSearchCV(model, param_grid, scoring='f1', n_jobs=-1, cv=5)\n",
    "gridsearch.fit(X_train, y_train)\n",
    "model = gridsearch.best_estimator_\n",
    "\n",
    "##печатаем параметры\n",
    "best_parameters = model.get_params()\n",
    "for param_name in sorted(best_parameters.keys()):\n",
    "        print('\\t%s: %r' % (param_name, best_parameters[param_name]))"
   ]
  },
  {
   "cell_type": "code",
   "execution_count": 46,
   "id": "71664362",
   "metadata": {
    "execution": {
     "iopub.execute_input": "2022-05-14T13:26:38.904170Z",
     "iopub.status.busy": "2022-05-14T13:26:38.903232Z",
     "iopub.status.idle": "2022-05-14T13:26:50.152356Z",
     "shell.execute_reply": "2022-05-14T13:26:50.151380Z",
     "shell.execute_reply.started": "2022-05-14T13:23:47.093894Z"
    },
    "papermill": {
     "duration": 11.345134,
     "end_time": "2022-05-14T13:26:50.152491",
     "exception": false,
     "start_time": "2022-05-14T13:26:38.807357",
     "status": "completed"
    },
    "tags": []
   },
   "outputs": [
    {
     "data": {
      "text/plain": [
       "LogisticRegression(C=1, class_weight='balanced', max_iter=1000,\n",
       "                   multi_class='ovr', penalty='none', solver='sag', tol=0.001)"
      ]
     },
     "execution_count": 46,
     "metadata": {},
     "output_type": "execute_result"
    }
   ],
   "source": [
    "# если качество нас устраивает, обучаем финальную модель на всех обучающи данных\n",
    "logreg_final = LogisticRegression(C=1,solver='sag', max_iter=1000, class_weight='balanced', tol=0.001, penalty='none', multi_class='ovr')\n",
    "logreg_final.fit(X, y)"
   ]
  },
  {
   "cell_type": "code",
   "execution_count": 47,
   "id": "955fb0f1",
   "metadata": {
    "execution": {
     "iopub.execute_input": "2022-05-14T13:26:50.337448Z",
     "iopub.status.busy": "2022-05-14T13:26:50.336788Z",
     "iopub.status.idle": "2022-05-14T13:26:50.344031Z",
     "shell.execute_reply": "2022-05-14T13:26:50.345095Z",
     "shell.execute_reply.started": "2022-05-14T13:24:05.142472Z"
    },
    "papermill": {
     "duration": 0.105432,
     "end_time": "2022-05-14T13:26:50.345298",
     "exception": false,
     "start_time": "2022-05-14T13:26:50.239866",
     "status": "completed"
    },
    "tags": []
   },
   "outputs": [],
   "source": [
    "predict_submission = logreg_final.predict(test_data)"
   ]
  },
  {
   "cell_type": "code",
   "execution_count": 48,
   "id": "421cbd79",
   "metadata": {
    "execution": {
     "iopub.execute_input": "2022-05-14T13:26:50.557450Z",
     "iopub.status.busy": "2022-05-14T13:26:50.556715Z",
     "iopub.status.idle": "2022-05-14T13:26:50.632900Z",
     "shell.execute_reply": "2022-05-14T13:26:50.633326Z",
     "shell.execute_reply.started": "2022-05-14T13:24:08.673589Z"
    },
    "papermill": {
     "duration": 0.172854,
     "end_time": "2022-05-14T13:26:50.633478",
     "exception": false,
     "start_time": "2022-05-14T13:26:50.460624",
     "status": "completed"
    },
    "tags": []
   },
   "outputs": [
    {
     "data": {
      "text/html": [
       "<div>\n",
       "<style scoped>\n",
       "    .dataframe tbody tr th:only-of-type {\n",
       "        vertical-align: middle;\n",
       "    }\n",
       "\n",
       "    .dataframe tbody tr th {\n",
       "        vertical-align: top;\n",
       "    }\n",
       "\n",
       "    .dataframe thead th {\n",
       "        text-align: right;\n",
       "    }\n",
       "</style>\n",
       "<table border=\"1\" class=\"dataframe\">\n",
       "  <thead>\n",
       "    <tr style=\"text-align: right;\">\n",
       "      <th></th>\n",
       "      <th>client_id</th>\n",
       "      <th>default</th>\n",
       "    </tr>\n",
       "  </thead>\n",
       "  <tbody>\n",
       "    <tr>\n",
       "      <th>0</th>\n",
       "      <td>74835</td>\n",
       "      <td>0</td>\n",
       "    </tr>\n",
       "    <tr>\n",
       "      <th>1</th>\n",
       "      <td>17527</td>\n",
       "      <td>1</td>\n",
       "    </tr>\n",
       "    <tr>\n",
       "      <th>2</th>\n",
       "      <td>75683</td>\n",
       "      <td>0</td>\n",
       "    </tr>\n",
       "    <tr>\n",
       "      <th>3</th>\n",
       "      <td>26883</td>\n",
       "      <td>0</td>\n",
       "    </tr>\n",
       "    <tr>\n",
       "      <th>4</th>\n",
       "      <td>28862</td>\n",
       "      <td>0</td>\n",
       "    </tr>\n",
       "    <tr>\n",
       "      <th>5</th>\n",
       "      <td>99881</td>\n",
       "      <td>1</td>\n",
       "    </tr>\n",
       "    <tr>\n",
       "      <th>6</th>\n",
       "      <td>26630</td>\n",
       "      <td>1</td>\n",
       "    </tr>\n",
       "    <tr>\n",
       "      <th>7</th>\n",
       "      <td>79934</td>\n",
       "      <td>0</td>\n",
       "    </tr>\n",
       "    <tr>\n",
       "      <th>8</th>\n",
       "      <td>16605</td>\n",
       "      <td>0</td>\n",
       "    </tr>\n",
       "    <tr>\n",
       "      <th>9</th>\n",
       "      <td>105449</td>\n",
       "      <td>0</td>\n",
       "    </tr>\n",
       "  </tbody>\n",
       "</table>\n",
       "</div>"
      ],
      "text/plain": [
       "   client_id  default\n",
       "0      74835        0\n",
       "1      17527        1\n",
       "2      75683        0\n",
       "3      26883        0\n",
       "4      28862        0\n",
       "5      99881        1\n",
       "6      26630        1\n",
       "7      79934        0\n",
       "8      16605        0\n",
       "9     105449        0"
      ]
     },
     "execution_count": 48,
     "metadata": {},
     "output_type": "execute_result"
    }
   ],
   "source": [
    "sample_submission['default'] = predict_submission\n",
    "sample_submission.to_csv('submission.csv', index=False)\n",
    "sample_submission.head(10)"
   ]
  },
  {
   "cell_type": "code",
   "execution_count": 49,
   "id": "42eb80f1",
   "metadata": {
    "execution": {
     "iopub.execute_input": "2022-05-14T13:26:50.763768Z",
     "iopub.status.busy": "2022-05-14T13:26:50.763267Z",
     "iopub.status.idle": "2022-05-14T13:26:50.778187Z",
     "shell.execute_reply": "2022-05-14T13:26:50.777702Z",
     "shell.execute_reply.started": "2022-05-14T13:24:21.061919Z"
    },
    "papermill": {
     "duration": 0.083266,
     "end_time": "2022-05-14T13:26:50.778324",
     "exception": false,
     "start_time": "2022-05-14T13:26:50.695058",
     "status": "completed"
    },
    "tags": []
   },
   "outputs": [
    {
     "data": {
      "text/html": [
       "<div>\n",
       "<style scoped>\n",
       "    .dataframe tbody tr th:only-of-type {\n",
       "        vertical-align: middle;\n",
       "    }\n",
       "\n",
       "    .dataframe tbody tr th {\n",
       "        vertical-align: top;\n",
       "    }\n",
       "\n",
       "    .dataframe thead th {\n",
       "        text-align: right;\n",
       "    }\n",
       "</style>\n",
       "<table border=\"1\" class=\"dataframe\">\n",
       "  <thead>\n",
       "    <tr style=\"text-align: right;\">\n",
       "      <th></th>\n",
       "      <th>client_id</th>\n",
       "      <th>default</th>\n",
       "    </tr>\n",
       "  </thead>\n",
       "  <tbody>\n",
       "    <tr>\n",
       "      <th>count</th>\n",
       "      <td>36349.000000</td>\n",
       "      <td>36349.000000</td>\n",
       "    </tr>\n",
       "    <tr>\n",
       "      <th>mean</th>\n",
       "      <td>54945.647473</td>\n",
       "      <td>0.376737</td>\n",
       "    </tr>\n",
       "    <tr>\n",
       "      <th>std</th>\n",
       "      <td>31706.052195</td>\n",
       "      <td>0.484575</td>\n",
       "    </tr>\n",
       "    <tr>\n",
       "      <th>min</th>\n",
       "      <td>4.000000</td>\n",
       "      <td>0.000000</td>\n",
       "    </tr>\n",
       "    <tr>\n",
       "      <th>25%</th>\n",
       "      <td>27744.000000</td>\n",
       "      <td>0.000000</td>\n",
       "    </tr>\n",
       "    <tr>\n",
       "      <th>50%</th>\n",
       "      <td>54657.000000</td>\n",
       "      <td>0.000000</td>\n",
       "    </tr>\n",
       "    <tr>\n",
       "      <th>75%</th>\n",
       "      <td>82322.000000</td>\n",
       "      <td>1.000000</td>\n",
       "    </tr>\n",
       "    <tr>\n",
       "      <th>max</th>\n",
       "      <td>110148.000000</td>\n",
       "      <td>1.000000</td>\n",
       "    </tr>\n",
       "  </tbody>\n",
       "</table>\n",
       "</div>"
      ],
      "text/plain": [
       "           client_id       default\n",
       "count   36349.000000  36349.000000\n",
       "mean    54945.647473      0.376737\n",
       "std     31706.052195      0.484575\n",
       "min         4.000000      0.000000\n",
       "25%     27744.000000      0.000000\n",
       "50%     54657.000000      0.000000\n",
       "75%     82322.000000      1.000000\n",
       "max    110148.000000      1.000000"
      ]
     },
     "execution_count": 49,
     "metadata": {},
     "output_type": "execute_result"
    }
   ],
   "source": [
    "sample_submission.describe()"
   ]
  },
  {
   "cell_type": "code",
   "execution_count": 50,
   "id": "097c3d25",
   "metadata": {
    "execution": {
     "iopub.execute_input": "2022-05-14T13:26:50.908563Z",
     "iopub.status.busy": "2022-05-14T13:26:50.908004Z",
     "iopub.status.idle": "2022-05-14T13:26:51.625419Z",
     "shell.execute_reply": "2022-05-14T13:26:51.624816Z",
     "shell.execute_reply.started": "2022-05-14T13:24:39.625321Z"
    },
    "papermill": {
     "duration": 0.784286,
     "end_time": "2022-05-14T13:26:51.625566",
     "exception": false,
     "start_time": "2022-05-14T13:26:50.841280",
     "status": "completed"
    },
    "tags": []
   },
   "outputs": [
    {
     "name": "stdout",
     "output_type": "stream",
     "text": [
      "Traceback (most recent call last):\r\n",
      "  File \"/opt/conda/bin/kaggle\", line 5, in <module>\r\n",
      "    from kaggle.cli import main\r\n",
      "  File \"/opt/conda/lib/python3.7/site-packages/kaggle/__init__.py\", line 23, in <module>\r\n",
      "    api.authenticate()\r\n",
      "  File \"/opt/conda/lib/python3.7/site-packages/kaggle/api/kaggle_api_extended.py\", line 166, in authenticate\r\n",
      "    self.config_file, self.config_dir))\r\n",
      "OSError: Could not find kaggle.json. Make sure it's located in /root/.kaggle. Or use the environment method.\r\n"
     ]
    }
   ],
   "source": [
    "!kaggle competitions submit -c sf-scoring -f ssubmission.csv -m \"Message\"\n",
    "# !kaggle competitions submit your-competition-name -f submission.csv -m 'My submission message'"
   ]
  }
 ],
 "metadata": {
  "kernelspec": {
   "display_name": "Python 3",
   "language": "python",
   "name": "python3"
  },
  "language_info": {
   "codemirror_mode": {
    "name": "ipython",
    "version": 3
   },
   "file_extension": ".py",
   "mimetype": "text/x-python",
   "name": "python",
   "nbconvert_exporter": "python",
   "pygments_lexer": "ipython3",
   "version": "3.7.10"
  },
  "papermill": {
   "default_parameters": {},
   "duration": 111.09624,
   "end_time": "2022-05-14T13:26:52.831592",
   "environment_variables": {},
   "exception": null,
   "input_path": "__notebook__.ipynb",
   "output_path": "__notebook__.ipynb",
   "parameters": {},
   "start_time": "2022-05-14T13:25:01.735352",
   "version": "2.3.3"
  }
 },
 "nbformat": 4,
 "nbformat_minor": 5
}
